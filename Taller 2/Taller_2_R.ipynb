{
  "cells": [
    {
      "cell_type": "markdown",
      "metadata": {},
      "source": [
        "# Taller 2 - Estadística II (R)\n",
        "\n",
        "Este notebook implementa en R las 11 pruebas de hipótesis del Taller 2 usando el archivo `Combinado.csv`. \n"
      ]
    },
    {
      "cell_type": "markdown",
      "metadata": {},
      "source": [
        "#   Datos a usar\n",
        "cuántitativas: \n",
        "1. P3094S3 : Cuánto ahorro por cultivar\n",
        "2. P3087S1: Valor mensual por practicas o pasantías\n",
        "3. P3095S3: Valor ahorra por criar animales\n",
        "# Cualitativas\n",
        "4. P3101: ¿Fue a reuniones familiares durante las ultimas 4 semanas? si o no"
      ]
    },
    {
      "cell_type": "markdown",
      "metadata": {},
      "source": [
        "# Pruebas de Hipótesis a Desarrollar\n",
        "1. Prueba de hipótesis para la media de una muestra con varianza conocida\n",
        "2. Prueba de hipótesis para la proporción de una muestra\n",
        "3. Prueba de hipótesis para la media de una muestra con varianza desconocida\n",
        "4. Prueba de hipótesis para la diferencia de medias de dos muestras con varianzas conocidas\n",
        "5. Prueba de hipótesis para la diferencia de medias de dos muestras con varianzas iguales y desconocidas\n",
        "6. Prueba de hipótesis para la diferencia de medias de dos muestras con varianzas desiguales y desconocidas\n",
        "7. Prueba de hipótesis para la diferencia de proporciones de dos muestras\n",
        "8. Prueba de hipótesis para muestras dependientes\n",
        "9. Prueba de bondad de ajuste\n",
        "10. Prueba de independencia\n",
        "11. Prueba de signos"
      ]
    },
    {
      "cell_type": "markdown",
      "metadata": {},
      "source": [
        "### Librerias\n"
      ]
    },
    {
      "cell_type": "code",
      "execution_count": 100,
      "metadata": {
        "vscode": {
          "languageId": "r"
        }
      },
      "outputs": [
        {
          "name": "stdout",
          "output_type": "stream",
          "text": [
            "✅ Librerías listas:\n",
            "[1] \"tidyverse\" \"readr\"     \"stringr\"   \"broom\"     \"ggplot2\"  \n"
          ]
        }
      ],
      "source": [
        "# Setup: instalar y cargar librerías\n",
        "required_pkgs <- c(\"tidyverse\", \"readr\", \"stringr\", \"broom\", \"ggplot2\")\n",
        "install_if_needed <- function(pkg) {\n",
        "  if (!requireNamespace(pkg, quietly = TRUE)) {\n",
        "    install.packages(pkg, repos = \"https://cloud.r-project.org\")\n",
        "  }\n",
        "}\n",
        "invisible(lapply(required_pkgs, install_if_needed))\n",
        "\n",
        "suppressPackageStartupMessages({\n",
        "  library(tidyverse)\n",
        "  library(readr)\n",
        "  library(stringr)\n",
        "  library(broom)\n",
        "  library(ggplot2)\n",
        "})\n",
        "\n",
        "cat(\"✅ Librerías listas:\\n\"); print(required_pkgs)\n"
      ]
    },
    {
      "cell_type": "code",
      "execution_count": 101,
      "metadata": {
        "vscode": {
          "languageId": "r"
        }
      },
      "outputs": [],
      "source": [
        "# Contenedor de resultados y export util\n",
        "suppressPackageStartupMessages({\n",
        "  library(jsonlite)\n",
        "})\n",
        "results <- list()\n"
      ]
    },
    {
      "cell_type": "markdown",
      "metadata": {},
      "source": [
        "### Carga y limpieza de datos"
      ]
    },
    {
      "cell_type": "code",
      "execution_count": 102,
      "metadata": {
        "vscode": {
          "languageId": "r"
        }
      },
      "outputs": [
        {
          "name": "stdout",
          "output_type": "stream",
          "text": [
            "✔ Archivo encontrado en: ../Taller 1/Combinado.csv \n",
            "\n",
            "Conteos tras limpieza (no NA):\n",
            "P3087S1_clean: 336 \n",
            "P3094S3_clean: 2892 \n",
            "P3095S3_clean: 4080 \n",
            "\n",
            "Distribución P3101_bin (1=Sí,0=No):\n",
            "\n",
            "     0      1 \n",
            "163423   2918 \n"
          ]
        }
      ],
      "source": [
        "# Carga y limpieza de datos\n",
        "find_existing_path <- function(paths) {\n",
        "  for (p in paths) {\n",
        "    if (file.exists(p)) return(p)\n",
        "  }\n",
        "  stop(\"No se encontró 'Combinado.csv' en rutas esperadas\")\n",
        "}\n",
        "paths <- c(\"Combinado.csv\", \"../Combinado.csv\", \"Taller 1/Combinado.csv\", \"../Taller 1/Combinado.csv\")\n",
        "csv_path <- find_existing_path(paths)\n",
        "cat(\"✔ Archivo encontrado en:\", csv_path, \"\\n\")\n",
        "\n",
        "df_raw <- readr::read_csv(\n",
        "  csv_path,\n",
        "  locale = locale(encoding = \"UTF-8\"),\n",
        "  show_col_types = FALSE,\n",
        "  col_types = cols(\n",
        "    .default = col_guess(),\n",
        "    P3094S3 = col_character(),\n",
        "    P3087S1 = col_character(),\n",
        "    P3095S3 = col_character(),\n",
        "    P3101   = col_guess()\n",
        "  )\n",
        ")\n",
        "\n",
        "clean_numeric <- function(x) {\n",
        "  x_chr <- as.character(x)\n",
        "  x_chr <- str_trim(x_chr)\n",
        "  x_chr <- str_replace_all(x_chr, \"\\\\s+\", \"\")\n",
        "  x_chr <- str_replace_all(x_chr, \"[€$£'\\\"]\", \"\")\n",
        "  x_chr <- str_replace_all(x_chr, \"\\\\.\", \"\")\n",
        "  x_chr <- str_replace_all(x_chr, \",\", \".\")\n",
        "  suppressWarnings(as.numeric(x_chr))\n",
        "}\n",
        "\n",
        "# Codificación binaria de P3101: 1 = Sí, 2 = No\n",
        "p3101_raw <- suppressWarnings(as.integer(df_raw$P3101))\n",
        "p3101_bin <- case_when(\n",
        "  p3101_raw == 1L ~ 1L,\n",
        "  p3101_raw == 2L ~ 0L,\n",
        "  TRUE ~ NA_integer_\n",
        ")\n",
        "\n",
        "df <- df_raw %>%\n",
        "  mutate(\n",
        "    P3094S3_clean = clean_numeric(P3094S3),\n",
        "    P3087S1_clean = clean_numeric(P3087S1),\n",
        "    P3095S3_clean = clean_numeric(P3095S3),\n",
        "    P3101_bin     = p3101_bin\n",
        "  )\n",
        "\n",
        "cat(\"\\nConteos tras limpieza (no NA):\\n\")\n",
        "cat(\"P3087S1_clean:\", sum(!is.na(df$P3087S1_clean)), \"\\n\")\n",
        "cat(\"P3094S3_clean:\", sum(!is.na(df$P3094S3_clean)), \"\\n\")\n",
        "cat(\"P3095S3_clean:\", sum(!is.na(df$P3095S3_clean)), \"\\n\")\n",
        "cat(\"\\nDistribución P3101_bin (1=Sí,0=No):\\n\"); print(table(df$P3101_bin, useNA = \"ifany\"))\n"
      ]
    },
    {
      "cell_type": "markdown",
      "metadata": {},
      "source": [
        "## Funciones para las 11 pruebas de hipótesis\n"
      ]
    },
    {
      "cell_type": "code",
      "execution_count": 103,
      "metadata": {
        "vscode": {
          "languageId": "r"
        }
      },
      "outputs": [],
      "source": [
        "z_test_media_conocida <- function(x, mu0, sigma, alternative = \"two.sided\", alpha = 0.05) {\n",
        "  x <- na.omit(x); n <- length(x); if (n == 0) stop(\"Muestra vacía\")\n",
        "  x_bar <- mean(x); se <- sigma / sqrt(n); z_stat <- (x_bar - mu0) / se\n",
        "  if (alternative == \"two.sided\") { p_value <- 2 * (1 - pnorm(abs(z_stat))); crit <- qnorm(1 - alpha/2) }\n",
        "  else if (alternative == \"greater\") { p_value <- 1 - pnorm(z_stat); crit <- qnorm(1 - alpha) }\n",
        "  else if (alternative == \"less\") { p_value <- pnorm(z_stat); crit <- qnorm(alpha) }\n",
        "  else stop(\"alternative inválido\")\n",
        "  z_crit <- qnorm(1 - alpha/2); ci <- c(x_bar - z_crit * se, x_bar + z_crit * se)\n",
        "  list(z = z_stat, p_value = p_value, crit = crit, mean = x_bar, se = se, ci = ci, decision = ifelse(p_value < alpha, \"Rechazar H0\", \"No rechazar H0\"))\n",
        "}\n",
        "\n",
        "z_test_proporcion <- function(x, p0, alternative = \"two.sided\", alpha = 0.05) {\n",
        "  x <- na.omit(x); if (!all(x %in% c(0,1))) stop(\"x debe ser binaria 0/1\")\n",
        "  n <- length(x); p_hat <- mean(x); se <- sqrt(p0 * (1 - p0) / n); z_stat <- (p_hat - p0) / se\n",
        "  if (alternative == \"two.sided\") { p_value <- 2 * (1 - pnorm(abs(z_stat))); crit <- qnorm(1 - alpha/2) }\n",
        "  else if (alternative == \"greater\") { p_value <- 1 - pnorm(z_stat); crit <- qnorm(1 - alpha) }\n",
        "  else if (alternative == \"less\") { p_value <- pnorm(z_stat); crit <- qnorm(alpha) }\n",
        "  else stop(\"alternative inválido\")\n",
        "  z_crit <- qnorm(1 - alpha/2); se_ci <- sqrt(p_hat * (1 - p_hat) / n); ci <- c(p_hat - z_crit * se_ci, p_hat + z_crit * se_ci)\n",
        "  list(z = z_stat, p_value = p_value, crit = crit, phat = p_hat, se = se, ci = ci, decision = ifelse(p_value < alpha, \"Rechazar H0\", \"No rechazar H0\"))\n",
        "}\n",
        "\n",
        "t_test_media_desconocida <- function(x, mu0, alternative = \"two.sided\", alpha = 0.05) {\n",
        "  x <- na.omit(x); n <- length(x); if (n < 2) stop(\"Se requieren al menos 2 observaciones\")\n",
        "  x_bar <- mean(x); s <- sd(x); se <- s / sqrt(n); t_stat <- (x_bar - mu0) / se; df <- n - 1\n",
        "  if (alternative == \"two.sided\") { p_value <- 2 * (1 - pt(abs(t_stat), df)); crit <- qt(1 - alpha/2, df) }\n",
        "  else if (alternative == \"greater\") { p_value <- 1 - pt(t_stat, df); crit <- qt(1 - alpha, df) }\n",
        "  else if (alternative == \"less\") { p_value <- pt(t_stat, df); crit <- qt(alpha, df) }\n",
        "  else stop(\"alternative inválido\")\n",
        "  t_crit <- qt(1 - alpha/2, df); ci <- c(x_bar - t_crit * se, x_bar + t_crit * se)\n",
        "  list(t = t_stat, p_value = p_value, crit = crit, df = df, mean = x_bar, s = s, se = se, ci = ci, decision = ifelse(p_value < alpha, \"Rechazar H0\", \"No rechazar H0\"))\n",
        "}\n",
        "\n",
        "z_test_dif_medias_conocidas <- function(x1, x2, sigma1, sigma2, mu0 = 0, alternative = \"two.sided\", alpha = 0.05) {\n",
        "  x1 <- na.omit(x1); x2 <- na.omit(x2); n1 <- length(x1); n2 <- length(x2)\n",
        "  x1_bar <- mean(x1); x2_bar <- mean(x2); se <- sqrt(sigma1^2/n1 + sigma2^2/n2); z_stat <- ((x1_bar - x2_bar) - mu0) / se\n",
        "  if (alternative == \"two.sided\") { p_value <- 2 * (1 - pnorm(abs(z_stat))); crit <- qnorm(1 - alpha/2) }\n",
        "  else if (alternative == \"greater\") { p_value <- 1 - pnorm(z_stat); crit <- qnorm(1 - alpha) }\n",
        "  else if (alternative == \"less\") { p_value <- pnorm(z_stat); crit <- qnorm(alpha) }\n",
        "  else stop(\"alternative inválido\")\n",
        "  z_crit <- qnorm(1 - alpha/2); ci <- c((x1_bar - x2_bar) - z_crit * se, (x1_bar - x2_bar) + z_crit * se)\n",
        "  list(z = z_stat, p_value = p_value, crit = crit, mean1 = x1_bar, mean2 = x2_bar, diff = x1_bar - x2_bar, se = se, ci = ci, decision = ifelse(p_value < alpha, \"Rechazar H0\", \"No rechazar H0\"))\n",
        "}\n",
        "\n",
        "t_test_dif_medias_iguales <- function(x1, x2, mu0 = 0, alternative = \"two.sided\", alpha = 0.05) {\n",
        "  x1 <- na.omit(x1); x2 <- na.omit(x2); n1 <- length(x1); n2 <- length(x2); s1 <- sd(x1); s2 <- sd(x2)\n",
        "  sp2 <- (((n1 - 1) * s1^2) + ((n2 - 1) * s2^2)) / (n1 + n2 - 2)\n",
        "  se <- sqrt(sp2 * (1/n1 + 1/n2)); t_stat <- ((mean(x1) - mean(x2)) - mu0) / se; df <- n1 + n2 - 2\n",
        "  if (alternative == \"two.sided\") { p_value <- 2 * (1 - pt(abs(t_stat), df)); crit <- qt(1 - alpha/2, df) }\n",
        "  else if (alternative == \"greater\") { p_value <- 1 - pt(t_stat, df); crit <- qt(1 - alpha, df) }\n",
        "  else if (alternative == \"less\") { p_value <- pt(t_stat, df); crit <- qt(alpha, df) }\n",
        "  else stop(\"alternative inválido\")\n",
        "  t_crit <- qt(1 - alpha/2, df); ci <- c((mean(x1) - mean(x2)) - t_crit * se, (mean(x1) - mean(x2)) + t_crit * se)\n",
        "  list(t = t_stat, p_value = p_value, crit = crit, df = df, diff = mean(x1) - mean(x2), sp2 = sp2, se = se, ci = ci, decision = ifelse(p_value < alpha, \"Rechazar H0\", \"No rechazar H0\"))\n",
        "}\n",
        "\n",
        "t_test_dif_medias_desiguales <- function(x1, x2, mu0 = 0, alternative = \"two.sided\", alpha = 0.05) {\n",
        "  x1 <- na.omit(x1); x2 <- na.omit(x2); n1 <- length(x1); n2 <- length(x2); s1 <- sd(x1); s2 <- sd(x2)\n",
        "  se <- sqrt(s1^2/n1 + s2^2/n2); df <- (s1^2/n1 + s2^2/n2)^2 / ((s1^2/n1)^2/(n1-1) + (s2^2/n2)^2/(n2-1))\n",
        "  t_stat <- ((mean(x1) - mean(x2)) - mu0) / se\n",
        "  if (alternative == \"two.sided\") { p_value <- 2 * (1 - pt(abs(t_stat), df)); crit <- qt(1 - alpha/2, df) }\n",
        "  else if (alternative == \"greater\") { p_value <- 1 - pt(t_stat, df); crit <- qt(1 - alpha, df) }\n",
        "  else if (alternative == \"less\") { p_value <- pt(t_stat, df); crit <- qt(alpha, df) }\n",
        "  else stop(\"alternative inválido\")\n",
        "  t_crit <- qt(1 - alpha/2, df); ci <- c((mean(x1) - mean(x2)) - t_crit * se, (mean(x1) - mean(x2)) + t_crit * se)\n",
        "  list(t = t_stat, p_value = p_value, crit = crit, df = df, diff = mean(x1) - mean(x2), se = se, ci = ci, decision = ifelse(p_value < alpha, \"Rechazar H0\", \"No rechazar H0\"))\n",
        "}\n",
        "\n",
        "z_test_dif_proporciones <- function(x1, n1, x2, n2, p0 = 0, alternative = \"two.sided\", alpha = 0.05) {\n",
        "  p1_hat <- x1 / n1; p2_hat <- x2 / n2; p_comb <- (x1 + x2) / (n1 + n2)\n",
        "  se <- sqrt(p_comb * (1 - p_comb) * (1/n1 + 1/n2)); z_stat <- ((p1_hat - p2_hat) - p0) / se\n",
        "  if (alternative == \"two.sided\") { p_value <- 2 * (1 - pnorm(abs(z_stat))); crit <- qnorm(1 - alpha/2) }\n",
        "  else if (alternative == \"greater\") { p_value <- 1 - pnorm(z_stat); crit <- qnorm(1 - alpha) }\n",
        "  else if (alternative == \"less\") { p_value <- pnorm(z_stat); crit <- qnorm(alpha) }\n",
        "  else stop(\"alternative inválido\")\n",
        "  z_crit <- qnorm(1 - alpha/2); se_ci <- sqrt(p1_hat*(1-p1_hat)/n1 + p2_hat*(1-p2_hat)/n2); ci <- c((p1_hat - p2_hat) - z_crit * se_ci, (p1_hat - p2_hat) + z_crit * se_ci)\n",
        "  list(z = z_stat, p_value = p_value, crit = crit, p1 = p1_hat, p2 = p2_hat, diff = p1_hat - p2_hat, p_comb = p_comb, se = se, ci = ci, decision = ifelse(p_value < alpha, \"Rechazar H0\", \"No rechazar H0\"))\n",
        "}\n",
        "\n",
        "t_test_pareado <- function(x1, x2, mu0 = 0, alternative = \"two.sided\", alpha = 0.05) {\n",
        "  if (length(x1) != length(x2)) stop(\"Longitudes distintas\")\n",
        "  d <- x1 - x2; n <- length(d); d_bar <- mean(d, na.rm = TRUE); s_d <- sd(d, na.rm = TRUE); se <- s_d / sqrt(n)\n",
        "  t_stat <- (d_bar - mu0) / se; df <- n - 1\n",
        "  if (alternative == \"two.sided\") { p_value <- 2 * (1 - pt(abs(t_stat), df)); crit <- qt(1 - alpha/2, df) }\n",
        "  else if (alternative == \"greater\") { p_value <- 1 - pt(t_stat, df); crit <- qt(1 - alpha, df) }\n",
        "  else if (alternative == \"less\") { p_value <- pt(t_stat, df); crit <- qt(alpha, df) }\n",
        "  else stop(\"alternative inválido\")\n",
        "  t_crit <- qt(1 - alpha/2, df); ci <- c(d_bar - t_crit * se, d_bar + t_crit * se)\n",
        "  list(t = t_stat, p_value = p_value, crit = crit, df = df, d_bar = d_bar, s_d = s_d, se = se, ci = ci, decision = ifelse(p_value < alpha, \"Rechazar H0\", \"No rechazar H0\"))\n",
        "}\n",
        "\n",
        "chi2_bondad_ajuste <- function(x, expected_props = NULL, alpha = 0.05) {\n",
        "  x <- as.integer(na.omit(x)); if (length(x) == 0) stop(\"Muestra vacía\")\n",
        "  observed <- table(x); k <- length(observed); n <- sum(observed)\n",
        "  if (is.null(expected_props)) expected_props <- rep(1/k, k) else {\n",
        "    if (length(expected_props) != k) stop(\"Dimensiones no coinciden\"); expected_props <- expected_props / sum(expected_props)\n",
        "  }\n",
        "  expected <- n * expected_props; chi2_stat <- sum((as.numeric(observed) - expected)^2 / expected)\n",
        "  df <- k - 1; p_value <- 1 - pchisq(chi2_stat, df); crit <- qchisq(1 - alpha, df)\n",
        "  list(chi2 = chi2_stat, p_value = p_value, crit = crit, df = df, observed = observed, expected = expected, decision = ifelse(p_value < alpha, \"Rechazar H0\", \"No rechazar H0\"))\n",
        "}\n",
        "\n",
        "chi2_independencia <- function(x, y, alpha = 0.05) {\n",
        "  tab <- table(x, y); test <- suppressWarnings(chisq.test(tab, correct = FALSE))\n",
        "  list(chi2 = unname(test$statistic), p_value = unname(test$p.value), df = unname(test$parameter), expected = test$expected, observed = tab,\n",
        "       crit = qchisq(1 - alpha, df = unname(test$parameter)), decision = ifelse(test$p.value < alpha, \"Rechazar H0\", \"No rechazar H0\"))\n",
        "}\n",
        "\n",
        "prueba_signos <- function(x, y, alternative = \"two.sided\", alpha = 0.05) {\n",
        "  if (length(x) != length(y)) stop(\"Longitudes distintas\")\n",
        "  d <- x - y; pos <- sum(d > 0, na.rm = TRUE); neg <- sum(d < 0, na.rm = TRUE); emp <- sum(d == 0, na.rm = TRUE); n <- pos + neg\n",
        "  if (n == 0) return(list(stat = 0, p_value = 1, pos = pos, neg = neg, emp = emp, n = n, decision = \"No rechazar H0\"))\n",
        "  stat <- min(pos, neg)\n",
        "  if (alternative == \"two.sided\") p_value <- 2 * pbinom(stat, n, 0.5) else if (alternative == \"greater\") p_value <- 1 - pbinom(pos - 1, n, 0.5) else if (alternative == \"less\") p_value <- pbinom(pos, n, 0.5) else stop(\"alternative inválido\")\n",
        "  list(stat = stat, p_value = p_value, pos = pos, neg = neg, emp = emp, n = n, decision = ifelse(p_value < alpha, \"Rechazar H0\", \"No rechazar H0\"))\n",
        "}\n"
      ]
    },
    {
      "cell_type": "markdown",
      "metadata": {},
      "source": [
        "## Aplicación de las pruebas\n"
      ]
    },
    {
      "cell_type": "markdown",
      "metadata": {},
      "source": [
        "### Prueba 1: Media de una muestra con varianza conocida (Z)\n",
        "\n",
        "- Hipótesis: H0: μ = μ0; H1: μ ≠ μ0 (o >, <)\n",
        "- Variable: `P3095S3_clean` (ahorro por criar animales)\n",
        "- Supuesto: σ conocida (usaremos 500000 como valor de referencia)\n",
        "- Nivel de significancia: α = 0.05\n"
      ]
    },
    {
      "cell_type": "code",
      "execution_count": 104,
      "metadata": {
        "vscode": {
          "languageId": "r"
        }
      },
      "outputs": [
        {
          "name": "stdout",
          "output_type": "stream",
          "text": [
            "$z\n",
            "[1] 7.597453\n",
            "\n",
            "$p_value\n",
            "[1] 3.019807e-14\n",
            "\n",
            "$crit\n",
            "[1] 1.959964\n",
            "\n",
            "$mean\n",
            "[1] 159471.4\n",
            "\n",
            "$se\n",
            "[1] 7827.804\n",
            "\n",
            "$ci\n",
            "[1] 144129.2 174813.6\n",
            "\n",
            "$decision\n",
            "[1] \"Rechazar H0\"\n",
            "\n"
          ]
        }
      ],
      "source": [
        "mu0 <- 100000; sigma0 <- 500000\n",
        "x <- na.omit(df$P3095S3_clean)\n",
        "if (length(x) >= 1) {\n",
        "  res_z1 <- z_test_media_conocida(x, mu0 = mu0, sigma = sigma0)\n",
        "  print(res_z1)\n",
        "  results$z_media_conocida <- res_z1\n",
        "} else {\n",
        "  cat(\"⚠️ No hay datos suficientes en P3095S3_clean para la prueba Z de media.\\n\")\n",
        "}\n"
      ]
    },
    {
      "cell_type": "code",
      "execution_count": 105,
      "metadata": {
        "vscode": {
          "languageId": "r"
        }
      },
      "outputs": [],
      "source": [
        "# Inicializar contenedor de resultados\n",
        "results <- list()\n"
      ]
    },
    {
      "cell_type": "markdown",
      "metadata": {},
      "source": [
        "### Prueba 2: Proporción de una muestra (Z)\n",
        "\n",
        "**¿Qué contrasta esta prueba?**\n",
        "Esta prueba evalúa si la proporción poblacional de personas que asistieron a reuniones familiares (`P3101_bin`) difiere significativamente de p₀ = 0.5 (50%). Es adecuada porque tenemos una variable binaria (Sí/No) y queremos comparar la proporción observada con una hipótesis específica.\n",
        "\n",
        "**Hipótesis:**\n",
        "- H₀: p = 0.5 (el 50% de la población asistió a reuniones familiares)\n",
        "- H₁: p ≠ 0.5 (la proporción poblacional difiere del 50%)\n",
        "\n",
        "**Interpretación contextual:**\n",
        "- **Rechazar H₀**: Hay evidencia de que la proporción real de asistencia a reuniones familiares difiere significativamente del 50%. Esto sugiere un patrón de asistencia no equilibrado en la población.\n",
        "- **No rechazar H₀**: Los datos son consistentes con la hipótesis de que la mitad de la población asiste a reuniones familiares.\n",
        "\n",
        "**Supuestos clave:**\n",
        "- La variable es binaria (0/1 o Sí/No)\n",
        "- Las observaciones son independientes\n",
        "- Muestra aleatoria de la población\n",
        "- Tamaño muestral suficiente: np₀ ≥ 5 y n(1-p₀) ≥ 5\n",
        "- Distribución muestral de la proporción aproximadamente normal\n",
        "\n",
        "**Significado del estadístico y IC:**\n",
        "- **Estadístico Z**: Mide cuántas desviaciones estándar se aleja la proporción muestral de p₀. Valores extremos indican evidencia contra H₀.\n",
        "- **Intervalo de confianza**: Rango de valores plausibles para la proporción poblacional. Si p₀ no está en el IC, rechazamos H₀.\n"
      ]
    },
    {
      "cell_type": "code",
      "execution_count": 106,
      "metadata": {
        "vscode": {
          "languageId": "r"
        }
      },
      "outputs": [
        {
          "name": "stdout",
          "output_type": "stream",
          "text": [
            "$z\n",
            "[1] -393.54\n",
            "\n",
            "$p_value\n",
            "[1] 0\n",
            "\n",
            "$crit\n",
            "[1] 1.959964\n",
            "\n",
            "$phat\n",
            "[1] 0.01754228\n",
            "\n",
            "$se\n",
            "[1] 0.001225943\n",
            "\n",
            "$ci\n",
            "[1] 0.01691140 0.01817316\n",
            "\n",
            "$decision\n",
            "[1] \"Rechazar H0\"\n",
            "\n"
          ]
        }
      ],
      "source": [
        "p0 <- 0.5\n",
        "y <- na.omit(df$P3101_bin)\n",
        "if (length(y) >= 1 && all(y %in% c(0L,1L))) {\n",
        "  res_z2 <- z_test_proporcion(y, p0 = p0)\n",
        "  print(res_z2)\n",
        "  results$z_proporcion <- res_z2\n",
        "} else {\n",
        "  cat(\"⚠️ P3101_bin no disponible o no binaria.\\n\")\n",
        "}\n"
      ]
    },
    {
      "cell_type": "markdown",
      "metadata": {},
      "source": [
        "### Prueba 3: Media de una muestra con varianza desconocida (t)\n",
        "\n",
        "**¿Qué contrasta esta prueba?**\n",
        "Esta prueba evalúa si la media poblacional del valor mensual por prácticas o pasantías (`P3087S1_clean`) difiere significativamente de μ₀ = 200,000 pesos. Es adecuada porque tenemos una variable cuantitativa continua pero no conocemos la varianza poblacional, por lo que usamos la distribución t.\n",
        "\n",
        "**Hipótesis:**\n",
        "- H₀: μ = 200,000 (la media poblacional del valor mensual por prácticas es 200,000 pesos)\n",
        "- H₁: μ ≠ 200,000 (la media poblacional difiere de 200,000 pesos)\n",
        "\n",
        "**Interpretación contextual:**\n",
        "- **Rechazar H₀**: Hay evidencia de que el valor promedio mensual por prácticas en la población difiere significativamente de 200,000 pesos. Esto sugiere que las prácticas tienen un valor económico diferente al esperado.\n",
        "- **No rechazar H₀**: Los datos son consistentes con la hipótesis de que el valor promedio mensual es 200,000 pesos.\n",
        "\n",
        "**Supuestos clave:**\n",
        "- La variable sigue una distribución normal (o n ≥ 30 por el TCL)\n",
        "- La desviación estándar poblacional es desconocida\n",
        "- Las observaciones son independientes\n",
        "- Muestra aleatoria de la población\n",
        "- Se usa la varianza muestral para estimar σ\n",
        "\n",
        "**Significado del estadístico y IC:**\n",
        "- **Estadístico t**: Similar al Z pero usa la desviación estándar muestral. Se distribuye como t con n-1 grados de libertad.\n",
        "- **Intervalo de confianza**: Rango de valores plausibles para la media poblacional usando la distribución t. Más amplio que el IC con Z debido a la incertidumbre adicional.\n"
      ]
    },
    {
      "cell_type": "code",
      "execution_count": 107,
      "metadata": {
        "vscode": {
          "languageId": "r"
        }
      },
      "outputs": [
        {
          "name": "stdout",
          "output_type": "stream",
          "text": [
            "$t\n",
            "[1] 23.53874\n",
            "\n",
            "$p_value\n",
            "[1] 0\n",
            "\n",
            "$crit\n",
            "[1] 1.967071\n",
            "\n",
            "$df\n",
            "[1] 335\n",
            "\n",
            "$mean\n",
            "[1] 998708.3\n",
            "\n",
            "$s\n",
            "[1] 621977.4\n",
            "\n",
            "$se\n",
            "[1] 33931.65\n",
            "\n",
            "$ci\n",
            "[1]  931962.4 1065454.3\n",
            "\n",
            "$decision\n",
            "[1] \"Rechazar H0\"\n",
            "\n"
          ]
        }
      ],
      "source": [
        "mu0 <- 200000\n",
        "x <- na.omit(df$P3087S1_clean)\n",
        "if (length(x) >= 2) {\n",
        "  res_t1 <- t_test_media_desconocida(x, mu0 = mu0)\n",
        "  print(res_t1)\n",
        "  results$t_media <- res_t1\n",
        "} else {\n",
        "  cat(\"⚠️ Se requieren al menos 2 observaciones en P3087S1_clean.\\n\")\n",
        "}\n"
      ]
    },
    {
      "cell_type": "markdown",
      "metadata": {},
      "source": [
        "### Prueba 4: Diferencia de medias (σ conocidas) - Z\n",
        "\n",
        "**¿Qué contrasta esta prueba?**\n",
        "Esta prueba evalúa si existe una diferencia significativa entre las medias poblacionales de ahorro por cultivar (`P3094S3_clean`) y ahorro por criar animales (`P3095S3_clean`). Es adecuada porque comparamos dos variables cuantitativas independientes y asumimos conocer sus desviaciones estándar poblacionales.\n",
        "\n",
        "**Hipótesis:**\n",
        "- H₀: μ₁ - μ₂ = 0 (no hay diferencia entre el ahorro promedio por cultivar y por criar animales)\n",
        "- H₁: μ₁ - μ₂ ≠ 0 (existe diferencia significativa entre ambos tipos de ahorro)\n",
        "\n",
        "**Interpretación contextual:**\n",
        "- **Rechazar H₀**: Hay evidencia de que el ahorro promedio por cultivar difiere significativamente del ahorro por criar animales. Esto sugiere que una actividad es más rentable que la otra.\n",
        "- **No rechazar H₀**: Los datos son consistentes con la hipótesis de que ambas actividades generan ahorros similares en promedio.\n",
        "\n",
        "**Supuestos clave:**\n",
        "- Ambas variables siguen distribución normal (o n₁, n₂ ≥ 30)\n",
        "- Las desviaciones estándar poblacionales son conocidas (σ₁ = 300,000, σ₂ = 500,000)\n",
        "- Las muestras son independientes\n",
        "- Muestras aleatorias de sus respectivas poblaciones\n",
        "- Las observaciones dentro de cada muestra son independientes\n",
        "\n",
        "**Significado del estadístico y IC:**\n",
        "- **Estadístico Z**: Mide cuántas desviaciones estándar se aleja la diferencia de medias muestrales de cero. Valores grandes indican evidencia contra H₀.\n",
        "- **Intervalo de confianza**: Rango de valores plausibles para la diferencia de medias poblacionales. Si 0 no está en el IC, rechazamos H₀.\n"
      ]
    },
    {
      "cell_type": "code",
      "execution_count": 108,
      "metadata": {
        "vscode": {
          "languageId": "r"
        }
      },
      "outputs": [
        {
          "name": "stdout",
          "output_type": "stream",
          "text": [
            "$z\n",
            "[1] -3.384629\n",
            "\n",
            "$p_value\n",
            "[1] 0.000712746\n",
            "\n",
            "$crit\n",
            "[1] 1.959964\n",
            "\n",
            "$mean1\n",
            "[1] 126937.6\n",
            "\n",
            "$mean2\n",
            "[1] 159471.4\n",
            "\n",
            "$diff\n",
            "[1] -32533.81\n",
            "\n",
            "$se\n",
            "[1] 9612.224\n",
            "\n",
            "$ci\n",
            "[1] -51373.42 -13694.20\n",
            "\n",
            "$decision\n",
            "[1] \"Rechazar H0\"\n",
            "\n"
          ]
        }
      ],
      "source": [
        "sigma1 <- 300000; sigma2 <- 500000\n",
        "x1 <- na.omit(df$P3094S3_clean); x2 <- na.omit(df$P3095S3_clean)\n",
        "if (length(x1) >= 1 && length(x2) >= 1) {\n",
        "  res_z3 <- z_test_dif_medias_conocidas(x1, x2, sigma1 = sigma1, sigma2 = sigma2)\n",
        "  print(res_z3)\n",
        "  results$z_dif_medias <- res_z3\n",
        "} else {\n",
        "  cat(\"⚠️ No hay datos suficientes en las muestras para la prueba Z de diferencia de medias.\\n\")\n",
        "}\n"
      ]
    },
    {
      "cell_type": "markdown",
      "metadata": {},
      "source": [
        "### Prueba 5: Diferencia de medias (varianzas iguales, desconocidas) - t (pooled)\n",
        "\n",
        "**¿Qué contrasta esta prueba?**\n",
        "Esta prueba evalúa si existe una diferencia significativa entre las medias poblacionales del valor mensual por prácticas (`P3087S1_clean`) y el ahorro por cultivar (`P3094S3_clean`). Es adecuada porque comparamos dos variables cuantitativas independientes, asumimos varianzas poblacionales iguales pero desconocidas, y usamos la varianza combinada (pooled).\n",
        "\n",
        "**Hipótesis:**\n",
        "- H₀: μ₁ - μ₂ = 0 (no hay diferencia entre el valor promedio de prácticas y el ahorro promedio por cultivar)\n",
        "- H₁: μ₁ - μ₂ ≠ 0 (existe diferencia significativa entre ambos valores)\n",
        "\n",
        "**Interpretación contextual:**\n",
        "- **Rechazar H₀**: Hay evidencia de que el valor promedio mensual por prácticas difiere significativamente del ahorro promedio por cultivar. Esto sugiere diferencias económicas importantes entre estas actividades.\n",
        "- **No rechazar H₀**: Los datos son consistentes con la hipótesis de que ambas actividades tienen valores económicos similares en promedio.\n",
        "\n",
        "**Supuestos clave:**\n",
        "- Ambas variables siguen distribución normal (o n₁, n₂ ≥ 30)\n",
        "- Las varianzas poblacionales son iguales pero desconocidas (σ₁² = σ₂²)\n",
        "- Las muestras son independientes\n",
        "- Muestras aleatorias de sus respectivas poblaciones\n",
        "- Se usa la varianza combinada (pooled) para estimar la varianza común\n",
        "\n",
        "**Significado del estadístico y IC:**\n",
        "- **Estadístico t**: Usa la varianza combinada y se distribuye como t con n₁ + n₂ - 2 grados de libertad.\n",
        "- **Intervalo de confianza**: Rango de valores plausibles para la diferencia de medias usando la distribución t con gl combinados.\n"
      ]
    },
    {
      "cell_type": "code",
      "execution_count": 109,
      "metadata": {
        "vscode": {
          "languageId": "r"
        }
      },
      "outputs": [
        {
          "name": "stdout",
          "output_type": "stream",
          "text": [
            "$t\n",
            "[1] 34.61998\n",
            "\n",
            "$p_value\n",
            "[1] 0\n",
            "\n",
            "$crit\n",
            "[1] 1.9607\n",
            "\n",
            "$df\n",
            "[1] 3226\n",
            "\n",
            "$diff\n",
            "[1] 871770.8\n",
            "\n",
            "$sp2\n",
            "[1] 190877666859\n",
            "\n",
            "$se\n",
            "[1] 25181.15\n",
            "\n",
            "$ci\n",
            "[1] 822398.1 921143.4\n",
            "\n",
            "$decision\n",
            "[1] \"Rechazar H0\"\n",
            "\n"
          ]
        }
      ],
      "source": [
        "x1 <- na.omit(df$P3087S1_clean); x2 <- na.omit(df$P3094S3_clean)\n",
        "if (length(x1) >= 2 && length(x2) >= 2) {\n",
        "  res_t2 <- t_test_dif_medias_iguales(x1, x2)\n",
        "  print(res_t2)\n",
        "  results$t_pooled <- res_t2\n",
        "} else {\n",
        "  cat(\"⚠️ Se requieren al menos 2 observaciones en cada muestra para t pooled.\\n\")\n",
        "}\n"
      ]
    },
    {
      "cell_type": "markdown",
      "metadata": {},
      "source": [
        "### Prueba 6: Diferencia de medias (varianzas desiguales, desconocidas) - t de Welch\n",
        "\n",
        "**¿Qué contrasta esta prueba?**\n",
        "Esta prueba evalúa si existe una diferencia significativa entre las medias poblacionales del valor mensual por prácticas (`P3087S1_clean`) y el ahorro por criar animales (`P3095S3_clean`). Es adecuada porque comparamos dos variables cuantitativas independientes pero no asumimos que las varianzas poblacionales sean iguales, usando la aproximación de Welch.\n",
        "\n",
        "**Hipótesis:**\n",
        "- H₀: μ₁ - μ₂ = 0 (no hay diferencia entre el valor promedio de prácticas y el ahorro promedio por criar animales)\n",
        "- H₁: μ₁ - μ₂ ≠ 0 (existe diferencia significativa entre ambos valores)\n",
        "\n",
        "**Interpretación contextual:**\n",
        "- **Rechazar H₀**: Hay evidencia de que el valor promedio mensual por prácticas difiere significativamente del ahorro promedio por criar animales. Esto sugiere diferencias económicas importantes entre estas actividades.\n",
        "- **No rechazar H₀**: Los datos son consistentes con la hipótesis de que ambas actividades tienen valores económicos similares en promedio.\n",
        "\n",
        "**Supuestos clave:**\n",
        "- Ambas variables siguen distribución normal (o n₁, n₂ ≥ 30)\n",
        "- Las varianzas poblacionales pueden ser diferentes (σ₁² ≠ σ₂²)\n",
        "- Las muestras son independientes\n",
        "- Muestras aleatorias de sus respectivas poblaciones\n",
        "- Se usa la aproximación de Welch para los grados de libertad\n",
        "\n",
        "**Significado del estadístico y IC:**\n",
        "- **Estadístico t**: Usa las varianzas muestrales por separado y se distribuye como t con grados de libertad de Welch (aproximados).\n",
        "- **Intervalo de confianza**: Rango de valores plausibles para la diferencia de medias usando la distribución t con gl de Welch.\n"
      ]
    },
    {
      "cell_type": "code",
      "execution_count": 110,
      "metadata": {
        "vscode": {
          "languageId": "r"
        }
      },
      "outputs": [
        {
          "name": "stdout",
          "output_type": "stream",
          "text": [
            "$t\n",
            "[1] 24.06936\n",
            "\n",
            "$p_value\n",
            "[1] 0\n",
            "\n",
            "$crit\n",
            "[1] 1.966337\n",
            "\n",
            "$df\n",
            "[1] 373.4165\n",
            "\n",
            "$diff\n",
            "[1] 839237\n",
            "\n",
            "$se\n",
            "[1] 34867.44\n",
            "\n",
            "$ci\n",
            "[1] 770675.8 907798.1\n",
            "\n",
            "$decision\n",
            "[1] \"Rechazar H0\"\n",
            "\n"
          ]
        }
      ],
      "source": [
        "x1 <- na.omit(df$P3087S1_clean); x2 <- na.omit(df$P3095S3_clean)\n",
        "if (length(x1) >= 2 && length(x2) >= 2) {\n",
        "  res_t3 <- t_test_dif_medias_desiguales(x1, x2)\n",
        "  print(res_t3)\n",
        "  results$t_welch <- res_t3\n",
        "} else {\n",
        "  cat(\"⚠️ Se requieren al menos 2 observaciones en cada muestra para t de Welch.\\n\")\n",
        "}\n"
      ]
    },
    {
      "cell_type": "markdown",
      "metadata": {},
      "source": [
        "### Prueba 7: Diferencia de proporciones (Z)\n",
        "\n",
        "**¿Qué contrasta esta prueba?**\n",
        "Esta prueba evalúa si existe una diferencia significativa en la proporción de asistencia a reuniones familiares (`P3101_bin`) entre dos grupos definidos por el valor mensual de prácticas (`P3087S1_clean`): grupo bajo (≤ mediana) vs grupo alto (> mediana). Es adecuada porque comparamos proporciones de una variable binaria entre dos grupos independientes.\n",
        "\n",
        "**Hipótesis:**\n",
        "- H₀: p₁ - p₂ = 0 (no hay diferencia en la proporción de asistencia a reuniones familiares entre grupos de bajo y alto valor de prácticas)\n",
        "- H₁: p₁ - p₂ ≠ 0 (existe diferencia significativa en las proporciones de asistencia entre grupos)\n",
        "\n",
        "**Interpretación contextual:**\n",
        "- **Rechazar H₀**: Hay evidencia de que la proporción de asistencia a reuniones familiares difiere significativamente entre personas con bajo vs alto valor de prácticas. Esto sugiere una asociación entre el nivel económico (prácticas) y la participación familiar.\n",
        "- **No rechazar H₀**: Los datos son consistentes con la hipótesis de que la asistencia a reuniones familiares es similar en ambos grupos económicos.\n",
        "\n",
        "**Supuestos clave:**\n",
        "- La variable de respuesta es binaria (0/1)\n",
        "- Los grupos son independientes\n",
        "- Muestras aleatorias de cada grupo\n",
        "- Tamaños muestrales suficientes: n₁p₁ ≥ 5, n₁(1-p₁) ≥ 5, n₂p₂ ≥ 5, n₂(1-p₂) ≥ 5\n",
        "- Distribución muestral de la diferencia de proporciones aproximadamente normal\n",
        "\n",
        "**Significado del estadístico y IC:**\n",
        "- **Estadístico Z**: Mide cuántas desviaciones estándar se aleja la diferencia de proporciones muestrales de cero.\n",
        "- **Intervalo de confianza**: Rango de valores plausibles para la diferencia de proporciones poblacionales.\n"
      ]
    },
    {
      "cell_type": "code",
      "execution_count": 111,
      "metadata": {
        "vscode": {
          "languageId": "r"
        }
      },
      "outputs": [
        {
          "name": "stdout",
          "output_type": "stream",
          "text": [
            "$z\n",
            "[1] 0.4265208\n",
            "\n",
            "$p_value\n",
            "[1] 0.6697284\n",
            "\n",
            "$crit\n",
            "[1] 1.959964\n",
            "\n",
            "$p1\n",
            "[1] 0.01376147\n",
            "\n",
            "$p2\n",
            "[1] 0.008474576\n",
            "\n",
            "$diff\n",
            "[1] 0.005286892\n",
            "\n",
            "$p_comb\n",
            "[1] 0.01190476\n",
            "\n",
            "$se\n",
            "[1] 0.01239539\n",
            "\n",
            "$ci\n",
            "[1] -0.01735617  0.02792996\n",
            "\n",
            "$decision\n",
            "[1] \"No rechazar H0\"\n",
            "\n"
          ]
        }
      ],
      "source": [
        "comp <- df %>% select(P3101_bin, P3087S1_clean) %>% drop_na()\n",
        "if (nrow(comp) >= 2) {\n",
        "  med <- median(comp$P3087S1_clean)\n",
        "  g1 <- comp %>% filter(P3087S1_clean <= med)\n",
        "  g2 <- comp %>% filter(P3087S1_clean > med)\n",
        "  x1 <- sum(g1$P3101_bin == 1L, na.rm = TRUE); n1 <- nrow(g1)\n",
        "  x2 <- sum(g2$P3101_bin == 1L, na.rm = TRUE); n2 <- nrow(g2)\n",
        "  if (n1 > 0 && n2 > 0) {\n",
        "    res_z4 <- z_test_dif_proporciones(x1, n1, x2, n2)\n",
        "    print(res_z4)\n",
        "    results$z_dif_prop <- res_z4\n",
        "  } else {\n",
        "    cat(\"⚠️ Algún grupo quedó vacío tras filtrado.\\n\")\n",
        "  }\n",
        "} else {\n",
        "  cat(\"⚠️ No hay datos suficientes para formar grupos.\\n\")\n",
        "}\n"
      ]
    },
    {
      "cell_type": "markdown",
      "metadata": {},
      "source": [
        "### Prueba 8: Muestras dependientes (t pareado)\n",
        "\n",
        "**¿Qué contrasta esta prueba?**\n",
        "Esta prueba evalúa si existe una diferencia significativa entre el ahorro por cultivar (`P3094S3_clean`) y el ahorro por criar animales (`P3095S3_clean`) en las mismas personas. Es adecuada porque tenemos observaciones pareadas (misma persona reporta ambos valores) y queremos evaluar si hay un cambio sistemático entre estas dos actividades.\n",
        "\n",
        "**Hipótesis:**\n",
        "- H₀: μd = 0 (no hay diferencia sistemática entre el ahorro por cultivar y por criar animales en la misma persona)\n",
        "- H₁: μd ≠ 0 (existe diferencia sistemática entre ambos tipos de ahorro)\n",
        "\n",
        "**Interpretación contextual:**\n",
        "- **Rechazar H₀**: Hay evidencia de que las personas sistemáticamente ahorran más (o menos) en una actividad que en la otra. Esto sugiere que una actividad es consistentemente más rentable que la otra.\n",
        "- **No rechazar H₀**: Los datos son consistentes con la hipótesis de que no hay diferencia sistemática entre ambos tipos de ahorro en las mismas personas.\n",
        "\n",
        "**Supuestos clave:**\n",
        "- Las observaciones están pareadas (misma persona, mismo hogar)\n",
        "- Las diferencias siguen distribución normal (o n ≥ 30)\n",
        "- Las diferencias son independientes entre pares\n",
        "- Muestra aleatoria de pares\n",
        "- Se analiza la distribución de las diferencias, no las variables originales\n",
        "\n",
        "**Significado del estadístico y IC:**\n",
        "- **Estadístico t**: Se basa en la media y desviación estándar de las diferencias, con n-1 grados de libertad.\n",
        "- **Intervalo de confianza**: Rango de valores plausibles para la media de las diferencias poblacionales.\n"
      ]
    },
    {
      "cell_type": "code",
      "execution_count": 112,
      "metadata": {
        "vscode": {
          "languageId": "r"
        }
      },
      "outputs": [
        {
          "name": "stdout",
          "output_type": "stream",
          "text": [
            "$t\n",
            "[1] 0.6112736\n",
            "\n",
            "$p_value\n",
            "[1] 0.5411258\n",
            "\n",
            "$crit\n",
            "[1] 1.961798\n",
            "\n",
            "$df\n",
            "[1] 1295\n",
            "\n",
            "$d_bar\n",
            "[1] 9776.682\n",
            "\n",
            "$s_d\n",
            "[1] 575782.4\n",
            "\n",
            "$se\n",
            "[1] 15993.96\n",
            "\n",
            "$ci\n",
            "[1] -21600.22  41153.58\n",
            "\n",
            "$decision\n",
            "[1] \"No rechazar H0\"\n",
            "\n"
          ]
        }
      ],
      "source": [
        "pair_df <- df %>% select(P3094S3_clean, P3095S3_clean) %>% drop_na()\n",
        "if (nrow(pair_df) >= 2) {\n",
        "  res_t4 <- t_test_pareado(pair_df$P3094S3_clean, pair_df$P3095S3_clean)\n",
        "  print(res_t4)\n",
        "  results$t_pareado <- res_t4\n",
        "} else {\n",
        "  cat(\"⚠️ Se requieren al menos 2 pares válidos para t pareado.\\n\")\n",
        "}\n"
      ]
    },
    {
      "cell_type": "markdown",
      "metadata": {},
      "source": [
        "### Prueba 9: Bondad de ajuste (Chi-cuadrado)\n",
        "\n",
        "**¿Qué contrasta esta prueba?**\n",
        "Esta prueba evalúa si la distribución observada de asistencia a reuniones familiares (`P3101_bin`) se ajusta a una distribución esperada uniforme (50% Sí, 50% No). Es adecuada porque tenemos una variable categórica y queremos verificar si sigue una distribución específica (uniforme en este caso).\n",
        "\n",
        "**Hipótesis:**\n",
        "- H₀: La distribución observada se ajusta a la distribución esperada (50% Sí, 50% No)\n",
        "- H₁: La distribución observada no se ajusta a la distribución esperada\n",
        "\n",
        "**Interpretación contextual:**\n",
        "- **Rechazar H₀**: Hay evidencia de que la distribución real de asistencia a reuniones familiares difiere significativamente de la distribución uniforme esperada. Esto sugiere un patrón de asistencia no equilibrado en la población.\n",
        "- **No rechazar H₀**: Los datos son consistentes con la hipótesis de que la asistencia a reuniones familiares sigue una distribución uniforme (50%-50%).\n",
        "\n",
        "**Supuestos clave:**\n",
        "- La variable es categórica con k categorías\n",
        "- Las observaciones son independientes\n",
        "- Muestra aleatoria de la población\n",
        "- Frecuencias esperadas ≥ 5 para todas las categorías\n",
        "- Se compara la distribución observada con una distribución teórica específica\n",
        "\n",
        "**Significado del estadístico y IC:**\n",
        "- **Estadístico χ²**: Mide la discrepancia entre frecuencias observadas y esperadas. Valores grandes indican desajuste.\n",
        "- **Grados de libertad**: k - 1, donde k es el número de categorías.\n"
      ]
    },
    {
      "cell_type": "code",
      "execution_count": 113,
      "metadata": {
        "vscode": {
          "languageId": "r"
        }
      },
      "outputs": [
        {
          "name": "stdout",
          "output_type": "stream",
          "text": [
            "$chi2\n",
            "[1] 154873.8\n",
            "\n",
            "$p_value\n",
            "[1] 0\n",
            "\n",
            "$crit\n",
            "[1] 3.841459\n",
            "\n",
            "$df\n",
            "[1] 1\n",
            "\n",
            "$observed\n",
            "x\n",
            "     0      1 \n",
            "163423   2918 \n",
            "\n",
            "$expected\n",
            "[1] 83170.5 83170.5\n",
            "\n",
            "$decision\n",
            "[1] \"Rechazar H0\"\n",
            "\n"
          ]
        }
      ],
      "source": [
        "x <- df$P3101_bin\n",
        "if (!is.null(x) && any(!is.na(x))) {\n",
        "  res_chi2_1 <- chi2_bondad_ajuste(x, expected_props = c(0.5, 0.5))\n",
        "  print(res_chi2_1)\n",
        "  # Convertir tablas a listas para JSON\n",
        "  res_chi2_1$observed <- as.list(res_chi2_1$observed)\n",
        "  res_chi2_1$expected <- as.list(res_chi2_1$expected)\n",
        "  results$chi2_gof <- res_chi2_1\n",
        "} else {\n",
        "  cat(\"⚠️ P3101_bin no disponible para bondad de ajuste.\\n\")\n",
        "}\n"
      ]
    },
    {
      "cell_type": "markdown",
      "metadata": {},
      "source": [
        "### Prueba 10: Independencia (Chi-cuadrado)\n",
        "\n",
        "**¿Qué contrasta esta prueba?**\n",
        "Esta prueba evalúa si existe asociación entre la asistencia a reuniones familiares (`P3101_bin`) y el nivel de valor de prácticas (`P3087S1_clean` agrupado en terciles: Bajo, Medio, Alto). Es adecuada porque tenemos dos variables categóricas y queremos determinar si son independientes o están asociadas.\n",
        "\n",
        "**Hipótesis:**\n",
        "- H₀: Las variables son independientes (no hay asociación entre asistencia a reuniones familiares y nivel de valor de prácticas)\n",
        "- H₁: Las variables están asociadas (existe dependencia entre asistencia a reuniones familiares y nivel de valor de prácticas)\n",
        "\n",
        "**Interpretación contextual:**\n",
        "- **Rechazar H₀**: Hay evidencia de asociación entre la asistencia a reuniones familiares y el nivel económico (valor de prácticas). Esto sugiere que el nivel económico influye en la participación familiar.\n",
        "- **No rechazar H₀**: Los datos son consistentes con la hipótesis de independencia. No hay evidencia de que el nivel económico afecte la asistencia a reuniones familiares.\n",
        "\n",
        "**Supuestos clave:**\n",
        "- Ambas variables son categóricas\n",
        "- Las observaciones son independientes\n",
        "- Muestra aleatoria de la población\n",
        "- Frecuencias esperadas ≥ 5 en al menos el 80% de las celdas\n",
        "- Se construye una tabla de contingencia (frecuencias cruzadas)\n",
        "\n",
        "**Significado del estadístico y IC:**\n",
        "- **Estadístico χ²**: Mide la discrepancia entre frecuencias observadas y esperadas bajo independencia. Valores grandes indican asociación.\n",
        "- **Grados de libertad**: (r-1)(c-1), donde r y c son el número de filas y columnas.\n"
      ]
    },
    {
      "cell_type": "code",
      "execution_count": 114,
      "metadata": {
        "vscode": {
          "languageId": "r"
        }
      },
      "outputs": [
        {
          "name": "stdout",
          "output_type": "stream",
          "text": [
            "$chi2\n",
            "[1] 0.2573086\n",
            "\n",
            "$p_value\n",
            "[1] 0.8792779\n",
            "\n",
            "$df\n",
            "[1] 2\n",
            "\n",
            "$expected\n",
            "       y\n",
            "x              0        1\n",
            "  Bajo  125.4881 1.511905\n",
            "  Medio 100.7857 1.214286\n",
            "  Alto  105.7262 1.273810\n",
            "\n",
            "$observed\n",
            "       y\n",
            "x         0   1\n",
            "  Bajo  125   2\n",
            "  Medio 101   1\n",
            "  Alto  106   1\n",
            "\n",
            "$crit\n",
            "[1] 5.991465\n",
            "\n",
            "$decision\n",
            "[1] \"No rechazar H0\"\n",
            "\n"
          ]
        }
      ],
      "source": [
        "ind <- df %>% select(P3101_bin, P3087S1_clean) %>% drop_na()\n",
        "if (nrow(ind) >= 2) {\n",
        "  q33 <- quantile(ind$P3087S1_clean, 0.33)\n",
        "  q67 <- quantile(ind$P3087S1_clean, 0.67)\n",
        "  grupo <- cut(ind$P3087S1_clean, breaks = c(-Inf, q33, q67, Inf), labels = c(\"Bajo\", \"Medio\", \"Alto\"))\n",
        "  asist <- ind$P3101_bin\n",
        "  res_chi2_ind <- chi2_independencia(grupo, asist)\n",
        "  print(res_chi2_ind)\n",
        "  # Convertir tablas a listas para JSON\n",
        "  res_chi2_ind$observed <- as.list(res_chi2_ind$observed)\n",
        "  res_chi2_ind$expected <- as.list(res_chi2_ind$expected)\n",
        "  results$chi2_ind <- res_chi2_ind\n",
        "} else {\n",
        "  cat(\"⚠️ No hay datos suficientes para la prueba de independencia.\\n\")\n",
        "}\n"
      ]
    },
    {
      "cell_type": "markdown",
      "metadata": {},
      "source": [
        "### Prueba 11: Prueba de signos (muestras pareadas)\n",
        "\n",
        "**¿Qué contrasta esta prueba?**\n",
        "Esta prueba evalúa si existe una tendencia sistemática en las diferencias entre los rankings de ahorro por cultivar (`P3094S3_clean`) y ahorro por criar animales (`P3095S3_clean`) en las mismas personas. Es adecuada porque tenemos observaciones pareadas y queremos detectar sesgos direccionales sin asumir normalidad.\n",
        "\n",
        "**Hipótesis:**\n",
        "- H₀: No hay diferencia sistemática de signos (el número de diferencias positivas y negativas es similar)\n",
        "- H₁: Existe diferencia sistemática de signos (hay más diferencias en una dirección que en la otra)\n",
        "\n",
        "**Interpretación contextual:**\n",
        "- **Rechazar H₀**: Hay evidencia de una tendencia sistemática en las diferencias entre rankings. Esto sugiere que una actividad tiende a tener rankings consistentemente más altos que la otra.\n",
        "- **No rechazar H₀**: Los datos son consistentes con la hipótesis de que no hay tendencia sistemática. Las diferencias de ranking son aleatorias.\n",
        "\n",
        "**Supuestos clave:**\n",
        "- Las observaciones están pareadas\n",
        "- Las diferencias son independientes entre pares\n",
        "- Se ignoran las diferencias exactamente iguales (empates)\n",
        "- No se requiere normalidad de las diferencias\n",
        "- Se basa únicamente en los signos de las diferencias, no en sus magnitudes\n",
        "\n",
        "**Significado del estadístico y IC:**\n",
        "- **Estadístico**: Número mínimo de signos positivos o negativos. Se distribuye como binomial con p = 0.5.\n",
        "- **p-valor**: Probabilidad de observar al menos tantas diferencias en la dirección menos frecuente bajo H₀.\n"
      ]
    },
    {
      "cell_type": "code",
      "execution_count": 115,
      "metadata": {
        "vscode": {
          "languageId": "r"
        }
      },
      "outputs": [
        {
          "name": "stdout",
          "output_type": "stream",
          "text": [
            "$stat\n",
            "[1] 616\n",
            "\n",
            "$p_value\n",
            "[1] 0.08486947\n",
            "\n",
            "$pos\n",
            "[1] 679\n",
            "\n",
            "$neg\n",
            "[1] 616\n",
            "\n",
            "$emp\n",
            "[1] 1\n",
            "\n",
            "$n\n",
            "[1] 1295\n",
            "\n",
            "$decision\n",
            "[1] \"No rechazar H0\"\n",
            "\n"
          ]
        }
      ],
      "source": [
        "pair_df <- df %>% select(P3094S3_clean, P3095S3_clean) %>% drop_na()\n",
        "if (nrow(pair_df) >= 1) {\n",
        "  r1 <- rank(pair_df$P3094S3_clean, ties.method = \"average\")\n",
        "  r2 <- rank(pair_df$P3095S3_clean, ties.method = \"average\")\n",
        "  res_signos <- prueba_signos(r1, r2)\n",
        "  print(res_signos)\n",
        "  results$signos <- res_signos\n",
        "} else {\n",
        "  cat(\"⚠️ No hay pares válidos para la prueba de signos.\\n\")\n",
        "}\n"
      ]
    },
    {
      "cell_type": "code",
      "execution_count": 116,
      "metadata": {
        "vscode": {
          "languageId": "r"
        }
      },
      "outputs": [
        {
          "name": "stdout",
          "output_type": "stream",
          "text": [
            "✅ Resultados exportados a: resultados_pruebas.json \n",
            "\n",
            "📊 RESUMEN DE PRUEBAS EJECUTADAS:\n",
            "================================\n",
            "1. z_proporcion: Rechazar H0 (p=0.000000)\n",
            "2. t_media: Rechazar H0 (p=0.000000)\n",
            "3. z_dif_medias: Rechazar H0 (p=0.000713)\n",
            "4. t_pooled: Rechazar H0 (p=0.000000)\n",
            "5. t_welch: Rechazar H0 (p=0.000000)\n",
            "6. z_dif_prop: No rechazar H0 (p=0.669728)\n",
            "7. t_pareado: No rechazar H0 (p=0.541126)\n",
            "8. chi2_gof: Rechazar H0 (p=0.000000)\n",
            "9. chi2_ind: No rechazar H0 (p=0.879278)\n",
            "10. signos: No rechazar H0 (p=0.084869)\n"
          ]
        }
      ],
      "source": [
        "# Exportar resultados a JSON\n",
        "json_path <- \"resultados_pruebas.json\"\n",
        "jsonlite::write_json(results, json_path, pretty = TRUE, auto_unbox = TRUE)\n",
        "cat(\"✅ Resultados exportados a:\", json_path, \"\\n\")\n",
        "\n",
        "# Resumen de pruebas ejecutadas\n",
        "cat(\"\\n📊 RESUMEN DE PRUEBAS EJECUTADAS:\\n\")\n",
        "cat(\"================================\\n\")\n",
        "for (i in seq_along(results)) {\n",
        "  test_name <- names(results)[i]\n",
        "  decision <- results[[i]]$decision\n",
        "  p_val <- results[[i]]$p_value\n",
        "  cat(sprintf(\"%d. %s: %s (p=%.6f)\\n\", i, test_name, decision, p_val))\n",
        "}\n"
      ]
    }
  ],
  "metadata": {
    "kernelspec": {
      "display_name": "R",
      "language": "R",
      "name": "ir"
    },
    "language_info": {
      "codemirror_mode": "r",
      "file_extension": ".r",
      "mimetype": "text/x-r-source",
      "name": "R",
      "pygments_lexer": "r",
      "version": "4.5.1"
    }
  },
  "nbformat": 4,
  "nbformat_minor": 2
}
