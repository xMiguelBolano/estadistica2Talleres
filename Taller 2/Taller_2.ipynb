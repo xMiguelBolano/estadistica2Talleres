{
  "nbformat": 4,
  "nbformat_minor": 0,
  "metadata": {
    "colab": {
      "provenance": []
    },
    "kernelspec": {
      "name": "python3",
      "display_name": "Python 3"
    },
    "language_info": {
      "name": "python"
    }
  },
  "cells": [
    {
      "cell_type": "markdown",
      "source": [
        "# **Taller 2**\n"
      ],
      "metadata": {
        "id": "EG7l4BN5n_En"
      }
    },
    {
      "cell_type": "code",
      "source": [
        "#"
      ],
      "metadata": {
        "id": "klkFHQC8oIfu"
      },
      "execution_count": null,
      "outputs": []
    }
  ]
}