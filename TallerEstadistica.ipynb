{
 "cells": [
  {
   "cell_type": "markdown",
   "id": "f383f217-5f25-4fd4-8f7d-08fcb26d02e6",
   "metadata": {
    "vscode": {
     "languageId": "r"
    }
   },
   "source": [
    "# Markdown \n",
    "Otras formas de trabajo\n",
    "#   Datos a usar\n",
    "cuántitativas: \n",
    "P3094S3 : Cuánto ahorro por cultivar\n",
    "# Cualitativas\n",
    "\n",
    "P3101: ¿Fue a reuniones familiares durante las ultimas 4 semanas? si o no"
   ]
  },
  {
   "cell_type": "code",
   "execution_count": null,
   "id": "823b10d9-993e-46f6-abb2-b048c3c538b5",
   "metadata": {
    "trusted": true,
    "vscode": {
     "languageId": "r"
    }
   },
   "outputs": [],
   "source": [
    "library(tidyverse)\n",
    "setwd(\"C:/Users/CENTIC/Desktop/estadistica2taller1\")"
   ]
  },
  {
   "cell_type": "code",
   "execution_count": null,
   "id": "f762f801",
   "metadata": {
    "trusted": true,
    "vscode": {
     "languageId": "r"
    }
   },
   "outputs": [
    {
     "name": "stderr",
     "output_type": "stream",
     "text": [
      "Warning message:\n",
      "\"\u001b[1m\u001b[22mOne or more parsing issues, call `problems()` on your data frame for details,\n",
      "e.g.:\n",
      "  dat <- vroom(...)\n",
      "  problems(dat)\"\n"
     ]
    },
    {
     "name": "stdout",
     "output_type": "stream",
     "text": [
      "✅ Archivo combinado guardado en: C:/Users/juand/OneDrive/libros/estadistica2taller1/Combinado.csv\n"
     ]
    }
   ],
   "source": [
    "# Archivos\n",
    "csv_files <- c(\n",
    "  \"Julio_2024/CSV/Otras formas de trabajo.CSV\",\n",
    "  \"Junio_2024/CSV/Otras formas de trabajo.CSV\",\n",
    "  \"Mayo_2024 1/CSV/Otras formas de trabajo.CSV\"\n",
    ")\n",
    "\n",
    "# Columnas necesarias\n",
    "cols_needed <- c(\"P3094S3\", \"P3087S1\", \"P3095S3\", \"P3101\")\n",
    "\n",
    "# Función para leer y limpiar\n",
    "read_and_clean <- function(file) {\n",
    "  df <- read_delim(\n",
    "    file,\n",
    "    delim = \";\",\n",
    "    col_names = TRUE,\n",
    "    show_col_types = FALSE,\n",
    "    locale = locale(encoding = \"UTF-8\"),\n",
    "    guess_max = 10000\n",
    "  )\n",
    "  \n",
    "  # Seleccionar solo las columnas necesarias\n",
    "  df <- df %>% select(any_of(cols_needed))\n",
    "  \n",
    "  # Limpiar y convertir valores monetarios\n",
    "  df <- df %>%\n",
    "    mutate(\n",
    "      across(c(\"P3094S3\", \"P3087S1\", \"P3095S3\"), ~ {\n",
    "        x <- as.character(.)\n",
    "        x <- gsub(\"\\\\.\", \"\", x)   # eliminar puntos de miles\n",
    "        x <- gsub(\",\", \".\", x)    # convertir coma a punto decimal si la hay\n",
    "        suppressWarnings(as.numeric(x))\n",
    "      })\n",
    "    )\n",
    "  \n",
    "  return(df)\n",
    "}\n",
    "\n",
    "# Leer y combinar\n",
    "combined <- bind_rows(lapply(csv_files, read_and_clean))\n",
    "\n",
    "# Guardar\n",
    "write_csv(combined, \"Combinado.csv\")\n",
    "\n"
   ]
  },
  {
   "cell_type": "code",
   "execution_count": null,
   "id": "0cd79c63",
   "metadata": {
    "trusted": true,
    "vscode": {
     "languageId": "r"
    }
   },
   "outputs": [
    {
     "name": "stdout",
     "output_type": "stream",
     "text": [
      "Variable real detectada: P3094S3 \n",
      "Total filas: 166341    N no-missing: 2892 \n",
      "\u001b[90m# A tibble: 10 × 2\u001b[39m\n",
      "   value_raw value\n",
      "   \u001b[3m\u001b[90m<chr>\u001b[39m\u001b[23m     \u001b[3m\u001b[90m<dbl>\u001b[39m\u001b[23m\n",
      "\u001b[90m 1\u001b[39m \u001b[31mNA\u001b[39m           \u001b[31mNA\u001b[39m\n",
      "\u001b[90m 2\u001b[39m \u001b[31mNA\u001b[39m           \u001b[31mNA\u001b[39m\n",
      "\u001b[90m 3\u001b[39m \u001b[31mNA\u001b[39m           \u001b[31mNA\u001b[39m\n",
      "\u001b[90m 4\u001b[39m \u001b[31mNA\u001b[39m           \u001b[31mNA\u001b[39m\n",
      "\u001b[90m 5\u001b[39m \u001b[31mNA\u001b[39m           \u001b[31mNA\u001b[39m\n",
      "\u001b[90m 6\u001b[39m \u001b[31mNA\u001b[39m           \u001b[31mNA\u001b[39m\n",
      "\u001b[90m 7\u001b[39m \u001b[31mNA\u001b[39m           \u001b[31mNA\u001b[39m\n",
      "\u001b[90m 8\u001b[39m \u001b[31mNA\u001b[39m           \u001b[31mNA\u001b[39m\n",
      "\u001b[90m 9\u001b[39m \u001b[31mNA\u001b[39m           \u001b[31mNA\u001b[39m\n",
      "\u001b[90m10\u001b[39m \u001b[31mNA\u001b[39m           \u001b[31mNA\u001b[39m\n"
     ]
    }
   ],
   "source": [
    "\n",
    "library(readr); library(dplyr)\n",
    "\n",
    "data_path <- \"Combinado.csv\"\n",
    "varname   <- \"P3094S3\"   # variable con la que trabajamos\n",
    "out_dir   <- \"analisis_P3094S3_check\"\n",
    "dir.create(out_dir, showWarnings = FALSE, recursive = TRUE)\n",
    "\n",
    "# Leer todo como carácter para evitar parseos automáticos\n",
    "df_char <- readr::read_csv(data_path,\n",
    "                           col_types = readr::cols(.default = \"c\"),\n",
    "                           locale = readr::locale(encoding = \"UTF-8\"),\n",
    "                           show_col_types = FALSE)\n",
    "\n",
    "# detectar nombre real (insensible a mayúsculas)\n",
    "if (!varname %in% names(df_char)) {\n",
    "  guess <- names(df_char)[tolower(names(df_char)) %in% tolower(varname)]\n",
    "  if (length(guess) == 1) varname_real <- guess else stop(\"No encontré la variable \", varname)\n",
    "} else varname_real <- varname\n",
    "\n",
    "# función robusta de limpieza numérica (monedas, separadores, etc.)\n",
    "clean_numeric2 <- function(x) {\n",
    "  x <- as.character(x)\n",
    "  x[ x %in% c(\"\", \"NA\", NA) ] <- NA_character_\n",
    "  x <- trimws(x)\n",
    "  x <- gsub(\"\\\\s+\", \"\", x)\n",
    "  x <- gsub(\"[^0-9\\\\,\\\\.-]\", \"\", x)\n",
    "  both <- grepl(\"\\\\.\", x) & grepl(\",\", x)\n",
    "  if (any(both)) { x[both] <- gsub(\"\\\\.\", \"\", x[both]); x[both] <- gsub(\",\", \".\", x[both]) }\n",
    "  only_comma <- grepl(\",\", x) & !grepl(\"\\\\.\", x)\n",
    "  x[only_comma] <- gsub(\",\", \".\", x[only_comma])\n",
    "  suppressWarnings(as.numeric(x))\n",
    "}\n",
    "\n",
    "# preparar df_var con la variable limpia y sin modificar el CSV original\n",
    "df_var <- df_char %>%\n",
    "  transmute(\n",
    "    value_raw = .data[[varname_real]],\n",
    "    value = clean_numeric2(.data[[varname_real]])\n",
    "  )\n",
    "\n",
    "# info rápida\n",
    "cat(\"Variable real detectada:\", varname_real, \"\\n\")\n",
    "cat(\"Total filas:\", nrow(df_var), \"   N no-missing:\", sum(!is.na(df_var$value)), \"\\n\")\n",
    "# ver primeras filas\n",
    "print(head(df_var, 10))\n"
   ]
  },
  {
   "cell_type": "code",
   "execution_count": null,
   "id": "730603ab",
   "metadata": {
    "trusted": true,
    "vscode": {
     "languageId": "r"
    }
   },
   "outputs": [
    {
     "name": "stdout",
     "output_type": "stream",
     "text": [
      "=== Descriptivos Básicos ===\n",
      "\u001b[90m# A tibble: 10 × 2\u001b[39m\n",
      "   Medida        Valor\n",
      "   \u001b[3m\u001b[90m<chr>\u001b[39m\u001b[23m         \u001b[3m\u001b[90m<dbl>\u001b[39m\u001b[23m\n",
      "\u001b[90m 1\u001b[39m N total     \u001b[4m1\u001b[24m\u001b[4m6\u001b[24m\u001b[4m6\u001b[24m341 \n",
      "\u001b[90m 2\u001b[39m N missing   \u001b[4m1\u001b[24m\u001b[4m6\u001b[24m\u001b[4m3\u001b[24m449 \n",
      "\u001b[90m 3\u001b[39m Min.          \u001b[4m1\u001b[24m000 \n",
      "\u001b[90m 4\u001b[39m 1st Qu.      \u001b[4m3\u001b[24m\u001b[4m0\u001b[24m000 \n",
      "\u001b[90m 5\u001b[39m Median       \u001b[4m6\u001b[24m\u001b[4m0\u001b[24m000 \n",
      "\u001b[90m 6\u001b[39m Mean        \u001b[4m1\u001b[24m\u001b[4m2\u001b[24m\u001b[4m6\u001b[24m938.\n",
      "\u001b[90m 7\u001b[39m 3rd Qu.     \u001b[4m1\u001b[24m\u001b[4m5\u001b[24m\u001b[4m0\u001b[24m000 \n",
      "\u001b[90m 8\u001b[39m Max.      20\u001b[4m0\u001b[24m\u001b[4m0\u001b[24m\u001b[4m0\u001b[24m000 \n",
      "\u001b[90m 9\u001b[39m SD          \u001b[4m4\u001b[24m\u001b[4m1\u001b[24m\u001b[4m0\u001b[24m083.\n",
      "\u001b[90m10\u001b[39m IQR         \u001b[4m1\u001b[24m\u001b[4m2\u001b[24m\u001b[4m0\u001b[24m000 \n",
      "\n",
      "=== Summary (sobre valores no-missing) ===\n",
      "    Min.  1st Qu.   Median     Mean  3rd Qu.     Max. \n",
      "    1000    30000    60000   126938   150000 20000000 \n"
     ]
    }
   ],
   "source": [
    "library(dplyr)\n",
    "\n",
    "# usa df_var (si no existe la lee desde datos)\n",
    "if (!exists(\"df_var\")) {\n",
    "  data_path <- \"/home/jovyan/estadistica/Combinado.csv\"\n",
    "  df_var <- readr::read_csv(data_path, col_types = readr::cols(.default = \"c\"), show_col_types = FALSE) %>%\n",
    "    transmute(value_raw = .data[[varname]], value = clean_numeric2(.data[[varname]]))\n",
    "}\n",
    "\n",
    "x <- df_var$value\n",
    "x_nm <- x[!is.na(x)]\n",
    "\n",
    "# calcular medidas\n",
    "N_total <- length(x)\n",
    "N_missing <- sum(is.na(x))\n",
    "Min <- ifelse(length(x_nm)>0, min(x_nm, na.rm=TRUE), NA)\n",
    "Q1  <- ifelse(length(x_nm)>0, quantile(x_nm, .25, na.rm=TRUE), NA)\n",
    "Median <- ifelse(length(x_nm)>0, median(x_nm, na.rm=TRUE), NA)\n",
    "Mean <- ifelse(length(x_nm)>0, mean(x_nm, na.rm=TRUE), NA)\n",
    "Q3 <- ifelse(length(x_nm)>0, quantile(x_nm, .75, na.rm=TRUE), NA)\n",
    "Max <- ifelse(length(x_nm)>0, max(x_nm, na.rm=TRUE), NA)\n",
    "SD <- ifelse(length(x_nm)>0, sd(x_nm, na.rm=TRUE), NA)\n",
    "IQRv <- ifelse(length(x_nm)>0, IQR(x_nm, na.rm=TRUE), NA)\n",
    "\n",
    "tabla_vertical <- tibble(\n",
    "  Medida = c(\"N total\",\"N missing\",\"Min.\",\"1st Qu.\",\"Median\",\"Mean\",\"3rd Qu.\",\"Max.\",\"SD\",\"IQR\"),\n",
    "  Valor  = c(N_total, N_missing, Min, Q1, Median, Mean, Q3, Max, SD, IQRv)\n",
    ")\n",
    "\n",
    "cat(\"=== Descriptivos Básicos ===\\n\")\n",
    "print(tabla_vertical)\n",
    "\n",
    "# Mostrar estadísticas resumidas estilo summary()\n",
    "cat(\"\\n=== Summary (sobre valores no-missing) ===\\n\")\n",
    "print(summary(x_nm))\n"
   ]
  },
  {
   "cell_type": "code",
   "execution_count": null,
   "id": "1e61015c",
   "metadata": {
    "trusted": true,
    "vscode": {
     "languageId": "r"
    }
   },
   "outputs": [
    {
     "name": "stderr",
     "output_type": "stream",
     "text": [
      "Installing package into 'C:/Users/CENTIC/AppData/Local/R/win-library/4.5'\n",
      "(as 'lib' is unspecified)\n",
      "\n"
     ]
    },
    {
     "name": "stdout",
     "output_type": "stream",
     "text": [
      "package 'gridExtra' successfully unpacked and MD5 sums checked\n",
      "\n",
      "The downloaded binary packages are in\n",
      "\tC:\\Users\\CENTIC\\AppData\\Local\\Temp\\RtmpwpGtld\\downloaded_packages\n"
     ]
    },
    {
     "name": "stderr",
     "output_type": "stream",
     "text": [
      "Warning message:\n",
      "\"package 'gridExtra' was built under R version 4.5.1\"\n",
      "\n",
      "Adjuntando el paquete: 'gridExtra'\n",
      "\n",
      "\n",
      "The following object is masked from 'package:dplyr':\n",
      "\n",
      "    combine\n",
      "\n",
      "\n"
     ]
    },
    {
     "data": {
      "image/png": "[encoded data removed]",
      "text/plain": [
       "plot without title"
      ]
     },
     "metadata": {
      "image/png": {
       "height": 420,
       "width": 420
      }
     },
     "output_type": "display_data"
    },
    {
     "data": {
      "image/png": "[encoded data removed]",
      "text/plain": [
       "plot without title"
      ]
     },
     "metadata": {
      "image/png": {
       "height": 420,
       "width": 420
      }
     },
     "output_type": "display_data"
    },
    {
     "data": {
      "image/png": "[encoded data removed]",
      "text/plain": [
       "plot without title"
      ]
     },
     "metadata": {
      "image/png": {
       "height": 420,
       "width": 420
      }
     },
     "output_type": "display_data"
    },
    {
     "name": "stderr",
     "output_type": "stream",
     "text": [
      "Gráficos guardados en: analisis_P3094S3_check/plots\n",
      "\n"
     ]
    },
    {
     "data": {
      "image/png": "[encoded data removed]",
      "text/plain": [
       "plot without title"
      ]
     },
     "metadata": {
      "image/png": {
       "height": 420,
       "width": 420
      }
     },
     "output_type": "display_data"
    }
   ],
   "source": [
    "if (!requireNamespace(\"gridExtra\", quietly = TRUE)) {\n",
    "  install.packages(\"gridExtra\", repos = \"https://cloud.r-project.org\")\n",
    "}\n",
    "library(gridExtra)\n",
    "\n",
    "library(ggplot2); \n",
    "\n",
    "plot_dir <- file.path(out_dir, \"plots\")\n",
    "dir.create(plot_dir, showWarnings = FALSE, recursive = TRUE)\n",
    "\n",
    "x <- df_var$value\n",
    "x_nm <- x[!is.na(x)]\n",
    "\n",
    "if (length(x_nm) == 0) {\n",
    "  message(\"No hay datos no-missing: no se generan gráficos.\")\n",
    "} else {\n",
    "  df_plot <- df_var %>% filter(!is.na(value))\n",
    "\n",
    "  # Histograma lineal\n",
    "  ph <- ggplot(df_plot, aes(x=value)) +\n",
    "    geom_histogram(bins = 60) +\n",
    "    labs(title = paste(\"Histograma de\", varname_real), x = varname_real, y = \"Frecuencia\") +\n",
    "    theme_minimal()\n",
    "  ggsave(file.path(plot_dir, paste0(\"hist_\", varname_real, \".png\")), ph, width=8, height=4)\n",
    "  print(ph)\n",
    "\n",
    "  # Boxplot\n",
    "  pb <- ggplot(df_plot, aes(y=value)) +\n",
    "    geom_boxplot() +\n",
    "    labs(title = paste(\"Boxplot de\", varname_real), y = varname_real) +\n",
    "    theme_minimal()\n",
    "  ggsave(file.path(plot_dir, paste0(\"boxplot_\", varname_real, \".png\")), pb, width=6, height=4)\n",
    "  print(pb)\n",
    "\n",
    "  # Histograma log1p (si hay valores > 0)\n",
    "  if (any(df_plot$value > 0, na.rm=TRUE)) {\n",
    "    df_plot <- df_plot %>% mutate(value_log1p = log1p(value))\n",
    "    pl <- ggplot(df_plot, aes(x=value_log1p)) + geom_histogram(bins = 60) +\n",
    "      labs(title = paste(\"Histograma log1p(\", varname_real, \")\"), x = \"log1p(value)\") + theme_minimal()\n",
    "    ggsave(file.path(plot_dir, paste0(\"hist_log1p_\", varname_real, \".png\")), pl, width=8, height=4)\n",
    "    print(pl)\n",
    "  }\n",
    "\n",
    "  # Density con escala log y sin log\n",
    "  pd <- ggplot(df_plot, aes(x=value)) + geom_density() + theme_minimal() +\n",
    "    labs(title = paste(\"Densidad -\", varname_real))\n",
    "  ggsave(file.path(plot_dir, paste0(\"density_\", varname_real, \".png\")), pd, width=8, height=4)\n",
    "  print(pd)\n",
    "\n",
    "  message(\"Gráficos guardados en: \", plot_dir)\n",
    "}\n"
   ]
  },
  {
   "cell_type": "code",
   "execution_count": null,
   "id": "4e3d0299",
   "metadata": {
    "trusted": true,
    "vscode": {
     "languageId": "r"
    }
   },
   "outputs": [
    {
     "name": "stdout",
     "output_type": "stream",
     "text": [
      "===== Estimadores puntuales =====\n",
      "\n",
      "Por Analogía:\n",
      "  Media: 126,937.6\n",
      "  Mediana: 60,000\n",
      "  Moda(s): 50000\n",
      "\n",
      "Por Máxima Verosimilitud:\n",
      "  Media (MV): 126,937.6\n",
      "  Mediana (MV, referencia): 60,000\n",
      "\n",
      "===== Estimadores por intervalo (IC 95%) =====\n",
      "\n",
      "IC 95% para media (t-interval): [ 111,985.4 , 141,889.7 ]\n",
      "Bootstrap IC 95% para media (percentil): [ 114,812.9 , 143,873.7 ]\n",
      "No se pudo calcular Bootstrap IC para mediana.\n",
      "\n",
      "FIN Celda 4: estimadores y CIs calculados.\n"
     ]
    }
   ],
   "source": [
    "est_mean   <- mean(x_nm)\n",
    "est_median <- median(x_nm)\n",
    "# MV para media (asumiendo normalidad)\n",
    "est_MV_mean <- est_mean\n",
    "est_MV_median <- est_median  # No es MV para mediana pero lo dejamos como referencia\n",
    "\n",
    "# Moda (pueden haber varias)\n",
    "mode_basic_all <- function(v) {\n",
    "  v2 <- v[!is.na(v)]\n",
    "  if (length(v2) == 0) return(NA)\n",
    "  tb <- sort(table(v2), decreasing = TRUE)\n",
    "  names(tb)[tb == max(tb)]\n",
    "}\n",
    "modes <- mode_basic_all(x_nm)\n",
    "mode_report <- paste(modes, collapse = \", \")\n",
    "\n",
    "cat(\"===== Estimadores puntuales =====\\n\\n\")\n",
    "\n",
    "cat(\"Por Analogía:\\n\")\n",
    "cat(sprintf(\"  Media: %s\\n\", format(round(est_mean, 2), big.mark=\",\")))\n",
    "cat(sprintf(\"  Mediana: %s\\n\", format(round(est_median, 2), big.mark=\",\")))\n",
    "cat(sprintf(\"  Moda(s): %s\\n\\n\", mode_report))\n",
    "\n",
    "cat(\"Por Máxima Verosimilitud:\\n\")\n",
    "cat(sprintf(\"  Media (MV): %s\\n\", format(round(est_MV_mean, 2), big.mark=\",\")))\n",
    "cat(sprintf(\"  Mediana (MV, referencia): %s\\n\\n\", format(round(est_MV_median, 2), big.mark=\",\")))\n",
    "\n",
    "\n",
    "# 2) Estimadores por intervalo (IC 95%)\n",
    "cat(\"===== Estimadores por intervalo (IC 95%) =====\\n\\n\")\n",
    "\n",
    "# t-interval para media\n",
    "if (length(x_nm) > 1) {\n",
    "  tt <- try(t.test(x_nm), silent = TRUE)\n",
    "  if (!inherits(tt, \"try-error\")) {\n",
    "    ci_t <- tt$conf.int\n",
    "    cat(sprintf(\"IC 95%% para media (t-interval): [ %s , %s ]\\n\",\n",
    "                format(round(ci_t[1], 2), big.mark=\",\"),\n",
    "                format(round(ci_t[2], 2), big.mark=\",\")))\n",
    "  } else {\n",
    "    cat(\"No se pudo calcular IC t-interval para media.\\n\")\n",
    "  }\n",
    "} else {\n",
    "  cat(\"No hay datos suficientes para calcular IC t-interval para media.\\n\")\n",
    "}\n",
    "\n",
    "# Bootstrap para media\n",
    "if (!inherits(boot_mean, \"try-error\")) {\n",
    "  ci_mean <- tryCatch({\n",
    "    boot.ci(boot_mean, type = c(\"perc\",\"bca\"))\n",
    "  }, error = function(e) e)\n",
    "\n",
    "  if (!inherits(ci_mean, \"error\")) {\n",
    "    # Preferimos perc o bca\n",
    "    if (!is.null(ci_mean$percent)) {\n",
    "      ci_vals <- ci_mean$percent[4:5]\n",
    "      cat(sprintf(\"Bootstrap IC 95%% para media (percentil): [ %s , %s ]\\n\",\n",
    "                  format(round(ci_vals[1], 2), big.mark=\",\"),\n",
    "                  format(round(ci_vals[2], 2), big.mark=\",\")))\n",
    "    } else if (!is.null(ci_mean$bca)) {\n",
    "      ci_vals <- ci_mean$bca[4:5]\n",
    "      cat(sprintf(\"Bootstrap IC 95%% para media (BCa): [ %s , %s ]\\n\",\n",
    "                  format(round(ci_vals[1], 2), big.mark=\",\"),\n",
    "                  format(round(ci_vals[2], 2), big.mark=\",\")))\n",
    "    } else {\n",
    "      # fallback percentiles directos\n",
    "      ci_mean_perc <- quantile(boot_mean$t, probs = c(0.025, 0.975), na.rm = TRUE)\n",
    "      cat(sprintf(\"Bootstrap IC 95%% para media (percentiles directos): [ %s , %s ]\\n\",\n",
    "                  format(round(ci_mean_perc[1], 2), big.mark=\",\"),\n",
    "                  format(round(ci_mean_perc[2], 2), big.mark=\",\")))\n",
    "    }\n",
    "  } else {\n",
    "    cat(\"No se pudo calcular Bootstrap IC para media.\\n\")\n",
    "  }\n",
    "}\n",
    "\n",
    "# Bootstrap para mediana\n",
    "if (!inherits(boot_median, \"try-error\")) {\n",
    "  ci_med_try <- tryCatch({\n",
    "    boot.ci(boot_median, type = c(\"perc\",\"bca\"))\n",
    "  }, error = function(e) e)\n",
    "\n",
    "  if (!inherits(ci_med_try, \"error\")) {\n",
    "    if (!is.null(ci_med_try$percent)) {\n",
    "      ci_vals_med <- ci_med_try$percent[4:5]\n",
    "      cat(sprintf(\"Bootstrap IC 95%% para mediana (percentil): [ %s , %s ]\\n\",\n",
    "                  format(round(ci_vals_med[1], 2), big.mark=\",\"),\n",
    "                  format(round(ci_vals_med[2], 2), big.mark=\",\")))\n",
    "    } else if (!is.null(ci_med_try$bca)) {\n",
    "      ci_vals_med <- ci_med_try$bca[4:5]\n",
    "      cat(sprintf(\"Bootstrap IC 95%% para mediana (BCa): [ %s , %s ]\\n\",\n",
    "                  format(round(ci_vals_med[1], 2), big.mark=\",\"),\n",
    "                  format(round(ci_vals_med[2], 2), big.mark=\",\")))\n",
    "    } else {\n",
    "      med_perc <- quantile(boot_median$t, probs = c(0.025, 0.975), na.rm = TRUE)\n",
    "      cat(sprintf(\"Bootstrap IC 95%% para mediana (percentiles directos): [ %s , %s ]\\n\",\n",
    "                  format(round(med_perc[1], 2), big.mark=\",\"),\n",
    "                  format(round(med_perc[2], 2), big.mark=\",\")))\n",
    "    }\n",
    "  } else {\n",
    "    cat(\"No se pudo calcular Bootstrap IC para mediana.\\n\")\n",
    "  }\n",
    "}\n",
    "\n",
    "cat(\"\\nFIN Celda 4: estimadores y CIs calculados.\\n\")\n",
    "\n"
   ]
  },
  {
   "cell_type": "code",
   "execution_count": 19,
   "id": "06368d86",
   "metadata": {
    "trusted": true,
    "vscode": {
     "languageId": "r"
    }
   },
   "outputs": [
    {
     "name": "stdout",
     "output_type": "stream",
     "text": [
      "Bias estimado (bootstrap):\n",
      " Mean bias: -166.3789 \n",
      " Median bias: 129 \n",
      "\n",
      "Quantiles bootstrap mean (2.5%,50%,97.5%):  114821 125862.8 143721.5 \n",
      "Quantiles bootstrap median (2.5%,50%,97.5%):  60000 60000 60062.5 \n",
      "\n",
      "Comentario sobre insesgamiento:\n",
      " La media muestra sesgo pequeño relativo.\n",
      " La mediana muestra sesgo pequeño relativo.\n"
     ]
    }
   ],
   "source": [
    "library(boot)\n",
    "set.seed(2025)\n",
    "\n",
    "x <- df_var$value\n",
    "x_nm <- x[!is.na(x)]\n",
    "\n",
    "if (length(x_nm) > 5) {\n",
    "  B <- 1000\n",
    "  \n",
    "  # estimadores en la muestra original\n",
    "  est_mean <- mean(x_nm)\n",
    "  est_median <- median(x_nm)\n",
    "  \n",
    "  # bootstrap\n",
    "  boot_mean <- boot(x_nm, statistic = function(data, idx) mean(data[idx]), R = B)\n",
    "  boot_median <- boot(x_nm, statistic = function(data, idx) median(data[idx]), R = B)\n",
    "\n",
    "  # bias estimado\n",
    "  bias_mean <- mean(boot_mean$t) - est_mean\n",
    "  bias_median <- mean(boot_median$t) - est_median\n",
    "\n",
    "  cat(\"Bias estimado (bootstrap):\\n\")\n",
    "  cat(\" Mean bias:\", bias_mean, \"\\n\")\n",
    "  cat(\" Median bias:\", bias_median, \"\\n\")\n",
    "\n",
    "  # mostrar distribuciones bootstrap rápidas (imprime cuantiles)\n",
    "  cat(\"\\nQuantiles bootstrap mean (2.5%,50%,97.5%): \", quantile(boot_mean$t, c(.025,.5,.975)), \"\\n\")\n",
    "  cat(\"Quantiles bootstrap median (2.5%,50%,97.5%): \", quantile(boot_median$t, c(.025,.5,.975)), \"\\n\")\n",
    "\n",
    "  cat(\"\\nComentario sobre insesgamiento:\\n\")\n",
    "  if (abs(bias_mean) < 0.01 * abs(est_mean) ) {\n",
    "    cat(\" La media muestra sesgo pequeño relativo.\\n\")\n",
    "  } else {\n",
    "    cat(\" La media muestra sesgo apreciable relativo — considerar estimadores robustos.\\n\")\n",
    "  }\n",
    "  if (abs(bias_median) < 0.01 * abs(est_median) ) {\n",
    "    cat(\" La mediana muestra sesgo pequeño relativo.\\n\")\n",
    "  } else {\n",
    "    cat(\" La mediana muestra sesgo apreciable relativo.\\n\")\n",
    "  }\n",
    "} else {\n",
    "  cat(\"No hay suficientes datos para estimar bias con bootstrap.\\n\")\n",
    "}\n"
   ]
  },
  {
   "cell_type": "code",
   "execution_count": 22,
   "id": "35225c44",
   "metadata": {
    "trusted": true,
    "vscode": {
     "languageId": "r"
    }
   },
   "outputs": [
    {
     "name": "stdout",
     "output_type": "stream",
     "text": [
      "     n   var_mean  var_median\n",
      "1   50 3307995050 255140498.9\n",
      "2  456  330419342  42565774.8\n",
      "3  862  121924920  14180967.1\n",
      "4 1268   74227381   4502148.8\n",
      "5 1674   37445124    947881.8\n",
      "6 2080   22360373         0.0\n",
      "7 2486   10804989         0.0\n",
      "8 2892          0         0.0\n"
     ]
    },
    {
     "name": "stderr",
     "output_type": "stream",
     "text": [
      "Gráfico de consistencia guardado en: analisis_P3094S3_check/consistencia_var_vs_n.png\n",
      "\n"
     ]
    },
    {
     "name": "stdout",
     "output_type": "stream",
     "text": [
      "\n",
      "Comentario (Consistencia):\n",
      "Si la varianza del estimador (mean o median) disminuye al crecer n, evidencia consistencia.\n"
     ]
    },
    {
     "data": {
      "image/png": "[encoded data removed]",
      "text/plain": [
       "plot without title"
      ]
     },
     "metadata": {
      "image/png": {
       "height": 420,
       "width": 420
      }
     },
     "output_type": "display_data"
    }
   ],
   "source": [
    "# ---- Celda 6: Consistencia (comportamiento varianza vs n) ------------------\n",
    "library(dplyr); set.seed(123)\n",
    "\n",
    "x <- df_var$value\n",
    "x_nm <- x[!is.na(x)]\n",
    "\n",
    "if (length(x_nm) > 30) {\n",
    "  ns <- unique(floor(seq(50, length(x_nm), length.out = 8)))\n",
    "  reps <- 300  # repeticiones por tamaño (moderado)\n",
    "  res <- data.frame(n = integer(), var_mean = numeric(), var_median = numeric())\n",
    "  for (n in ns) {\n",
    "    ests_mean <- numeric(reps); ests_med <- numeric(reps)\n",
    "    for (r in 1:reps) {\n",
    "      s <- sample(x_nm, size = n, replace = FALSE)\n",
    "      ests_mean[r] <- mean(s)\n",
    "      ests_med[r] <- median(s)\n",
    "    }\n",
    "    res <- rbind(res, data.frame(n = n, var_mean = var(ests_mean), var_median = var(ests_med)))\n",
    "  }\n",
    "  print(res)\n",
    "\n",
    "  # gráfico var vs n\n",
    "  library(ggplot2)\n",
    "  pcons <- ggplot(res, aes(x = n)) +\n",
    "    geom_line(aes(y = var_mean, color = \"var_mean\")) +\n",
    "    geom_point(aes(y = var_mean, color = \"var_mean\")) +\n",
    "    geom_line(aes(y = var_median, color = \"var_median\")) +\n",
    "    geom_point(aes(y = var_median, color = \"var_median\")) +\n",
    "    labs(title = \"Varianza del estimador vs tamaño muestral (submuestras)\",\n",
    "         x = \"n (submuestra)\", y = \"Varianza estimada\") + theme_minimal()\n",
    "  print(pcons)\n",
    "  ggsave(filename = file.path(out_dir, \"consistencia_var_vs_n.png\"), plot = pcons, width = 7, height = 4)\n",
    "  message(\"Gráfico de consistencia guardado en: \", file.path(out_dir, \"consistencia_var_vs_n.png\"))\n",
    "\n",
    "  cat(\"\\nComentario (Consistencia):\\nSi la varianza del estimador (mean o median) disminuye al crecer n, evidencia consistencia.\\n\")\n",
    "} else cat(\"No hay suficientes datos (>30) para estudiar consistencia por submuestreo.\\n\")\n"
   ]
  },
  {
   "cell_type": "code",
   "execution_count": null,
   "id": "f93f4b7f",
   "metadata": {
    "trusted": true,
    "vscode": {
     "languageId": "r"
    }
   },
   "outputs": [
    {
     "name": "stdout",
     "output_type": "stream",
     "text": [
      "Eficiencia (empírica via bootstrap):\n",
      " Var(mean) bootstrap: 58275694 \n",
      " Var(median) bootstrap: 2852046 \n",
      " Rel. effic (var_median / var_mean): 0.04894057 \n",
      "\n",
      "Comentario (Eficiencia):\n",
      " La mediana es más eficiente en esta muestra.\n",
      "\n",
      "--- Sintaxis clave usada en este análisis ---\n",
      "1) Limpieza money: clean_numeric2(...) \n",
      "2) Descriptivos: tabla_vertical (N, N missing, Min, Q1, Median, Mean, Q3, Max, SD, IQR)\n",
      "3) Gráficas guardadas en: analisis_P3094S3_check/plots \n",
      "4) IC mean (t): t.test(x)$conf.int  (o calculado manualmente)\n",
      "5) Bootstrap bias y CI: uso package 'boot' (boot(...), boot.ci(...))\n",
      "6) Consistencia: submuestreo comparando var(estimator) vs n\n",
      "7) Eficiencia: comparar var_bootstrap(estimator)\n"
     ]
    }
   ],
   "source": [
    "library(dplyr)\n",
    "set.seed(42)\n",
    "\n",
    "x <- df_var$value\n",
    "\n",
    "\n",
    "x_nm <- x[!is.na(x)]\n",
    "\n",
    "if (length(x_nm) > 10) {\n",
    "  # bootstrap var estimadas\n",
    "  B <- 1000\n",
    "  b_mean <- boot(x_nm, statistic = function(d,i) mean(d[i]), R = B)\n",
    "  b_median <- boot(x_nm, statistic = function(d,i) median(d[i]), R = B)\n",
    "  var_mean_boot <- var(b_mean$t)\n",
    "  var_median_boot <- var(b_median$t)\n",
    "  rel_eff <- var_median_boot / var_mean_boot\n",
    "\n",
    "  cat(\"Eficiencia (empírica via bootstrap):\\n\")\n",
    "  cat(\" Var(mean) bootstrap:\", var_mean_boot, \"\\n\")\n",
    "  cat(\" Var(median) bootstrap:\", var_median_boot, \"\\n\")\n",
    "  cat(\" Rel. effic (var_median / var_mean):\", rel_eff, \"\\n\")\n",
    "\n",
    "  cat(\"\\nComentario (Eficiencia):\\n\")\n",
    "  if (rel_eff > 1) cat(\" La media es más eficiente (menor var) que la mediana en esta muestra.\\n\") else cat(\" La mediana es más eficiente en esta muestra.\\n\")\n",
    "} else cat(\"No hay suficientes datos para evaluar eficiencia.\\n\")\n",
    "\n",
    "# Sintaxis empleada (imprimir fragmento con comandos clave para el documento)\n",
    "cat(\"\\n--- Sintaxis clave usada en este análisis ---\\n\")\n",
    "cat(\"1) Limpieza money: clean_numeric2(...) \\n\")\n",
    "cat(\"2) Descriptivos: tabla_vertical (N, N missing, Min, Q1, Median, Mean, Q3, Max, SD, IQR)\\n\")\n",
    "cat(\"3) Gráficas guardadas en:\", file.path(out_dir, \"plots\"), \"\\n\")\n",
    "cat(\"4) IC mean (t): t.test(x)$conf.int  (o calculado manualmente)\\n\")\n",
    "cat(\"5) Bootstrap bias y CI: uso package 'boot' (boot(...), boot.ci(...))\\n\")\n",
    "cat(\"6) Consistencia: submuestreo comparando var(estimator) vs n\\n\")\n",
    "cat(\"7) Eficiencia: comparar var_bootstrap(estimator)\\n\")\n"
   ]
  }
 ],
 "metadata": {
  "kernelspec": {
   "display_name": "R",
   "language": "R",
   "name": "ir"
  },
  "language_info": {
   "codemirror_mode": "r",
   "file_extension": ".r",
   "mimetype": "text/x-r-source",
   "name": "R",
   "pygments_lexer": "r",
   "version": "4.5.0"
  }
 },
 "nbformat": 4,
 "nbformat_minor": 5
}
