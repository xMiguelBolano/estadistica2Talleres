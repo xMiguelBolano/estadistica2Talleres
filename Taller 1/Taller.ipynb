{
 "cells": [
  {
   "cell_type": "markdown",
   "id": "7fb55af4",
   "metadata": {
    "vscode": {
     "languageId": "r"
    }
   },
   "source": [
    "# Markdown \n",
    "Otras formas de trabajo\n",
    "#   Datos a usar\n",
    "cuántitativas: \n",
    "P3094S3 : Cuánto ahorro por cultivar\n",
    "P3087S1: Valor mensual por practicas o pasantías\n",
    "P3095S3: Valor ahorra por criar animales\n",
    "# Cualitativas\n",
    "P3101: ¿Fue a reuniones familiares durante las ultimas 4 semanas? si o no"
   ]
  },
  {
   "cell_type": "markdown",
   "id": "98920220",
   "metadata": {},
   "source": [
    "# agrupar estas variables para los 3 meses "
   ]
  },
  {
   "cell_type": "code",
   "execution_count": 13,
   "id": "f762f801",
   "metadata": {
    "vscode": {
     "languageId": "r"
    }
   },
   "outputs": [
    {
     "name": "stderr",
     "output_type": "stream",
     "text": [
      "Warning message:\n",
      "\"\u001b[1m\u001b[22mOne or more parsing issues, call `problems()` on your data frame for details,\n",
      "e.g.:\n",
      "  dat <- vroom(...)\n",
      "  problems(dat)\"\n"
     ]
    },
    {
     "name": "stdout",
     "output_type": "stream",
     "text": [
      "✅ Archivo combinado guardado en: C:/Users/juand/OneDrive/libros/estadistica2taller1/Combinado.csv\n"
     ]
    }
   ],
   "source": [
    "library(readr)\n",
    "library(dplyr)\n",
    "\n",
    "# Archivos\n",
    "csv_files <- c(\n",
    "  \"C:/Users/juand/OneDrive/libros/estadistica2taller1/Mayo_2024 1/CSV/Otras formas de trabajo.CSV\",\n",
    "  \"C:/Users/juand/OneDrive/libros/estadistica2taller1/Junio_2024/CSV/Otras formas de trabajo.CSV\",\n",
    "  \"C:/Users/juand/OneDrive/libros/estadistica2taller1/Julio_2024/CSV/Otras formas de trabajo.CSV\"\n",
    ")\n",
    "\n",
    "# Columnas necesarias\n",
    "cols_needed <- c(\"P3094S3\", \"P3087S1\", \"P3095S3\", \"P3101\")\n",
    "\n",
    "# Función para leer y limpiar\n",
    "read_and_clean <- function(file) {\n",
    "  df <- read_delim(\n",
    "    file,\n",
    "    delim = \";\",\n",
    "    col_names = TRUE,\n",
    "    show_col_types = FALSE,\n",
    "    locale = locale(encoding = \"UTF-8\"),\n",
    "    guess_max = 10000\n",
    "  )\n",
    "  \n",
    "  # Seleccionar solo las columnas necesarias\n",
    "  df <- df %>% select(any_of(cols_needed))\n",
    "  \n",
    "  # Limpiar y convertir valores monetarios\n",
    "  df <- df %>%\n",
    "    mutate(\n",
    "      across(c(\"P3094S3\", \"P3087S1\", \"P3095S3\"), ~ {\n",
    "        x <- as.character(.)\n",
    "        x <- gsub(\"\\\\.\", \"\", x)   # eliminar puntos de miles\n",
    "        x <- gsub(\",\", \".\", x)    # convertir coma a punto decimal si la hay\n",
    "        suppressWarnings(as.numeric(x))\n",
    "      })\n",
    "    )\n",
    "  \n",
    "  return(df)\n",
    "}\n",
    "\n",
    "# Leer y combinar\n",
    "combined <- bind_rows(lapply(csv_files, read_and_clean))\n",
    "\n",
    "# Guardar\n",
    "write_csv(combined, \"C:/Users/juand/OneDrive/libros/estadistica2taller1/Combinado.csv\")\n",
    "\n",
    "cat(\"✅ Archivo combinado guardado en: C:/Users/juand/OneDrive/libros/estadistica2taller1/Combinado.csv\\n\")\n"
   ]
  },
  {
   "cell_type": "code",
   "execution_count": null,
   "id": "0cd79c63",
   "metadata": {
    "vscode": {
     "languageId": "r"
    }
   },
   "outputs": [
    {
     "name": "stderr",
     "output_type": "stream",
     "text": [
      "\n",
      "Adjuntando el paquete: 'dplyr'\n",
      "\n",
      "\n",
      "The following objects are masked from 'package:stats':\n",
      "\n",
      "    filter, lag\n",
      "\n",
      "\n",
      "The following objects are masked from 'package:base':\n",
      "\n",
      "    intersect, setdiff, setequal, union\n",
      "\n",
      "\n"
     ]
    },
    {
     "name": "stdout",
     "output_type": "stream",
     "text": [
      "Variable real detectada: P3095S3 \n",
      "Total filas: 166341    N no-missing: 4080 \n",
      "\u001b[90m# A tibble: 10 × 2\u001b[39m\n",
      "   value_raw value\n",
      "   \u001b[3m\u001b[90m<chr>\u001b[39m\u001b[23m     \u001b[3m\u001b[90m<dbl>\u001b[39m\u001b[23m\n",
      "\u001b[90m 1\u001b[39m \u001b[31mNA\u001b[39m           \u001b[31mNA\u001b[39m\n",
      "\u001b[90m 2\u001b[39m \u001b[31mNA\u001b[39m           \u001b[31mNA\u001b[39m\n",
      "\u001b[90m 3\u001b[39m \u001b[31mNA\u001b[39m           \u001b[31mNA\u001b[39m\n",
      "\u001b[90m 4\u001b[39m \u001b[31mNA\u001b[39m           \u001b[31mNA\u001b[39m\n",
      "\u001b[90m 5\u001b[39m \u001b[31mNA\u001b[39m           \u001b[31mNA\u001b[39m\n",
      "\u001b[90m 6\u001b[39m \u001b[31mNA\u001b[39m           \u001b[31mNA\u001b[39m\n",
      "\u001b[90m 7\u001b[39m \u001b[31mNA\u001b[39m           \u001b[31mNA\u001b[39m\n",
      "\u001b[90m 8\u001b[39m \u001b[31mNA\u001b[39m           \u001b[31mNA\u001b[39m\n",
      "\u001b[90m 9\u001b[39m \u001b[31mNA\u001b[39m           \u001b[31mNA\u001b[39m\n",
      "\u001b[90m10\u001b[39m \u001b[31mNA\u001b[39m           \u001b[31mNA\u001b[39m\n"
     ]
    }
   ],
   "source": [
    "# ---- Celda 1: Lectura y limpieza -------------------------------------------\n",
    "library(readr)\n",
    "library(dplyr)\n",
    "\n",
    "data_path <- \"C:/Users/juand/OneDrive/libros/estadistica2taller1/Combinado.csv\"\n",
    "\n",
    "# Se define la variable y el directorio de salida, Escoger una variable numérica\n",
    "varname   <- \"P3095S3\"   # variable con la que trabajamos\n",
    "out_dir   <- \"C:/Users/juand/OneDrive/libros/estadistica2taller1/analisis_P3095S3_check\"\n",
    "dir.create(out_dir, showWarnings = FALSE, recursive = TRUE)\n",
    "\n",
    "# Leer todo como carácter para evitar parseos automáticos\n",
    "df_char <- readr::read_csv(data_path,\n",
    "                           col_types = readr::cols(.default = \"c\"),\n",
    "                           locale = readr::locale(encoding = \"UTF-8\"),\n",
    "                           show_col_types = FALSE)\n",
    "\n",
    "# detectar nombre real (insensible a mayúsculas)\n",
    "if (!varname %in% names(df_char)) {\n",
    "  guess <- names(df_char)[tolower(names(df_char)) %in% tolower(varname)]\n",
    "  if (length(guess) == 1) varname_real <- guess else stop(\"No encontré la variable \", varname)\n",
    "} else varname_real <- varname\n",
    "\n",
    "# función robusta de limpieza numérica (monedas, separadores, etc.)\n",
    "clean_numeric2 <- function(x) {\n",
    "  x <- as.character(x)\n",
    "  x[ x %in% c(\"\", \"NA\", NA) ] <- NA_character_\n",
    "  x <- trimws(x)\n",
    "  x <- gsub(\"\\\\s+\", \"\", x)\n",
    "  x <- gsub(\"[^0-9\\\\,\\\\.-]\", \"\", x)\n",
    "  both <- grepl(\"\\\\.\", x) & grepl(\",\", x)\n",
    "  if (any(both)) { x[both] <- gsub(\"\\\\.\", \"\", x[both]); x[both] <- gsub(\",\", \".\", x[both]) }\n",
    "  only_comma <- grepl(\",\", x) & !grepl(\"\\\\.\", x)\n",
    "  x[only_comma] <- gsub(\",\", \".\", x[only_comma])\n",
    "  suppressWarnings(as.numeric(x))\n",
    "}\n",
    "\n",
    "# preparar df_var con la variable limpia y sin modificar el CSV original\n",
    "df_var <- df_char %>%\n",
    "  transmute(\n",
    "    value_raw = .data[[varname_real]],\n",
    "    value = clean_numeric2(.data[[varname_real]])\n",
    "  )\n",
    "\n",
    "# info rápida\n",
    "cat(\"Variable real detectada:\", varname_real, \"\\n\")\n",
    "cat(\"Total filas:\", nrow(df_var), \"   N no-missing:\", sum(!is.na(df_var$value)), \"\\n\")\n",
    "# ver primeras filas\n",
    "print(head(df_var, 10))\n"
   ]
  },
  {
   "cell_type": "code",
   "execution_count": 23,
   "id": "730603ab",
   "metadata": {
    "vscode": {
     "languageId": "r"
    }
   },
   "outputs": [
    {
     "name": "stdout",
     "output_type": "stream",
     "text": [
      "=== Descriptivos Básicos ===\n",
      "\u001b[90m# A tibble: 10 × 2\u001b[39m\n",
      "   Medida        Valor\n",
      "   \u001b[3m\u001b[90m<chr>\u001b[39m\u001b[23m         \u001b[3m\u001b[90m<dbl>\u001b[39m\u001b[23m\n",
      "\u001b[90m 1\u001b[39m N total     \u001b[4m1\u001b[24m\u001b[4m6\u001b[24m\u001b[4m6\u001b[24m341 \n",
      "\u001b[90m 2\u001b[39m N missing   \u001b[4m1\u001b[24m\u001b[4m6\u001b[24m\u001b[4m2\u001b[24m261 \n",
      "\u001b[90m 3\u001b[39m Min.          \u001b[4m1\u001b[24m000 \n",
      "\u001b[90m 4\u001b[39m 1st Qu.      \u001b[4m3\u001b[24m\u001b[4m0\u001b[24m000 \n",
      "\u001b[90m 5\u001b[39m Median       \u001b[4m6\u001b[24m\u001b[4m0\u001b[24m000 \n",
      "\u001b[90m 6\u001b[39m Mean        \u001b[4m1\u001b[24m\u001b[4m5\u001b[24m\u001b[4m9\u001b[24m471.\n",
      "\u001b[90m 7\u001b[39m 3rd Qu.     \u001b[4m1\u001b[24m\u001b[4m5\u001b[24m\u001b[4m0\u001b[24m000 \n",
      "\u001b[90m 8\u001b[39m Max.      20\u001b[4m0\u001b[24m\u001b[4m0\u001b[24m\u001b[4m0\u001b[24m000 \n",
      "\u001b[90m 9\u001b[39m SD          \u001b[4m5\u001b[24m\u001b[4m1\u001b[24m\u001b[4m2\u001b[24m519.\n",
      "\u001b[90m10\u001b[39m IQR         \u001b[4m1\u001b[24m\u001b[4m2\u001b[24m\u001b[4m0\u001b[24m000 \n",
      "\n",
      "=== Summary (sobre valores no-missing) ===\n",
      "    Min.  1st Qu.   Median     Mean  3rd Qu.     Max. \n",
      "    1000    30000    60000   159471   150000 20000000 \n"
     ]
    }
   ],
   "source": [
    "# ---- Celda 2: Descriptivos Básicos ----------------------------------------\n",
    "library(dplyr)\n",
    "\n",
    "# usa df_var (si no existe la lee desde datos)\n",
    "if (!exists(\"df_var\")) {\n",
    "  data_path <- \"C:/Users/juand/OneDrive/libros/estadistica2taller1/Combinado.csv\"\n",
    "  df_var <- readr::read_csv(data_path, col_types = readr::cols(.default = \"c\"), show_col_types = FALSE) %>%\n",
    "    transmute(value_raw = .data[[varname]], value = clean_numeric2(.data[[varname]]))\n",
    "}\n",
    "\n",
    "x <- df_var$value\n",
    "x_nm <- x[!is.na(x)]\n",
    "\n",
    "# calcular medidas\n",
    "N_total <- length(x)\n",
    "N_missing <- sum(is.na(x))\n",
    "Min <- ifelse(length(x_nm)>0, min(x_nm, na.rm=TRUE), NA)\n",
    "Q1  <- ifelse(length(x_nm)>0, quantile(x_nm, .25, na.rm=TRUE), NA)\n",
    "Median <- ifelse(length(x_nm)>0, median(x_nm, na.rm=TRUE), NA)\n",
    "Mean <- ifelse(length(x_nm)>0, mean(x_nm, na.rm=TRUE), NA)\n",
    "Q3 <- ifelse(length(x_nm)>0, quantile(x_nm, .75, na.rm=TRUE), NA)\n",
    "Max <- ifelse(length(x_nm)>0, max(x_nm, na.rm=TRUE), NA)\n",
    "SD <- ifelse(length(x_nm)>0, sd(x_nm, na.rm=TRUE), NA)\n",
    "IQRv <- ifelse(length(x_nm)>0, IQR(x_nm, na.rm=TRUE), NA)\n",
    "\n",
    "tabla_vertical <- tibble(\n",
    "  Medida = c(\"N total\",\"N missing\",\"Min.\",\"1st Qu.\",\"Median\",\"Mean\",\"3rd Qu.\",\"Max.\",\"SD\",\"IQR\"),\n",
    "  Valor  = c(N_total, N_missing, Min, Q1, Median, Mean, Q3, Max, SD, IQRv)\n",
    ")\n",
    "\n",
    "cat(\"=== Descriptivos Básicos ===\\n\")\n",
    "print(tabla_vertical)\n",
    "\n",
    "# Mostrar estadísticas resumidas estilo summary()\n",
    "cat(\"\\n=== Summary (sobre valores no-missing) ===\\n\")\n",
    "print(summary(x_nm))\n"
   ]
  },
  {
   "cell_type": "code",
   "execution_count": 24,
   "id": "1e61015c",
   "metadata": {
    "vscode": {
     "languageId": "r"
    }
   },
   "outputs": [
    {
     "data": {
      "image/png": "[encoded data removed]",
      "text/plain": [
       "plot without title"
      ]
     },
     "metadata": {
      "image/png": {
       "height": 420,
       "width": 420
      }
     },
     "output_type": "display_data"
    },
    {
     "data": {
      "image/png": "[encoded data removed]",
      "text/plain": [
       "plot without title"
      ]
     },
     "metadata": {
      "image/png": {
       "height": 420,
       "width": 420
      }
     },
     "output_type": "display_data"
    },
    {
     "data": {
      "image/png": "[encoded data removed]",
      "text/plain": [
       "plot without title"
      ]
     },
     "metadata": {
      "image/png": {
       "height": 420,
       "width": 420
      }
     },
     "output_type": "display_data"
    },
    {
     "name": "stderr",
     "output_type": "stream",
     "text": [
      "Gráficos guardados en: C:/Users/juand/OneDrive/libros/estadistica2taller1/analisis_P3095S3_check/plots\n",
      "\n"
     ]
    },
    {
     "data": {
      "image/png": "[encoded data removed]",
      "text/plain": [
       "plot without title"
      ]
     },
     "metadata": {
      "image/png": {
       "height": 420,
       "width": 420
      }
     },
     "output_type": "display_data"
    }
   ],
   "source": [
    "# ---- Celda 3: Análisis Gráfico --------------------------------------------\n",
    "if (!requireNamespace(\"gridExtra\", quietly = TRUE)) {\n",
    "  install.packages(\"gridExtra\", repos = \"https://cloud.r-project.org\")\n",
    "}\n",
    "library(gridExtra)\n",
    "\n",
    "library(ggplot2); \n",
    "\n",
    "plot_dir <- file.path(out_dir, \"plots\")\n",
    "dir.create(plot_dir, showWarnings = FALSE, recursive = TRUE)\n",
    "\n",
    "x <- df_var$value\n",
    "x_nm <- x[!is.na(x)]\n",
    "\n",
    "if (length(x_nm) == 0) {\n",
    "  message(\"No hay datos no-missing: no se generan gráficos.\")\n",
    "} else {\n",
    "  df_plot <- df_var %>% filter(!is.na(value))\n",
    "\n",
    "  # Histograma lineal\n",
    "  ph <- ggplot(df_plot, aes(x=value)) +\n",
    "    geom_histogram(bins = 60) +\n",
    "    labs(title = paste(\"Histograma de\", varname_real), x = varname_real, y = \"Frecuencia\") +\n",
    "    theme_minimal()\n",
    "  ggsave(file.path(plot_dir, paste0(\"hist_\", varname_real, \".png\")), ph, width=8, height=4)\n",
    "  print(ph)\n",
    "\n",
    "  # Boxplot\n",
    "  pb <- ggplot(df_plot, aes(y=value)) +\n",
    "    geom_boxplot() +\n",
    "    labs(title = paste(\"Boxplot de\", varname_real), y = varname_real) +\n",
    "    theme_minimal()\n",
    "  ggsave(file.path(plot_dir, paste0(\"boxplot_\", varname_real, \".png\")), pb, width=6, height=4)\n",
    "  print(pb)\n",
    "\n",
    "  # Histograma log1p (si hay valores > 0)\n",
    "  if (any(df_plot$value > 0, na.rm=TRUE)) {\n",
    "    df_plot <- df_plot %>% mutate(value_log1p = log1p(value))\n",
    "    pl <- ggplot(df_plot, aes(x=value_log1p)) + geom_histogram(bins = 60) +\n",
    "      labs(title = paste(\"Histograma log1p(\", varname_real, \")\"), x = \"log1p(value)\") + theme_minimal()\n",
    "    ggsave(file.path(plot_dir, paste0(\"hist_log1p_\", varname_real, \".png\")), pl, width=8, height=4)\n",
    "    print(pl)\n",
    "  }\n",
    "\n",
    "  # Density con escala log y sin log\n",
    "  pd <- ggplot(df_plot, aes(x=value)) + geom_density() + theme_minimal() +\n",
    "    labs(title = paste(\"Densidad -\", varname_real))\n",
    "  ggsave(file.path(plot_dir, paste0(\"density_\", varname_real, \".png\")), pd, width=8, height=4)\n",
    "  print(pd)\n",
    "\n",
    "  message(\"Gráficos guardados en: \", plot_dir)\n",
    "}\n"
   ]
  },
  {
   "cell_type": "code",
   "execution_count": null,
   "id": "4e3d0299",
   "metadata": {
    "vscode": {
     "languageId": "r"
    }
   },
   "outputs": [
    {
     "name": "stdout",
     "output_type": "stream",
     "text": [
      "Total observaciones (N): 166341 \n",
      "No-missing (n): 4080 \n",
      "\n",
      "Estimadores puntuales:\n",
      " Mean: 159,471.4\n",
      " Median: 60,000\n",
      " Mode(s): 50000\n",
      "\n",
      "IC 95% para la media (t): [ 143,740.4 ,  175,202.4 ]\n",
      "\n",
      "Ejecutando bootstrap con R = 100 réplicas (esto puede tardar)...\n"
     ]
    },
    {
     "name": "stderr",
     "output_type": "stream",
     "text": [
      "Warning message in norm.inter(t, adj.alpha):\n",
      "\"extreme order statistics used as endpoints\"\n"
     ]
    },
    {
     "name": "stdout",
     "output_type": "stream",
     "text": [
      "Bootstrap IC (perc) mean: 142,376.3 179,644 \n",
      "[1] \"All values of t are equal to  60000 \\n Cannot calculate confidence intervals\"\n",
      "Bootstrap IC median calculado, pero formato inesperado; usando percentiles directos.\n",
      "Bootstrap IC median (percentiles): 60,000 60,000 \n",
      "\n",
      "FIN Celda 4: estimadores y CIs calculados.\n"
     ]
    }
   ],
   "source": [
    "# ---- Celda 4 mejorada: Cálculo de los estimadores --------------------------\n",
    "library(dplyr)\n",
    "library(boot)\n",
    "\n",
    "set.seed(12345)\n",
    "\n",
    "# asegurar df_var existe y contiene 'value' (si no, leer el combinado y limpiar)\n",
    "if (!exists(\"df_var\") || !\"value\" %in% names(df_var)) {\n",
    "  message(\"df_var no está en memoria -> leyendo desde Combinado.csv y limpiando\")\n",
    "  data_path <- \"C:/Users/juand/OneDrive/libros/estadistica2taller1/Combinado.csv\"\n",
    "  # pequeña función de limpieza (reusa la que ya tienes)\n",
    "  clean_numeric2 <- function(x) {\n",
    "    x <- as.character(x)\n",
    "    x[ x %in% c(\"\", \"NA\", NA) ] <- NA_character_\n",
    "    x <- trimws(x)\n",
    "    x <- gsub(\"\\\\s+\", \"\", x)\n",
    "    x <- gsub(\"[^0-9\\\\,\\\\.-]\", \"\", x)\n",
    "    both <- grepl(\"\\\\.\", x) & grepl(\",\", x)\n",
    "    if (any(both)) { x[both] <- gsub(\"\\\\.\", \"\", x[both]); x[both] <- gsub(\",\", \".\", x[both]) }\n",
    "    only_comma <- grepl(\",\", x) & !grepl(\"\\\\.\", x)\n",
    "    x[only_comma] <- gsub(\",\", \".\", x[only_comma])\n",
    "    suppressWarnings(as.numeric(x))\n",
    "  }\n",
    "  df_char <- readr::read_csv(data_path, col_types = readr::cols(.default = \"c\"), show_col_types = FALSE)\n",
    "  # detectar varname_real si existe\n",
    "  varname <- \"P3095S3\"\n",
    "  if (!varname %in% names(df_char)) {\n",
    "    guess <- names(df_char)[tolower(names(df_char)) %in% tolower(varname)]\n",
    "    if (length(guess) == 1) varname_real <- guess else stop(\"No encontré la variable \", varname)\n",
    "  } else varname_real <- varname\n",
    "  df_var <- df_char %>% transmute(value_raw = .data[[varname_real]], value = clean_numeric2(.data[[varname_real]]))\n",
    "}\n",
    "\n",
    "x <- df_var$value\n",
    "x_nm <- x[!is.na(x)]\n",
    "\n",
    "# mensajes si pocos datos\n",
    "cat(\"Total observaciones (N):\", length(x), \"\\n\")\n",
    "cat(\"No-missing (n):\", length(x_nm), \"\\n\\n\")\n",
    "\n",
    "if (length(x_nm) == 0) stop(\"No hay datos no-missing para calcular estimadores.\")\n",
    "\n",
    "# 1) Estimadores puntuales\n",
    "est_mean   <- mean(x_nm)\n",
    "est_median <- median(x_nm)\n",
    "\n",
    "# moda: si hay empates, devolvemos todas las modas y también la más frecuente\n",
    "mode_basic_all <- function(v) {\n",
    "  v2 <- v[!is.na(v)]\n",
    "  if (length(v2) == 0) return(NA)\n",
    "  tb <- sort(table(v2), decreasing = TRUE)\n",
    "  names(tb)[tb == max(tb)]\n",
    "}\n",
    "modes <- mode_basic_all(x_nm)\n",
    "mode_report <- paste(modes, collapse = \", \")\n",
    "\n",
    "cat(\"Estimadores puntuales:\\n\")\n",
    "cat(sprintf(\" Mean: %s\\n Median: %s\\n Mode(s): %s\\n\\n\",\n",
    "            format(round(est_mean, 2), big.mark = \",\"), format(round(est_median, 2), big.mark=\",\"), mode_report))\n",
    "\n",
    "# 2) IC 95% para la media (t-interval, usando t.test)\n",
    "if (length(x_nm) > 1) {\n",
    "  tt <- try(t.test(x_nm), silent = TRUE)\n",
    "  if (inherits(tt, \"try-error\")) {\n",
    "    cat(\"No se pudo calcular t-interval por t.test():\", tt, \"\\n\")\n",
    "  } else {\n",
    "    ci_t <- tt$conf.int\n",
    "    cat(\"IC 95% para la media (t): [\", format(round(ci_t[1],2), big.mark=\",\"), \", \", format(round(ci_t[2],2), big.mark=\",\"), \"]\\n\\n\")\n",
    "  }\n",
    "} else cat(\"No hay suficientes datos para IC t.\\n\\n\")\n",
    "\n",
    "# 3) Bootstrap para mean y median\n",
    "B <- 100\n",
    "cat(\"Ejecutando bootstrap con R =\", B, \"réplicas (esto puede tardar)...\\n\")\n",
    "\n",
    "# helper para safe boot.ci\n",
    "safe_boot_ci <- function(boot_obj, type = c(\"perc\",\"bca\",\"basic\")) {\n",
    "  out <- list()\n",
    "  for (t in type) {\n",
    "    res <- try(boot.ci(boot_obj, type = t), silent = TRUE)\n",
    "    if (!inherits(res, \"try-error\") && !is.null(res[[t]])) {\n",
    "      out[[t]] <- res\n",
    "    } else {\n",
    "      # si falló, intentamos extraer percentiles directos como fallback\n",
    "      out[[t]] <- NULL\n",
    "    }\n",
    "  }\n",
    "  out\n",
    "}\n",
    "\n",
    "# bootstrap mean\n",
    "boot_mean <- try(boot(x_nm, statistic = function(d, i) mean(d[i]), R = B), silent = TRUE)\n",
    "if (inherits(boot_mean, \"try-error\")) {\n",
    "  cat(\"Bootstrap mean falló:\", boot_mean, \"\\n\")\n",
    "} else {\n",
    "  # intentar boot.ci para mean (perc y bca preferiblemente)\n",
    "  ci_mean <- tryCatch({\n",
    "    pci <- boot.ci(boot_mean, type = c(\"perc\",\"bca\"))\n",
    "    pci\n",
    "  }, error = function(e) e)\n",
    "  if (inherits(ci_mean, \"error\")) {\n",
    "    # fallback: percentiles directos\n",
    "    ci_mean_perc <- quantile(boot_mean$t, probs = c(0.025, 0.975), na.rm = TRUE)\n",
    "    cat(\"Bootstrap IC (perc) mean (fallback percentiles):\", format(round(ci_mean_perc[1],2), big.mark=\",\"), format(round(ci_mean_perc[2],2), big.mark=\",\"), \"\\n\")\n",
    "  } else {\n",
    "    # si boot.ci devolvió, imprimir los percentiles de 'perc' si existen\n",
    "    if (!is.null(ci_mean$percent)) {\n",
    "      ci_vals <- ci_mean$percent[4:5]\n",
    "      cat(\"Bootstrap IC (perc) mean:\", format(round(ci_vals[1],2), big.mark=\",\"), format(round(ci_vals[2],2), big.mark=\",\"), \"\\n\")\n",
    "    } else {\n",
    "      # último recurso: percentiles de boot$t\n",
    "      ci_mean_perc <- quantile(boot_mean$t, probs = c(0.025, 0.975), na.rm = TRUE)\n",
    "      cat(\"Bootstrap IC mean (percentiles directos):\", format(round(ci_mean_perc[1],2), big.mark=\",\"), format(round(ci_mean_perc[2],2), big.mark=\",\"), \"\\n\")\n",
    "    }\n",
    "  }\n",
    "}\n",
    "\n",
    "# bootstrap median\n",
    "boot_median <- try(boot(x_nm, statistic = function(d, i) median(d[i]), R = B), silent = TRUE)\n",
    "if (inherits(boot_median, \"try-error\")) {\n",
    "  cat(\"Bootstrap median falló:\", boot_median, \"\\n\")\n",
    "} else {\n",
    "  # a veces boot.ci falla si todas las réplicas son iguales (p. ej. datos discretos con muchos empates)\n",
    "  ci_med_try <- tryCatch({\n",
    "    ci_m <- boot.ci(boot_median, type = c(\"perc\",\"bca\"))\n",
    "    ci_m\n",
    "  }, error = function(e) e)\n",
    "  if (inherits(ci_med_try, \"error\")) {\n",
    "    # fallback: percentiles directos\n",
    "    med_perc <- tryCatch({\n",
    "      quantile(boot_median$t, probs = c(0.025, 0.975), na.rm = TRUE)\n",
    "    }, error = function(e) NULL)\n",
    "    if (!is.null(med_perc)) {\n",
    "      cat(\"Bootstrap IC (perc) median (fallback percentiles):\", format(round(med_perc[1],2), big.mark=\",\"), format(round(med_perc[2],2), big.mark=\",\"), \"\\n\")\n",
    "    } else {\n",
    "      cat(\"Bootstrap IC median: no disponible (poca variabilidad en réplicas)\\n\")\n",
    "    }\n",
    "  } else {\n",
    "    if (!is.null(ci_med_try$percent)) {\n",
    "      ci_vals_med <- ci_med_try$percent[4:5]\n",
    "      cat(\"Bootstrap IC (perc) median:\", format(round(ci_vals_med[1],2), big.mark=\",\"), format(round(ci_vals_med[2],2), big.mark=\",\"), \"\\n\")\n",
    "    } else {\n",
    "      cat(\"Bootstrap IC median calculado, pero formato inesperado; usando percentiles directos.\\n\")\n",
    "      med_perc <- quantile(boot_median$t, probs = c(0.025, 0.975), na.rm = TRUE)\n",
    "      cat(\"Bootstrap IC median (percentiles):\", format(round(med_perc[1],2), big.mark=\",\"), format(round(med_perc[2],2), big.mark=\",\"), \"\\n\")\n",
    "    }\n",
    "  }\n",
    "}\n",
    "\n",
    "cat(\"\\nFIN Celda 4: estimadores y CIs calculados.\\n\")\n"
   ]
  },
  {
   "cell_type": "code",
   "execution_count": 26,
   "id": "06368d86",
   "metadata": {
    "vscode": {
     "languageId": "r"
    }
   },
   "outputs": [
    {
     "name": "stdout",
     "output_type": "stream",
     "text": [
      "Bias estimado (bootstrap):\n",
      " Mean bias: 166.1598 \n",
      " Median bias: 0 \n",
      "\n",
      "Quantiles bootstrap mean (2.5%,50%,97.5%):  145670.9 159172.9 175998.9 \n",
      "Quantiles bootstrap median (2.5%,50%,97.5%):  60000 60000 60000 \n",
      "\n",
      "Comentario sobre insesgamiento:\n",
      " La media muestra sesgo pequeño relativo.\n",
      " La mediana muestra sesgo pequeño relativo.\n"
     ]
    }
   ],
   "source": [
    "# ---- Celda 5: Insesgamiento (bias) mediante bootstrap ----------------------\n",
    "library(boot)\n",
    "set.seed(2025)\n",
    "\n",
    "x <- df_var$value\n",
    "x_nm <- x[!is.na(x)]\n",
    "\n",
    "if (length(x_nm) > 5) {\n",
    "  B <- 1000\n",
    "  boot_mean <- boot(x_nm, statistic = function(data, idx) mean(data[idx]), R = B)\n",
    "  boot_median <- boot(x_nm, statistic = function(data, idx) median(data[idx]), R = B)\n",
    "\n",
    "  bias_mean <- mean(boot_mean$t) - est_mean\n",
    "  bias_median <- mean(boot_median$t) - est_median\n",
    "\n",
    "  cat(\"Bias estimado (bootstrap):\\n\")\n",
    "  cat(\" Mean bias:\", bias_mean, \"\\n\")\n",
    "  cat(\" Median bias:\", bias_median, \"\\n\")\n",
    "\n",
    "  # mostrar distribuciones bootstrap rápidas (imprime cuantiles)\n",
    "  cat(\"\\nQuantiles bootstrap mean (2.5%,50%,97.5%): \", quantile(boot_mean$t, c(.025,.5,.975)), \"\\n\")\n",
    "  cat(\"Quantiles bootstrap median (2.5%,50%,97.5%): \", quantile(boot_median$t, c(.025,.5,.975)), \"\\n\")\n",
    "\n",
    "  cat(\"\\nComentario sobre insesgamiento:\\n\")\n",
    "  if (abs(bias_mean) < 0.01 * abs(est_mean) ) cat(\" La media muestra sesgo pequeño relativo.\\n\") else cat(\" La media muestra sesgo apreciable relativo — considerar estimadores robustos.\\n\")\n",
    "  if (abs(bias_median) < 0.01 * abs(est_median) ) cat(\" La mediana muestra sesgo pequeño relativo.\\n\") else cat(\" La mediana muestra sesgo apreciable relativo.\\n\")\n",
    "} else {\n",
    "  cat(\"No hay suficientes datos para estimar bias con bootstrap.\\n\")\n",
    "}\n"
   ]
  },
  {
   "cell_type": "code",
   "execution_count": 27,
   "id": "35225c44",
   "metadata": {
    "vscode": {
     "languageId": "r"
    }
   },
   "outputs": [
    {
     "name": "stdout",
     "output_type": "stream",
     "text": [
      "     n   var_mean var_median\n",
      "1   50 4656962332  157427567\n",
      "2  625  360637463    4037483\n",
      "3 1201  133537029          0\n",
      "4 1777   91099758          0\n",
      "5 2352   44705049          0\n",
      "6 2928   26546255          0\n",
      "7 3504   11837980          0\n",
      "8 4080          0          0\n"
     ]
    },
    {
     "name": "stderr",
     "output_type": "stream",
     "text": [
      "Gráfico de consistencia guardado en: C:/Users/juand/OneDrive/libros/estadistica2taller1/analisis_P3095S3_check/consistencia_var_vs_n.png\n",
      "\n"
     ]
    },
    {
     "name": "stdout",
     "output_type": "stream",
     "text": [
      "\n",
      "Comentario (Consistencia):\n",
      "Si la varianza del estimador (mean o median) disminuye al crecer n, evidencia consistencia.\n"
     ]
    },
    {
     "data": {
      "image/png": "[encoded data removed]",
      "text/plain": [
       "plot without title"
      ]
     },
     "metadata": {
      "image/png": {
       "height": 420,
       "width": 420
      }
     },
     "output_type": "display_data"
    }
   ],
   "source": [
    "# ---- Celda 6: Consistencia (comportamiento varianza vs n) ------------------\n",
    "library(dplyr); set.seed(123)\n",
    "\n",
    "x <- df_var$value\n",
    "x_nm <- x[!is.na(x)]\n",
    "\n",
    "if (length(x_nm) > 30) {\n",
    "  ns <- unique(floor(seq(50, length(x_nm), length.out = 8)))\n",
    "  reps <- 300  # repeticiones por tamaño (moderado)\n",
    "  res <- data.frame(n = integer(), var_mean = numeric(), var_median = numeric())\n",
    "  for (n in ns) {\n",
    "    ests_mean <- numeric(reps); ests_med <- numeric(reps)\n",
    "    for (r in 1:reps) {\n",
    "      s <- sample(x_nm, size = n, replace = FALSE)\n",
    "      ests_mean[r] <- mean(s)\n",
    "      ests_med[r] <- median(s)\n",
    "    }\n",
    "    res <- rbind(res, data.frame(n = n, var_mean = var(ests_mean), var_median = var(ests_med)))\n",
    "  }\n",
    "  print(res)\n",
    "\n",
    "  # gráfico var vs n\n",
    "  library(ggplot2)\n",
    "  pcons <- ggplot(res, aes(x = n)) +\n",
    "    geom_line(aes(y = var_mean, color = \"var_mean\")) +\n",
    "    geom_point(aes(y = var_mean, color = \"var_mean\")) +\n",
    "    geom_line(aes(y = var_median, color = \"var_median\")) +\n",
    "    geom_point(aes(y = var_median, color = \"var_median\")) +\n",
    "    labs(title = \"Varianza del estimador vs tamaño muestral (submuestras)\",\n",
    "         x = \"n (submuestra)\", y = \"Varianza estimada\") + theme_minimal()\n",
    "  print(pcons)\n",
    "  ggsave(filename = file.path(out_dir, \"consistencia_var_vs_n.png\"), plot = pcons, width = 7, height = 4)\n",
    "  message(\"Gráfico de consistencia guardado en: \", file.path(out_dir, \"consistencia_var_vs_n.png\"))\n",
    "\n",
    "  cat(\"\\nComentario (Consistencia):\\nSi la varianza del estimador (mean o median) disminuye al crecer n, evidencia consistencia.\\n\")\n",
    "} else cat(\"No hay suficientes datos (>30) para estudiar consistencia por submuestreo.\\n\")\n"
   ]
  },
  {
   "cell_type": "code",
   "execution_count": null,
   "id": "f93f4b7f",
   "metadata": {
    "vscode": {
     "languageId": "r"
    }
   },
   "outputs": [
    {
     "name": "stderr",
     "output_type": "stream",
     "text": [
      "\n",
      "Adjuntando el paquete: 'dplyr'\n",
      "\n",
      "\n",
      "The following objects are masked from 'package:stats':\n",
      "\n",
      "    filter, lag\n",
      "\n",
      "\n",
      "The following objects are masked from 'package:base':\n",
      "\n",
      "    intersect, setdiff, setequal, union\n",
      "\n",
      "\n"
     ]
    },
    {
     "ename": "ERROR",
     "evalue": "Error: objeto 'df_var' no encontrado\n",
     "output_type": "error",
     "traceback": [
      "Error: objeto 'df_var' no encontrado\nTraceback:\n"
     ]
    }
   ],
   "source": [
    "# ---- Celda 7: Eficiencia y Sintaxis empleada --------------------------------\n",
    "library(dplyr)\n",
    "set.seed(42)\n",
    "\n",
    "x <- df_var$value\n",
    "x_nm <- x[!is.na(x)]\n",
    "\n",
    "if (length(x_nm) > 10) {\n",
    "  # bootstrap var estimadas\n",
    "  B <- 1000\n",
    "  b_mean <- boot(x_nm, statistic = function(d,i) mean(d[i]), R = B)\n",
    "  b_median <- boot(x_nm, statistic = function(d,i) median(d[i]), R = B)\n",
    "  var_mean_boot <- var(b_mean$t)\n",
    "  var_median_boot <- var(b_median$t)\n",
    "  rel_eff <- var_median_boot / var_mean_boot\n",
    "\n",
    "  cat(\"Eficiencia (empírica via bootstrap):\\n\")\n",
    "  cat(\" Var(mean) bootstrap:\", var_mean_boot, \"\\n\")\n",
    "  cat(\" Var(median) bootstrap:\", var_median_boot, \"\\n\")\n",
    "  cat(\" Rel. effic (var_median / var_mean):\", rel_eff, \"\\n\")\n",
    "\n",
    "  cat(\"\\nComentario (Eficiencia):\\n\")\n",
    "  if (rel_eff > 1) cat(\" La media es más eficiente (menor var) que la mediana en esta muestra.\\n\") else cat(\" La mediana es más eficiente en esta muestra.\\n\")\n",
    "} else cat(\"No hay suficientes datos para evaluar eficiencia.\\n\")\n",
    "\n"
   ]
  }
 ],
 "metadata": {
  "kernelspec": {
   "display_name": "R",
   "language": "R",
   "name": "ir"
  },
  "language_info": {
   "codemirror_mode": "r",
   "file_extension": ".r",
   "mimetype": "text/x-r-source",
   "name": "R",
   "pygments_lexer": "r",
   "version": "4.5.1"
  }
 },
 "nbformat": 4,
 "nbformat_minor": 5
}
