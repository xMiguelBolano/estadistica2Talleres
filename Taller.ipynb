{
 "cells": [
  {
   "cell_type": "code",
   "execution_count": null,
   "id": "7fb55af4",
   "metadata": {
    "vscode": {
     "languageId": "plaintext"
    }
   },
   "outputs": [],
   "source": [
    "# Markdown \n",
    "Otras formas de trabajo\n",
    "#   Datos a usar\n",
    "cuántitativas: \n",
    "P3094S3 : Cuánto ahorro por cultivar\n",
    "P3087S1: Valor mensual por practicas o pasantías\n",
    "P3095S3: Valor ahorra por criar animales\n",
    "# Cualitativas\n",
    "P3101: ¿Fue a reuniones familiares durante las ultimas 4 semanas? si o no"
   ]
  },
  {
   "cell_type": "markdown",
   "id": "98920220",
   "metadata": {},
   "source": [
    "# agrupar estas variables para los 3 meses "
   ]
  }
 ],
 "metadata": {
  "language_info": {
   "name": "python"
  }
 },
 "nbformat": 4,
 "nbformat_minor": 5
}
