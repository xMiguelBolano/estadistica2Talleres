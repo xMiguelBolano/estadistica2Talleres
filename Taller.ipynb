{
 "cells": [
  {
   "cell_type": "markdown",
   "id": "7fb55af4",
   "metadata": {
    "vscode": {
     "languageId": "r"
    }
   },
   "source": [
    "# Markdown \n",
    "Otras formas de trabajo\n",
    "#   Datos a usar\n",
    "cuántitativas: \n",
    "P3094S3 : Cuánto ahorro por cultivar\n",
    "P3087S1: Valor mensual por practicas o pasantías\n",
    "P3095S3: Valor ahorra por criar animales\n",
    "# Cualitativas\n",
    "P3101: ¿Fue a reuniones familiares durante las ultimas 4 semanas? si o no"
   ]
  },
  {
   "cell_type": "markdown",
   "id": "98920220",
   "metadata": {},
   "source": [
    "### P3087S1"
   ]
  },
  {
   "cell_type": "code",
   "execution_count": 38,
   "id": "82d56acf",
   "metadata": {
    "vscode": {
     "languageId": "r"
    }
   },
   "outputs": [],
   "source": [
    "library(readr)\n",
    "\n",
    "# Datos de valor mensual por practicas o pasantias\n",
    "formas_trabajo_mayo <- read_delim(\n",
    "  'Mayo_2024 1/CSV/Otras formas de trabajo.CSV',\n",
    "  delim = \";\", escape_double = FALSE, trim_ws = TRUE,\n",
    "  col_types = cols(.default = \"c\") # convertir a caracteres\n",
    ")\n",
    "\n",
    "formas_trabajo_junio <- read_delim(\n",
    "  'Junio_2024/CSV/Otras formas de trabajo.CSV',\n",
    "  delim = \";\", escape_double = FALSE, trim_ws = TRUE,\n",
    "  col_types = cols(.default = \"c\") # convertir a caracteres\n",
    ")\n",
    "\n",
    "formas_trabajo_julio <- read_delim(\n",
    "  'Julio_2024/CSV/Otras formas de trabajo.CSV',\n",
    "  delim = \";\", escape_double = FALSE, trim_ws = TRUE,\n",
    "  col_types = cols(.default = \"c\") # convertir a caracteres\n",
    ")\n",
    "\n",
    "#### Procesamiento\n",
    "library(dplyr)\n",
    "\n",
    "formas_trabajo <- bind_rows(\n",
    "    formas_trabajo_mayo, # nolint\n",
    "    formas_trabajo_junio,\n",
    "    formas_trabajo_julio\n",
    ")"
   ]
  },
  {
   "cell_type": "code",
   "execution_count": 40,
   "id": "c4b2c823",
   "metadata": {
    "vscode": {
     "languageId": "r"
    }
   },
   "outputs": [],
   "source": [
    "# Esta es una función muy útil para crear gráficas múltiples\n",
    "multiplot <- function(..., plotlist=NULL, file, cols=1, layout=NULL) {\n",
    "  library(grid)\n",
    "  plots <- c(list(...), plotlist)\n",
    "  numPlots = length(plots)\n",
    "  if (is.null(layout)) {\n",
    "    layout <- matrix(seq(1, cols * ceiling(numPlots/cols)),\n",
    "                    ncol = cols, nrow = ceiling(numPlots/cols))\n",
    "  }\n",
    " if (numPlots==1) {\n",
    "    print(plots[[1]])\n",
    "  } else {\n",
    "    grid.newpage()\n",
    "    pushViewport(viewport(layout = grid.layout(nrow(layout), ncol(layout))))\n",
    "    for (i in 1:numPlots) {\n",
    "      matchidx <- as.data.frame(which(layout == i, arr.ind = TRUE))\n",
    "\n",
    "      print(plots[[i]], vp = viewport(layout.pos.row = matchidx$row,\n",
    "                                      layout.pos.col = matchidx$col))\n",
    "    }\n",
    "  }\n",
    "}"
   ]
  },
  {
   "cell_type": "code",
   "execution_count": 41,
   "id": "7c755811",
   "metadata": {
    "vscode": {
     "languageId": "r"
    }
   },
   "outputs": [
    {
     "name": "stderr",
     "output_type": "stream",
     "text": [
      "Warning message:\n",
      "\"\u001b[1m\u001b[22mRemoved 166005 rows containing non-finite outside the scale range\n",
      "(`stat_boxplot()`).\"\n"
     ]
    },
    {
     "data": {
      "image/png": "[encoded data removed]",
      "text/plain": [
       "plot without title"
      ]
     },
     "metadata": {
      "image/png": {
       "height": 420,
       "width": 420
      }
     },
     "output_type": "display_data"
    }
   ],
   "source": [
    "library(ggplot2)\n",
    "\n",
    "# Convertir datos a numérico\n",
    "formas_trabajo$P3087S1 <- as.numeric(formas_trabajo$P3087S1)\n",
    "\n",
    "p1 <- ggplot(formas_trabajo, aes(x = PERIODO, y = P3087S1, col = PERIODO)) +\n",
    "  geom_boxplot() + \n",
    "  theme(\n",
    "    legend.position = 'none',\n",
    "    axis.text = element_text(size = 14),\n",
    "    axis.title = element_text(size = 14)\n",
    "  ) +\n",
    "  coord_flip()\n",
    "\n",
    "p1 <- p1 + ylab(\"Ingresos mensuales\") + xlab(\"Período\")\n",
    "print(p1)"
   ]
  },
  {
   "cell_type": "code",
   "execution_count": null,
   "id": "17a08ea9",
   "metadata": {
    "vscode": {
     "languageId": "r"
    }
   },
   "outputs": [
    {
     "name": "stdout",
     "output_type": "stream",
     "text": [
      "               [,1]\n",
      "media      998708.3\n",
      "desv       621977.4\n",
      "N             336.0\n",
      "error.est   33931.6\n",
      "error       66506.0\n",
      "lim.inf    932202.3\n",
      "lim.sup   1065214.4\n"
     ]
    }
   ],
   "source": [
    "muestra <- formas_trabajo$P3087S1\n",
    "\n",
    "# Estadísticos ignorando NA\n",
    "media <- mean(muestra, na.rm = TRUE)\n",
    "desv <- sd(muestra, na.rm = TRUE)\n",
    "N <- sum(!is.na(muestra))  # Cuenta solo valores no NA\n",
    "\n",
    "error.est <- desv / sqrt(N)\n",
    "error <- 1.96 * error.est\n",
    "lim.inf <- media - error\n",
    "lim.sup <- media + error\n",
    "\n",
    "resultado1 <- data.frame(media, desv, N, error.est, error, lim.inf, lim.sup)\n",
    "print(round(t(resultado1), 1))\n"
   ]
  }
 ],
 "metadata": {
  "kernelspec": {
   "display_name": "R",
   "language": "R",
   "name": "ir"
  },
  "language_info": {
   "codemirror_mode": "r",
   "file_extension": ".r",
   "mimetype": "text/x-r-source",
   "name": "R",
   "pygments_lexer": "r",
   "version": "4.5.1"
  }
 },
 "nbformat": 4,
 "nbformat_minor": 5
}
