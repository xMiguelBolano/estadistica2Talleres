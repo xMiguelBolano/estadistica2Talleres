{
 "cells": [
  {
   "cell_type": "code",
   "execution_count": null,
   "id": "7fb55af4",
   "metadata": {
    "vscode": {
     "languageId": "r"
    }
   },
   "outputs": [],
   "source": [
    "# Markdown \n",
    "Otras formas de trabajo\n",
    "#   Datos a usar\n",
    "cuántitativas: \n",
    "P3094S3 : Cuánto ahorro por cultivar\n",
    "P3087S1: Valor mensual por practicas o pasantías\n",
    "P3095S3: Valor ahorra por criar animales\n",
    "# Cualitativas\n",
    "P3101: ¿Fue a reuniones familiares durante las ultimas 4 semanas? si o no"
   ]
  },
  {
   "cell_type": "markdown",
   "id": "98920220",
   "metadata": {},
   "source": [
    "# agrupar estas variables para los 3 meses "
   ]
  },
  {
   "cell_type": "code",
   "execution_count": 13,
   "id": "f762f801",
   "metadata": {
    "vscode": {
     "languageId": "r"
    }
   },
   "outputs": [
    {
     "name": "stderr",
     "output_type": "stream",
     "text": [
      "Warning message:\n",
      "\"\u001b[1m\u001b[22mOne or more parsing issues, call `problems()` on your data frame for details,\n",
      "e.g.:\n",
      "  dat <- vroom(...)\n",
      "  problems(dat)\"\n"
     ]
    },
    {
     "name": "stdout",
     "output_type": "stream",
     "text": [
      "✅ Archivo combinado guardado en: C:/Users/juand/OneDrive/libros/estadistica2taller1/Combinado.csv\n"
     ]
    }
   ],
   "source": [
    "library(readr)\n",
    "library(dplyr)\n",
    "\n",
    "# Archivos\n",
    "csv_files <- c(\n",
    "  \"C:/Users/juand/OneDrive/libros/estadistica2taller1/Mayo_2024 1/CSV/Otras formas de trabajo.CSV\",\n",
    "  \"C:/Users/juand/OneDrive/libros/estadistica2taller1/Junio_2024/CSV/Otras formas de trabajo.CSV\",\n",
    "  \"C:/Users/juand/OneDrive/libros/estadistica2taller1/Julio_2024/CSV/Otras formas de trabajo.CSV\"\n",
    ")\n",
    "\n",
    "# Columnas necesarias\n",
    "cols_needed <- c(\"P3094S3\", \"P3087S1\", \"P3095S3\", \"P3101\")\n",
    "\n",
    "# Función para leer y limpiar\n",
    "read_and_clean <- function(file) {\n",
    "  df <- read_delim(\n",
    "    file,\n",
    "    delim = \";\",\n",
    "    col_names = TRUE,\n",
    "    show_col_types = FALSE,\n",
    "    locale = locale(encoding = \"UTF-8\"),\n",
    "    guess_max = 10000\n",
    "  )\n",
    "  \n",
    "  # Seleccionar solo las columnas necesarias\n",
    "  df <- df %>% select(any_of(cols_needed))\n",
    "  \n",
    "  # Limpiar y convertir valores monetarios\n",
    "  df <- df %>%\n",
    "    mutate(\n",
    "      across(c(\"P3094S3\", \"P3087S1\", \"P3095S3\"), ~ {\n",
    "        x <- as.character(.)\n",
    "        x <- gsub(\"\\\\.\", \"\", x)   # eliminar puntos de miles\n",
    "        x <- gsub(\",\", \".\", x)    # convertir coma a punto decimal si la hay\n",
    "        suppressWarnings(as.numeric(x))\n",
    "      })\n",
    "    )\n",
    "  \n",
    "  return(df)\n",
    "}\n",
    "\n",
    "# Leer y combinar\n",
    "combined <- bind_rows(lapply(csv_files, read_and_clean))\n",
    "\n",
    "# Guardar\n",
    "write_csv(combined, \"C:/Users/juand/OneDrive/libros/estadistica2taller1/Combinado.csv\")\n",
    "\n",
    "cat(\"✅ Archivo combinado guardado en: C:/Users/juand/OneDrive/libros/estadistica2taller1/Combinado.csv\\n\")\n"
   ]
  },
  {
   "cell_type": "code",
   "execution_count": 17,
   "id": "8645d5ce",
   "metadata": {
    "vscode": {
     "languageId": "r"
    }
   },
   "outputs": [
    {
     "name": "stderr",
     "output_type": "stream",
     "text": [
      "also installing the dependencies 'listenv', 'parallelly', 'rbibutils', 'fontBitstreamVera', 'fontLiberation', 'future', 'globals', 'AsioHeaders', 'V8', 'Rdpack', 'locatexec', 'fontquiver', 'tidyr', 'coda', 'forcats', 'furrr', 'websocket', 'xslt', 'katex', 'minqa', 'nloptr', 'reformulas', 'RcppEigen', 'rvg', 'qpdf', 'devEMF', 'doconv', 'gdtools', 'rsvg', 'data.table', 'bookdown', 'broom', 'broom.mixed', 'chromote', 'equatags', 'lme4', 'officedown', 'pdftools', 'svglite', 'tables', 'webshot2'\n",
      "\n",
      "\n"
     ]
    },
    {
     "name": "stdout",
     "output_type": "stream",
     "text": [
      "package 'listenv' successfully unpacked and MD5 sums checked\n",
      "package 'parallelly' successfully unpacked and MD5 sums checked\n",
      "package 'rbibutils' successfully unpacked and MD5 sums checked\n",
      "package 'fontBitstreamVera' successfully unpacked and MD5 sums checked\n",
      "package 'fontLiberation' successfully unpacked and MD5 sums checked\n",
      "package 'future' successfully unpacked and MD5 sums checked\n",
      "package 'globals' successfully unpacked and MD5 sums checked\n",
      "package 'AsioHeaders' successfully unpacked and MD5 sums checked\n",
      "package 'V8' successfully unpacked and MD5 sums checked\n",
      "package 'Rdpack' successfully unpacked and MD5 sums checked\n",
      "package 'locatexec' successfully unpacked and MD5 sums checked\n",
      "package 'fontquiver' successfully unpacked and MD5 sums checked\n",
      "package 'tidyr' successfully unpacked and MD5 sums checked\n",
      "package 'coda' successfully unpacked and MD5 sums checked\n",
      "package 'forcats' successfully unpacked and MD5 sums checked\n",
      "package 'furrr' successfully unpacked and MD5 sums checked\n",
      "package 'websocket' successfully unpacked and MD5 sums checked\n",
      "package 'xslt' successfully unpacked and MD5 sums checked\n",
      "package 'katex' successfully unpacked and MD5 sums checked\n",
      "package 'minqa' successfully unpacked and MD5 sums checked\n",
      "package 'nloptr' successfully unpacked and MD5 sums checked\n",
      "package 'reformulas' successfully unpacked and MD5 sums checked\n",
      "package 'RcppEigen' successfully unpacked and MD5 sums checked\n",
      "package 'rvg' successfully unpacked and MD5 sums checked\n",
      "package 'qpdf' successfully unpacked and MD5 sums checked\n",
      "package 'devEMF' successfully unpacked and MD5 sums checked\n",
      "package 'doconv' successfully unpacked and MD5 sums checked\n",
      "package 'gdtools' successfully unpacked and MD5 sums checked\n",
      "package 'rsvg' successfully unpacked and MD5 sums checked\n",
      "package 'data.table' successfully unpacked and MD5 sums checked\n",
      "package 'bookdown' successfully unpacked and MD5 sums checked\n",
      "package 'broom' successfully unpacked and MD5 sums checked\n",
      "package 'broom.mixed' successfully unpacked and MD5 sums checked\n",
      "package 'chromote' successfully unpacked and MD5 sums checked\n",
      "package 'equatags' successfully unpacked and MD5 sums checked\n",
      "package 'lme4' successfully unpacked and MD5 sums checked\n",
      "package 'officedown' successfully unpacked and MD5 sums checked\n",
      "package 'pdftools' successfully unpacked and MD5 sums checked\n",
      "package 'svglite' successfully unpacked and MD5 sums checked\n",
      "package 'tables' successfully unpacked and MD5 sums checked\n",
      "package 'webshot2' successfully unpacked and MD5 sums checked\n",
      "package 'officer' successfully unpacked and MD5 sums checked\n",
      "package 'flextable' successfully unpacked and MD5 sums checked\n",
      "\n",
      "The downloaded binary packages are in\n",
      "\tC:\\Users\\juand\\AppData\\Local\\Temp\\RtmpYlIGBv\\downloaded_packages\n"
     ]
    },
    {
     "data": {
      "text/html": [
       "<ol>\n",
       "\t<li>TRUE</li>\n",
       "\t<li>TRUE</li>\n",
       "\t<li>TRUE</li>\n",
       "\t<li>TRUE</li>\n",
       "\t<li>TRUE</li>\n",
       "\t<li>TRUE</li>\n",
       "\t<li>TRUE</li>\n",
       "</ol>\n"
      ],
      "text/latex": [
       "\\begin{enumerate}\n",
       "\\item TRUE\n",
       "\\item TRUE\n",
       "\\item TRUE\n",
       "\\item TRUE\n",
       "\\item TRUE\n",
       "\\item TRUE\n",
       "\\item TRUE\n",
       "\\end{enumerate}\n"
      ],
      "text/markdown": [
       "1. TRUE\n",
       "2. TRUE\n",
       "3. TRUE\n",
       "4. TRUE\n",
       "5. TRUE\n",
       "6. TRUE\n",
       "7. TRUE\n",
       "\n",
       "\n"
      ],
      "text/plain": [
       "[[1]]\n",
       "[1] TRUE\n",
       "\n",
       "[[2]]\n",
       "[1] TRUE\n",
       "\n",
       "[[3]]\n",
       "[1] TRUE\n",
       "\n",
       "[[4]]\n",
       "[1] TRUE\n",
       "\n",
       "[[5]]\n",
       "[1] TRUE\n",
       "\n",
       "[[6]]\n",
       "[1] TRUE\n",
       "\n",
       "[[7]]\n",
       "[1] TRUE\n"
      ]
     },
     "metadata": {},
     "output_type": "display_data"
    },
    {
     "name": "stderr",
     "output_type": "stream",
     "text": [
      "Paquete 'moments' no encontrado — usando funciones manuales para skewness/kurtosis.\n",
      "\n"
     ]
    }
   ],
   "source": [
    "# =========================\n",
    "# Inicio: instalar / cargar paquetes y definir skew/kurt si falta 'moments'\n",
    "# =========================\n",
    "\n",
    "required_pkgs <- c(\"readr\",\"dplyr\",\"ggplot2\",\"boot\",\"rmarkdown\",\"officer\",\"flextable\")\n",
    "to_install <- required_pkgs[!(required_pkgs %in% installed.packages()[,\"Package\"])]\n",
    "if(length(to_install)) {\n",
    "  install.packages(to_install, dependencies = TRUE, repos = \"https://cloud.r-project.org\")\n",
    "}\n",
    "# cargar paquetes\n",
    "lapply(required_pkgs, function(p) {\n",
    "  suppressPackageStartupMessages(require(p, character.only = TRUE))\n",
    "})\n",
    "\n",
    "# Intentar cargar 'moments' y si no está, definimos funciones manuales\n",
    "if (!(\"moments\" %in% installed.packages()[, \"Package\"])) {\n",
    "  message(\"Paquete 'moments' no encontrado — usando funciones manuales para skewness/kurtosis.\")\n",
    "  skewness_calc <- function(x, na.rm = TRUE) {\n",
    "    if (na.rm) x <- x[!is.na(x)]\n",
    "    n <- length(x)\n",
    "    if (n < 3) return(NA_real_)\n",
    "    m <- mean(x)\n",
    "    s <- sd(x)\n",
    "    if (s == 0) return(0)\n",
    "    mean((x - m)^3) / (s^3)\n",
    "  }\n",
    "  kurtosis_calc <- function(x, na.rm = TRUE) {\n",
    "    if (na.rm) x <- x[!is.na(x)]\n",
    "    n <- length(x)\n",
    "    if (n < 4) return(NA_real_)\n",
    "    m <- mean(x)\n",
    "    s <- sd(x)\n",
    "    if (s == 0) return(-3) # excess kurtosis = -3 if constant series\n",
    "    mean((x - m)^4) / (s^4) - 3  # exceso de kurtosis (como moments::kurtosis)\n",
    "  }\n",
    "} else {\n",
    "  library(moments)\n",
    "  skewness_calc <- function(x, na.rm = TRUE) moments::skewness(x, na.rm = na.rm)\n",
    "  kurtosis_calc <- function(x, na.rm = TRUE) moments::kurtosis(x, na.rm = na.rm)\n",
    "}\n",
    "\n",
    "# =========================\n",
    "# Continuar con el resto del script (ejemplo: cálculo descriptivos)\n",
    "# =========================\n",
    "\n",
    "# Supongamos que ya tienes x_nonmiss definido (vector numérico sin NA):\n",
    "# Ejemplo:\n",
    "# x_nonmiss <- na.omit(df$P3095S3)\n",
    "\n",
    "# Ahora usa las funciones:\n",
    "# skew_x <- skewness_calc(x_nonmiss)\n",
    "# kurt_x <- kurtosis_calc(x_nonmiss)\n",
    "\n"
   ]
  },
  {
   "cell_type": "code",
   "execution_count": 22,
   "id": "63a879fb",
   "metadata": {
    "vscode": {
     "languageId": "r"
    }
   },
   "outputs": [
    {
     "name": "stderr",
     "output_type": "stream",
     "text": [
      "No se detectaron problemas de parsing leyendo todo como carácter.\n",
      "\n"
     ]
    },
    {
     "name": "stdout",
     "output_type": "stream",
     "text": [
      "N total filas leídas: 166341 \n",
      "N no-missing en P3095S3 : 4080 \n",
      "Valores únicos: 152 \n",
      "    Min.  1st Qu.   Median     Mean  3rd Qu.     Max. \n",
      "    1000    30000    60000   159471   150000 20000000 \n",
      "Top 20 valores (mayores):\n",
      " [1] 20000000 10000000  8000000  5000000  4500000  3500000  3000000  2500000\n",
      " [9]  2000000  1900000  1800000  1700000  1600000  1500000  1400000  1330000\n",
      "[17]  1200000  1000000   900000   875000\n",
      "Top 20 valores (menores):\n",
      " [1]  1000  1500  2000  2500  3000  3500  4200  5000  6000  7000  8000  9000\n",
      "[13]  9999 10000 12000 13000 13500 13600 14000 15000\n"
     ]
    },
    {
     "data": {
      "text/html": [
       "<strong>agg_record_1741283825:</strong> 2"
      ],
      "text/latex": [
       "\\textbf{agg\\textbackslash{}\\_record\\textbackslash{}\\_1741283825:} 2"
      ],
      "text/markdown": [
       "**agg_record_1741283825:** 2"
      ],
      "text/plain": [
       "agg_record_1741283825 \n",
       "                    2 "
      ]
     },
     "metadata": {},
     "output_type": "display_data"
    },
    {
     "data": {
      "text/html": [
       "<strong>agg_record_1741283825:</strong> 2"
      ],
      "text/latex": [
       "\\textbf{agg\\textbackslash{}\\_record\\textbackslash{}\\_1741283825:} 2"
      ],
      "text/markdown": [
       "**agg_record_1741283825:** 2"
      ],
      "text/plain": [
       "agg_record_1741283825 \n",
       "                    2 "
      ]
     },
     "metadata": {},
     "output_type": "display_data"
    },
    {
     "name": "stdout",
     "output_type": "stream",
     "text": [
      "Número de observaciones extremas (> P99.9 o > 10*mediana): 144 \n",
      " [1] 20000000 10000000  8000000  5000000  4500000  3500000  3000000  2500000\n",
      " [9]  2000000  1900000  1800000  1700000  1600000  1500000  1400000  1330000\n",
      "[17]  1200000  1000000   900000   875000\n",
      "\n",
      "Sugerencia: variable muy sesgada (mean >> median), se recomienda considerar transformación logarítmica para análisis robustos.\n"
     ]
    },
    {
     "data": {
      "text/html": [
       "<strong>agg_record_1741283825:</strong> 2"
      ],
      "text/latex": [
       "\\textbf{agg\\textbackslash{}\\_record\\textbackslash{}\\_1741283825:} 2"
      ],
      "text/markdown": [
       "**agg_record_1741283825:** 2"
      ],
      "text/plain": [
       "agg_record_1741283825 \n",
       "                    2 "
      ]
     },
     "metadata": {},
     "output_type": "display_data"
    },
    {
     "name": "stdout",
     "output_type": "stream",
     "text": [
      "Archivos generados en: C:/Users/juand/OneDrive/libros/estadistica2taller1/analisis_P3095S3_check \n",
      " - parsing_problems.csv (si existieron problemas)\n",
      " - preview_first200_var.csv\n",
      " - extreme_cases_var.csv (si hay extremos)\n",
      " - hist_var_raw.png, boxplot_var_raw.png, hist_var_log1p.png\n",
      "\n"
     ]
    }
   ],
   "source": [
    "# ---- Lectura robusta y limpieza de P3095S3 ----\n",
    "library(readr); library(dplyr); library(ggplot2)\n",
    "\n",
    "data_path <- \"C:/Users/juand/OneDrive/libros/estadistica2taller1/Combinado.csv\"\n",
    "varname <- \"P3095S3\"\n",
    "out_dir <- \"C:/Users/juand/OneDrive/libros/estadistica2taller1/analisis_P3095S3_check\"\n",
    "dir.create(out_dir, showWarnings = FALSE, recursive = TRUE)\n",
    "\n",
    "# 1) Leer todo como character para evitar parsing issues\n",
    "df_char <- readr::read_csv(data_path,\n",
    "                           col_types = readr::cols(.default = \"c\"),\n",
    "                           locale = readr::locale(encoding = \"UTF-8\"),\n",
    "                           guess_max = 100000)\n",
    "\n",
    "# Guardar problemas detectados (si los hay)\n",
    "probs <- problems(df_char)\n",
    "if (nrow(probs) > 0) {\n",
    "  message(\"Se detectaron problemas de parsing: \", nrow(probs), \" filas. Guardando 'parsing_problems.csv'.\")\n",
    "  readr::write_csv(probs, file.path(out_dir, \"parsing_problems.csv\"))\n",
    "} else {\n",
    "  message(\"No se detectaron problemas de parsing leyendo todo como carácter.\")\n",
    "}\n",
    "\n",
    "# 2) Si la variable no está exactamente con ese nombre, intentar buscarla (insensitivo a mayúsculas)\n",
    "if (!varname %in% names(df_char)) {\n",
    "  guess <- names(df_char)[tolower(names(df_char)) %in% tolower(varname)]\n",
    "  if (length(guess) == 1) {\n",
    "    varname_real <- guess\n",
    "    message(\"Variable encontrada con nombre alternativo: \", varname_real)\n",
    "  } else {\n",
    "    stop(\"No pude encontrar la variable '\", varname, \"'. Revisa los nombres de columnas: \", paste(names(df_char)[1:30], collapse = \", \"))\n",
    "  }\n",
    "} else varname_real <- varname\n",
    "\n",
    "# 3) Función robusta para convertir textos a numérico (maneja ., , como miles/decimales)\n",
    "clean_numeric2 <- function(x) {\n",
    "  x <- as.character(x)\n",
    "  x[is.na(x)] <- NA_character_\n",
    "  x <- trimws(x)\n",
    "  x <- gsub(\"\\\\s+\", \"\", x)                # quitar espacios\n",
    "  x <- gsub(\"[^0-9\\\\,\\\\.-]\", \"\", x)       # eliminar símbolos (moneda, letras)\n",
    "  # Si el string contiene ambos '.' y ',' asumimos que '.' es separador de miles\n",
    "  both <- grepl(\"\\\\.\", x) & grepl(\",\", x)\n",
    "  if (any(both)) {\n",
    "    x[both] <- gsub(\"\\\\.\", \"\", x[both])   # quitar puntos de miles\n",
    "    x[both] <- gsub(\",\", \".\", x[both])    # coma -> punto decimal\n",
    "  }\n",
    "  # Si sólo tiene coma, convertir coma -> punto\n",
    "  only_comma <- grepl(\",\", x) & !grepl(\"\\\\.\", x)\n",
    "  x[only_comma] <- gsub(\",\", \".\", x[only_comma])\n",
    "  # Si sólo tiene puntos (y parecen decimales), se deja; si eran miles sin coma dec, esto puede fallar.\n",
    "  # Finalmente convertir a numérico\n",
    "  suppressWarnings(as.numeric(x))\n",
    "}\n",
    "\n",
    "# Convertir la variable\n",
    "df_char[[varname_real]] <- clean_numeric2(df_char[[varname_real]])\n",
    "x <- df_char[[varname_real]]\n",
    "x_nonmiss <- x[!is.na(x)]\n",
    "\n",
    "# 4) Resumen rápido y diagnóstico\n",
    "cat(\"N total filas leídas:\", nrow(df_char), \"\\n\")\n",
    "cat(\"N no-missing en\", varname_real, \":\", length(x_nonmiss), \"\\n\")\n",
    "cat(\"Valores únicos:\", length(unique(x_nonmiss)), \"\\n\")\n",
    "print(summary(x_nonmiss))\n",
    "\n",
    "# Top y bottom para inspección\n",
    "cat(\"Top 20 valores (mayores):\\n\")\n",
    "print(sort(unique(x_nonmiss), decreasing = TRUE)[1:20])\n",
    "cat(\"Top 20 valores (menores):\\n\")\n",
    "print(sort(unique(x_nonmiss), decreasing = FALSE)[1:20])\n",
    "\n",
    "# Guardar una muestra (primeras 200 observaciones) para inspección manual en Excel\n",
    "samp_preview <- df_char %>% select(all_of(varname_real)) %>% slice_head(n = 200)\n",
    "readr::write_csv(samp_preview, file.path(out_dir, \"preview_first200_var.csv\"))\n",
    "\n",
    "# Gráficos simples para ver forma y outliers (png)\n",
    "png(file.path(out_dir, \"hist_var_raw.png\"), width = 900, height = 600)\n",
    "hist(x_nonmiss, breaks = 80, main = paste(\"Histograma de\", varname_real), xlab = varname_real)\n",
    "dev.off()\n",
    "\n",
    "png(file.path(out_dir, \"boxplot_var_raw.png\"), width = 600, height = 400)\n",
    "boxplot(x_nonmiss, main = paste(\"Boxplot de\", varname_real), ylab = varname_real)\n",
    "dev.off()\n",
    "\n",
    "# 5) Detectar outliers extremos (ejemplo: valores > percentile 99.9 o > 10 veces la mediana)\n",
    "p99.9 <- quantile(x_nonmiss, probs = 0.999, na.rm = TRUE)\n",
    "med <- median(x_nonmiss, na.rm = TRUE)\n",
    "extreme_idx <- which(x_nonmiss > p99.9 | x_nonmiss > 10 * med)\n",
    "cat(\"Número de observaciones extremas (> P99.9 o > 10*mediana):\", length(extreme_idx), \"\\n\")\n",
    "if (length(extreme_idx) > 0) {\n",
    "  top_extremes <- sort(unique(x_nonmiss[extreme_idx]), decreasing = TRUE)\n",
    "  print(head(top_extremes, 20))\n",
    "  # Guardarlas para inspección\n",
    "  df_extremes <- df_char %>% mutate(.orig_index = row_number()) %>% filter(!is.na(.data[[varname_real]]) & as.numeric(.data[[varname_real]]) %in% top_extremes)\n",
    "  readr::write_csv(df_extremes, file.path(out_dir, \"extreme_cases_var.csv\"))\n",
    "}\n",
    "\n",
    "# 6) Recomendar transformación si la variable es monetaria y está muy sesgada\n",
    "cat(\"\\nSugerencia: variable muy sesgada (mean >> median), se recomienda considerar transformación logarítmica para análisis robustos.\\n\")\n",
    "# Crear variable log(1+x) para uso posterior\n",
    "df_char[[paste0(varname_real, \"_log1p\")]] <- ifelse(!is.na(df_char[[varname_real]]), log1p(as.numeric(df_char[[varname_real]])), NA_real_)\n",
    "png(file.path(out_dir, \"hist_var_log1p.png\"), width = 900, height = 600)\n",
    "hist(df_char[[paste0(varname_real, \"_log1p\")]], breaks = 80, main = paste(\"Histograma log1p(\", varname_real, \")\"), xlab = paste0(\"log1p(\", varname_real, \")\"))\n",
    "dev.off()\n",
    "\n",
    "cat(\"Archivos generados en:\", out_dir, \"\\n\")\n",
    "cat(\" - parsing_problems.csv (si existieron problemas)\\n\")\n",
    "cat(\" - preview_first200_var.csv\\n\")\n",
    "cat(\" - extreme_cases_var.csv (si hay extremos)\\n\")\n",
    "cat(\" - hist_var_raw.png, boxplot_var_raw.png, hist_var_log1p.png\\n\\n\")\n",
    "\n",
    "# FIN del bloque de diagnóstico y limpieza\n"
   ]
  },
  {
   "cell_type": "code",
   "execution_count": 21,
   "id": "bb121d55",
   "metadata": {
    "vscode": {
     "languageId": "r"
    }
   },
   "outputs": [
    {
     "data": {
      "text/plain": [
       "    Min.  1st Qu.   Median     Mean  3rd Qu.     Max. \n",
       "    1000    30000    60000   159471   150000 20000000 "
      ]
     },
     "metadata": {},
     "output_type": "display_data"
    },
    {
     "data": {
      "text/html": [
       "4080"
      ],
      "text/latex": [
       "4080"
      ],
      "text/markdown": [
       "4080"
      ],
      "text/plain": [
       "[1] 4080"
      ]
     },
     "metadata": {},
     "output_type": "display_data"
    },
    {
     "data": {
      "text/html": [
       "152"
      ],
      "text/latex": [
       "152"
      ],
      "text/markdown": [
       "152"
      ],
      "text/plain": [
       "[1] 152"
      ]
     },
     "metadata": {},
     "output_type": "display_data"
    },
    {
     "data": {
      "text/html": [
       "512519.012366929"
      ],
      "text/latex": [
       "512519.012366929"
      ],
      "text/markdown": [
       "512519.012366929"
      ],
      "text/plain": [
       "[1] 512519"
      ]
     },
     "metadata": {},
     "output_type": "display_data"
    },
    {
     "data": {
      "text/html": [
       "<style>\n",
       ".list-inline {list-style: none; margin:0; padding: 0}\n",
       ".list-inline>li {display: inline-block}\n",
       ".list-inline>li:not(:last-child)::after {content: \"\\00b7\"; padding: 0 .5ex}\n",
       "</style>\n",
       "<ol class=list-inline><li>25000</li><li>3e+05</li><li>40000</li><li>1e+05</li><li>25000</li><li>80000</li><li>60000</li><li>1e+05</li><li>3e+05</li><li>60000</li><li>190000</li><li>70000</li><li>150000</li><li>2e+05</li><li>150000</li><li>70000</li><li>1e+05</li><li>50000</li><li>20000</li><li>60000</li></ol>\n"
      ],
      "text/latex": [
       "\\begin{enumerate*}\n",
       "\\item 25000\n",
       "\\item 3e+05\n",
       "\\item 40000\n",
       "\\item 1e+05\n",
       "\\item 25000\n",
       "\\item 80000\n",
       "\\item 60000\n",
       "\\item 1e+05\n",
       "\\item 3e+05\n",
       "\\item 60000\n",
       "\\item 190000\n",
       "\\item 70000\n",
       "\\item 150000\n",
       "\\item 2e+05\n",
       "\\item 150000\n",
       "\\item 70000\n",
       "\\item 1e+05\n",
       "\\item 50000\n",
       "\\item 20000\n",
       "\\item 60000\n",
       "\\end{enumerate*}\n"
      ],
      "text/markdown": [
       "1. 25000\n",
       "2. 3e+05\n",
       "3. 40000\n",
       "4. 1e+05\n",
       "5. 25000\n",
       "6. 80000\n",
       "7. 60000\n",
       "8. 1e+05\n",
       "9. 3e+05\n",
       "10. 60000\n",
       "11. 190000\n",
       "12. 70000\n",
       "13. 150000\n",
       "14. 2e+05\n",
       "15. 150000\n",
       "16. 70000\n",
       "17. 1e+05\n",
       "18. 50000\n",
       "19. 20000\n",
       "20. 60000\n",
       "\n",
       "\n"
      ],
      "text/plain": [
       " [1]  25000 300000  40000 100000  25000  80000  60000 100000 300000  60000\n",
       "[11] 190000  70000 150000 200000 150000  70000 100000  50000  20000  60000"
      ]
     },
     "metadata": {},
     "output_type": "display_data"
    },
    {
     "data": {
      "text/html": [
       "<table class=\"dataframe\">\n",
       "<caption>A tibble: 336 × 5</caption>\n",
       "<thead>\n",
       "\t<tr><th scope=col>row</th><th scope=col>col</th><th scope=col>expected</th><th scope=col>actual</th><th scope=col>file</th></tr>\n",
       "\t<tr><th scope=col>&lt;int&gt;</th><th scope=col>&lt;int&gt;</th><th scope=col>&lt;chr&gt;</th><th scope=col>&lt;chr&gt;</th><th scope=col>&lt;chr&gt;</th></tr>\n",
       "</thead>\n",
       "<tbody>\n",
       "\t<tr><td>  199</td><td>2</td><td>1/0/T/F/TRUE/FALSE</td><td>1300000</td><td>C:/Users/juand/OneDrive/libros/estadistica2taller1/Combinado.csv</td></tr>\n",
       "\t<tr><td>  662</td><td>2</td><td>1/0/T/F/TRUE/FALSE</td><td>1200000</td><td>C:/Users/juand/OneDrive/libros/estadistica2taller1/Combinado.csv</td></tr>\n",
       "\t<tr><td>  793</td><td>2</td><td>1/0/T/F/TRUE/FALSE</td><td>800000 </td><td>C:/Users/juand/OneDrive/libros/estadistica2taller1/Combinado.csv</td></tr>\n",
       "\t<tr><td> 1609</td><td>2</td><td>1/0/T/F/TRUE/FALSE</td><td>80000  </td><td>C:/Users/juand/OneDrive/libros/estadistica2taller1/Combinado.csv</td></tr>\n",
       "\t<tr><td> 1617</td><td>2</td><td>1/0/T/F/TRUE/FALSE</td><td>900000 </td><td>C:/Users/juand/OneDrive/libros/estadistica2taller1/Combinado.csv</td></tr>\n",
       "\t<tr><td> 2561</td><td>2</td><td>1/0/T/F/TRUE/FALSE</td><td>780000 </td><td>C:/Users/juand/OneDrive/libros/estadistica2taller1/Combinado.csv</td></tr>\n",
       "\t<tr><td> 3524</td><td>2</td><td>1/0/T/F/TRUE/FALSE</td><td>200000 </td><td>C:/Users/juand/OneDrive/libros/estadistica2taller1/Combinado.csv</td></tr>\n",
       "\t<tr><td> 4169</td><td>2</td><td>1/0/T/F/TRUE/FALSE</td><td>1800000</td><td>C:/Users/juand/OneDrive/libros/estadistica2taller1/Combinado.csv</td></tr>\n",
       "\t<tr><td> 4199</td><td>2</td><td>1/0/T/F/TRUE/FALSE</td><td>960000 </td><td>C:/Users/juand/OneDrive/libros/estadistica2taller1/Combinado.csv</td></tr>\n",
       "\t<tr><td> 5175</td><td>2</td><td>1/0/T/F/TRUE/FALSE</td><td>1462000</td><td>C:/Users/juand/OneDrive/libros/estadistica2taller1/Combinado.csv</td></tr>\n",
       "\t<tr><td> 5489</td><td>2</td><td>1/0/T/F/TRUE/FALSE</td><td>1300000</td><td>C:/Users/juand/OneDrive/libros/estadistica2taller1/Combinado.csv</td></tr>\n",
       "\t<tr><td> 6401</td><td>2</td><td>1/0/T/F/TRUE/FALSE</td><td>1000000</td><td>C:/Users/juand/OneDrive/libros/estadistica2taller1/Combinado.csv</td></tr>\n",
       "\t<tr><td> 6462</td><td>2</td><td>1/0/T/F/TRUE/FALSE</td><td>700000 </td><td>C:/Users/juand/OneDrive/libros/estadistica2taller1/Combinado.csv</td></tr>\n",
       "\t<tr><td> 8495</td><td>2</td><td>1/0/T/F/TRUE/FALSE</td><td>1300000</td><td>C:/Users/juand/OneDrive/libros/estadistica2taller1/Combinado.csv</td></tr>\n",
       "\t<tr><td> 9546</td><td>2</td><td>1/0/T/F/TRUE/FALSE</td><td>2500000</td><td>C:/Users/juand/OneDrive/libros/estadistica2taller1/Combinado.csv</td></tr>\n",
       "\t<tr><td>12128</td><td>2</td><td>1/0/T/F/TRUE/FALSE</td><td>650000 </td><td>C:/Users/juand/OneDrive/libros/estadistica2taller1/Combinado.csv</td></tr>\n",
       "\t<tr><td>12239</td><td>2</td><td>1/0/T/F/TRUE/FALSE</td><td>1300000</td><td>C:/Users/juand/OneDrive/libros/estadistica2taller1/Combinado.csv</td></tr>\n",
       "\t<tr><td>12346</td><td>2</td><td>1/0/T/F/TRUE/FALSE</td><td>970000 </td><td>C:/Users/juand/OneDrive/libros/estadistica2taller1/Combinado.csv</td></tr>\n",
       "\t<tr><td>13305</td><td>2</td><td>1/0/T/F/TRUE/FALSE</td><td>975000 </td><td>C:/Users/juand/OneDrive/libros/estadistica2taller1/Combinado.csv</td></tr>\n",
       "\t<tr><td>13690</td><td>2</td><td>1/0/T/F/TRUE/FALSE</td><td>975000 </td><td>C:/Users/juand/OneDrive/libros/estadistica2taller1/Combinado.csv</td></tr>\n",
       "\t<tr><td>14045</td><td>2</td><td>1/0/T/F/TRUE/FALSE</td><td>1300000</td><td>C:/Users/juand/OneDrive/libros/estadistica2taller1/Combinado.csv</td></tr>\n",
       "\t<tr><td>14213</td><td>2</td><td>1/0/T/F/TRUE/FALSE</td><td>700000 </td><td>C:/Users/juand/OneDrive/libros/estadistica2taller1/Combinado.csv</td></tr>\n",
       "\t<tr><td>14283</td><td>2</td><td>1/0/T/F/TRUE/FALSE</td><td>1260000</td><td>C:/Users/juand/OneDrive/libros/estadistica2taller1/Combinado.csv</td></tr>\n",
       "\t<tr><td>14847</td><td>2</td><td>1/0/T/F/TRUE/FALSE</td><td>975000 </td><td>C:/Users/juand/OneDrive/libros/estadistica2taller1/Combinado.csv</td></tr>\n",
       "\t<tr><td>14977</td><td>2</td><td>1/0/T/F/TRUE/FALSE</td><td>1300000</td><td>C:/Users/juand/OneDrive/libros/estadistica2taller1/Combinado.csv</td></tr>\n",
       "\t<tr><td>15054</td><td>2</td><td>1/0/T/F/TRUE/FALSE</td><td>975000 </td><td>C:/Users/juand/OneDrive/libros/estadistica2taller1/Combinado.csv</td></tr>\n",
       "\t<tr><td>15106</td><td>2</td><td>1/0/T/F/TRUE/FALSE</td><td>975000 </td><td>C:/Users/juand/OneDrive/libros/estadistica2taller1/Combinado.csv</td></tr>\n",
       "\t<tr><td>16878</td><td>2</td><td>1/0/T/F/TRUE/FALSE</td><td>975000 </td><td>C:/Users/juand/OneDrive/libros/estadistica2taller1/Combinado.csv</td></tr>\n",
       "\t<tr><td>17018</td><td>2</td><td>1/0/T/F/TRUE/FALSE</td><td>1300000</td><td>C:/Users/juand/OneDrive/libros/estadistica2taller1/Combinado.csv</td></tr>\n",
       "\t<tr><td>17852</td><td>2</td><td>1/0/T/F/TRUE/FALSE</td><td>1300000</td><td>C:/Users/juand/OneDrive/libros/estadistica2taller1/Combinado.csv</td></tr>\n",
       "\t<tr><td>⋮</td><td>⋮</td><td>⋮</td><td>⋮</td><td>⋮</td></tr>\n",
       "\t<tr><td>155286</td><td>2</td><td>1/0/T/F/TRUE/FALSE</td><td>650000 </td><td>C:/Users/juand/OneDrive/libros/estadistica2taller1/Combinado.csv</td></tr>\n",
       "\t<tr><td>155488</td><td>2</td><td>1/0/T/F/TRUE/FALSE</td><td>975000 </td><td>C:/Users/juand/OneDrive/libros/estadistica2taller1/Combinado.csv</td></tr>\n",
       "\t<tr><td>155728</td><td>2</td><td>1/0/T/F/TRUE/FALSE</td><td>500000 </td><td>C:/Users/juand/OneDrive/libros/estadistica2taller1/Combinado.csv</td></tr>\n",
       "\t<tr><td>156807</td><td>2</td><td>1/0/T/F/TRUE/FALSE</td><td>975000 </td><td>C:/Users/juand/OneDrive/libros/estadistica2taller1/Combinado.csv</td></tr>\n",
       "\t<tr><td>156855</td><td>2</td><td>1/0/T/F/TRUE/FALSE</td><td>800000 </td><td>C:/Users/juand/OneDrive/libros/estadistica2taller1/Combinado.csv</td></tr>\n",
       "\t<tr><td>157989</td><td>2</td><td>1/0/T/F/TRUE/FALSE</td><td>540000 </td><td>C:/Users/juand/OneDrive/libros/estadistica2taller1/Combinado.csv</td></tr>\n",
       "\t<tr><td>158060</td><td>2</td><td>1/0/T/F/TRUE/FALSE</td><td>850000 </td><td>C:/Users/juand/OneDrive/libros/estadistica2taller1/Combinado.csv</td></tr>\n",
       "\t<tr><td>158337</td><td>2</td><td>1/0/T/F/TRUE/FALSE</td><td>250000 </td><td>C:/Users/juand/OneDrive/libros/estadistica2taller1/Combinado.csv</td></tr>\n",
       "\t<tr><td>159135</td><td>2</td><td>1/0/T/F/TRUE/FALSE</td><td>975000 </td><td>C:/Users/juand/OneDrive/libros/estadistica2taller1/Combinado.csv</td></tr>\n",
       "\t<tr><td>160944</td><td>2</td><td>1/0/T/F/TRUE/FALSE</td><td>1300000</td><td>C:/Users/juand/OneDrive/libros/estadistica2taller1/Combinado.csv</td></tr>\n",
       "\t<tr><td>161023</td><td>2</td><td>1/0/T/F/TRUE/FALSE</td><td>1300000</td><td>C:/Users/juand/OneDrive/libros/estadistica2taller1/Combinado.csv</td></tr>\n",
       "\t<tr><td>161035</td><td>2</td><td>1/0/T/F/TRUE/FALSE</td><td>1300000</td><td>C:/Users/juand/OneDrive/libros/estadistica2taller1/Combinado.csv</td></tr>\n",
       "\t<tr><td>161108</td><td>2</td><td>1/0/T/F/TRUE/FALSE</td><td>1950000</td><td>C:/Users/juand/OneDrive/libros/estadistica2taller1/Combinado.csv</td></tr>\n",
       "\t<tr><td>161568</td><td>2</td><td>1/0/T/F/TRUE/FALSE</td><td>1300000</td><td>C:/Users/juand/OneDrive/libros/estadistica2taller1/Combinado.csv</td></tr>\n",
       "\t<tr><td>161608</td><td>2</td><td>1/0/T/F/TRUE/FALSE</td><td>980000 </td><td>C:/Users/juand/OneDrive/libros/estadistica2taller1/Combinado.csv</td></tr>\n",
       "\t<tr><td>161651</td><td>2</td><td>1/0/T/F/TRUE/FALSE</td><td>900000 </td><td>C:/Users/juand/OneDrive/libros/estadistica2taller1/Combinado.csv</td></tr>\n",
       "\t<tr><td>161927</td><td>2</td><td>1/0/T/F/TRUE/FALSE</td><td>900000 </td><td>C:/Users/juand/OneDrive/libros/estadistica2taller1/Combinado.csv</td></tr>\n",
       "\t<tr><td>161970</td><td>2</td><td>1/0/T/F/TRUE/FALSE</td><td>975000 </td><td>C:/Users/juand/OneDrive/libros/estadistica2taller1/Combinado.csv</td></tr>\n",
       "\t<tr><td>162033</td><td>2</td><td>1/0/T/F/TRUE/FALSE</td><td>975000 </td><td>C:/Users/juand/OneDrive/libros/estadistica2taller1/Combinado.csv</td></tr>\n",
       "\t<tr><td>162067</td><td>2</td><td>1/0/T/F/TRUE/FALSE</td><td>975000 </td><td>C:/Users/juand/OneDrive/libros/estadistica2taller1/Combinado.csv</td></tr>\n",
       "\t<tr><td>162178</td><td>2</td><td>1/0/T/F/TRUE/FALSE</td><td>987000 </td><td>C:/Users/juand/OneDrive/libros/estadistica2taller1/Combinado.csv</td></tr>\n",
       "\t<tr><td>162253</td><td>2</td><td>1/0/T/F/TRUE/FALSE</td><td>1300000</td><td>C:/Users/juand/OneDrive/libros/estadistica2taller1/Combinado.csv</td></tr>\n",
       "\t<tr><td>162332</td><td>2</td><td>1/0/T/F/TRUE/FALSE</td><td>975000 </td><td>C:/Users/juand/OneDrive/libros/estadistica2taller1/Combinado.csv</td></tr>\n",
       "\t<tr><td>164030</td><td>2</td><td>1/0/T/F/TRUE/FALSE</td><td>1300000</td><td>C:/Users/juand/OneDrive/libros/estadistica2taller1/Combinado.csv</td></tr>\n",
       "\t<tr><td>164089</td><td>2</td><td>1/0/T/F/TRUE/FALSE</td><td>1300000</td><td>C:/Users/juand/OneDrive/libros/estadistica2taller1/Combinado.csv</td></tr>\n",
       "\t<tr><td>164108</td><td>2</td><td>1/0/T/F/TRUE/FALSE</td><td>1300000</td><td>C:/Users/juand/OneDrive/libros/estadistica2taller1/Combinado.csv</td></tr>\n",
       "\t<tr><td>164724</td><td>2</td><td>1/0/T/F/TRUE/FALSE</td><td>1300000</td><td>C:/Users/juand/OneDrive/libros/estadistica2taller1/Combinado.csv</td></tr>\n",
       "\t<tr><td>164917</td><td>2</td><td>1/0/T/F/TRUE/FALSE</td><td>650000 </td><td>C:/Users/juand/OneDrive/libros/estadistica2taller1/Combinado.csv</td></tr>\n",
       "\t<tr><td>165411</td><td>2</td><td>1/0/T/F/TRUE/FALSE</td><td>975000 </td><td>C:/Users/juand/OneDrive/libros/estadistica2taller1/Combinado.csv</td></tr>\n",
       "\t<tr><td>165521</td><td>2</td><td>1/0/T/F/TRUE/FALSE</td><td>1300000</td><td>C:/Users/juand/OneDrive/libros/estadistica2taller1/Combinado.csv</td></tr>\n",
       "</tbody>\n",
       "</table>\n"
      ],
      "text/latex": [
       "A tibble: 336 × 5\n",
       "\\begin{tabular}{lllll}\n",
       " row & col & expected & actual & file\\\\\n",
       " <int> & <int> & <chr> & <chr> & <chr>\\\\\n",
       "\\hline\n",
       "\t   199 & 2 & 1/0/T/F/TRUE/FALSE & 1300000 & C:/Users/juand/OneDrive/libros/estadistica2taller1/Combinado.csv\\\\\n",
       "\t   662 & 2 & 1/0/T/F/TRUE/FALSE & 1200000 & C:/Users/juand/OneDrive/libros/estadistica2taller1/Combinado.csv\\\\\n",
       "\t   793 & 2 & 1/0/T/F/TRUE/FALSE & 800000  & C:/Users/juand/OneDrive/libros/estadistica2taller1/Combinado.csv\\\\\n",
       "\t  1609 & 2 & 1/0/T/F/TRUE/FALSE & 80000   & C:/Users/juand/OneDrive/libros/estadistica2taller1/Combinado.csv\\\\\n",
       "\t  1617 & 2 & 1/0/T/F/TRUE/FALSE & 900000  & C:/Users/juand/OneDrive/libros/estadistica2taller1/Combinado.csv\\\\\n",
       "\t  2561 & 2 & 1/0/T/F/TRUE/FALSE & 780000  & C:/Users/juand/OneDrive/libros/estadistica2taller1/Combinado.csv\\\\\n",
       "\t  3524 & 2 & 1/0/T/F/TRUE/FALSE & 200000  & C:/Users/juand/OneDrive/libros/estadistica2taller1/Combinado.csv\\\\\n",
       "\t  4169 & 2 & 1/0/T/F/TRUE/FALSE & 1800000 & C:/Users/juand/OneDrive/libros/estadistica2taller1/Combinado.csv\\\\\n",
       "\t  4199 & 2 & 1/0/T/F/TRUE/FALSE & 960000  & C:/Users/juand/OneDrive/libros/estadistica2taller1/Combinado.csv\\\\\n",
       "\t  5175 & 2 & 1/0/T/F/TRUE/FALSE & 1462000 & C:/Users/juand/OneDrive/libros/estadistica2taller1/Combinado.csv\\\\\n",
       "\t  5489 & 2 & 1/0/T/F/TRUE/FALSE & 1300000 & C:/Users/juand/OneDrive/libros/estadistica2taller1/Combinado.csv\\\\\n",
       "\t  6401 & 2 & 1/0/T/F/TRUE/FALSE & 1000000 & C:/Users/juand/OneDrive/libros/estadistica2taller1/Combinado.csv\\\\\n",
       "\t  6462 & 2 & 1/0/T/F/TRUE/FALSE & 700000  & C:/Users/juand/OneDrive/libros/estadistica2taller1/Combinado.csv\\\\\n",
       "\t  8495 & 2 & 1/0/T/F/TRUE/FALSE & 1300000 & C:/Users/juand/OneDrive/libros/estadistica2taller1/Combinado.csv\\\\\n",
       "\t  9546 & 2 & 1/0/T/F/TRUE/FALSE & 2500000 & C:/Users/juand/OneDrive/libros/estadistica2taller1/Combinado.csv\\\\\n",
       "\t 12128 & 2 & 1/0/T/F/TRUE/FALSE & 650000  & C:/Users/juand/OneDrive/libros/estadistica2taller1/Combinado.csv\\\\\n",
       "\t 12239 & 2 & 1/0/T/F/TRUE/FALSE & 1300000 & C:/Users/juand/OneDrive/libros/estadistica2taller1/Combinado.csv\\\\\n",
       "\t 12346 & 2 & 1/0/T/F/TRUE/FALSE & 970000  & C:/Users/juand/OneDrive/libros/estadistica2taller1/Combinado.csv\\\\\n",
       "\t 13305 & 2 & 1/0/T/F/TRUE/FALSE & 975000  & C:/Users/juand/OneDrive/libros/estadistica2taller1/Combinado.csv\\\\\n",
       "\t 13690 & 2 & 1/0/T/F/TRUE/FALSE & 975000  & C:/Users/juand/OneDrive/libros/estadistica2taller1/Combinado.csv\\\\\n",
       "\t 14045 & 2 & 1/0/T/F/TRUE/FALSE & 1300000 & C:/Users/juand/OneDrive/libros/estadistica2taller1/Combinado.csv\\\\\n",
       "\t 14213 & 2 & 1/0/T/F/TRUE/FALSE & 700000  & C:/Users/juand/OneDrive/libros/estadistica2taller1/Combinado.csv\\\\\n",
       "\t 14283 & 2 & 1/0/T/F/TRUE/FALSE & 1260000 & C:/Users/juand/OneDrive/libros/estadistica2taller1/Combinado.csv\\\\\n",
       "\t 14847 & 2 & 1/0/T/F/TRUE/FALSE & 975000  & C:/Users/juand/OneDrive/libros/estadistica2taller1/Combinado.csv\\\\\n",
       "\t 14977 & 2 & 1/0/T/F/TRUE/FALSE & 1300000 & C:/Users/juand/OneDrive/libros/estadistica2taller1/Combinado.csv\\\\\n",
       "\t 15054 & 2 & 1/0/T/F/TRUE/FALSE & 975000  & C:/Users/juand/OneDrive/libros/estadistica2taller1/Combinado.csv\\\\\n",
       "\t 15106 & 2 & 1/0/T/F/TRUE/FALSE & 975000  & C:/Users/juand/OneDrive/libros/estadistica2taller1/Combinado.csv\\\\\n",
       "\t 16878 & 2 & 1/0/T/F/TRUE/FALSE & 975000  & C:/Users/juand/OneDrive/libros/estadistica2taller1/Combinado.csv\\\\\n",
       "\t 17018 & 2 & 1/0/T/F/TRUE/FALSE & 1300000 & C:/Users/juand/OneDrive/libros/estadistica2taller1/Combinado.csv\\\\\n",
       "\t 17852 & 2 & 1/0/T/F/TRUE/FALSE & 1300000 & C:/Users/juand/OneDrive/libros/estadistica2taller1/Combinado.csv\\\\\n",
       "\t ⋮ & ⋮ & ⋮ & ⋮ & ⋮\\\\\n",
       "\t 155286 & 2 & 1/0/T/F/TRUE/FALSE & 650000  & C:/Users/juand/OneDrive/libros/estadistica2taller1/Combinado.csv\\\\\n",
       "\t 155488 & 2 & 1/0/T/F/TRUE/FALSE & 975000  & C:/Users/juand/OneDrive/libros/estadistica2taller1/Combinado.csv\\\\\n",
       "\t 155728 & 2 & 1/0/T/F/TRUE/FALSE & 500000  & C:/Users/juand/OneDrive/libros/estadistica2taller1/Combinado.csv\\\\\n",
       "\t 156807 & 2 & 1/0/T/F/TRUE/FALSE & 975000  & C:/Users/juand/OneDrive/libros/estadistica2taller1/Combinado.csv\\\\\n",
       "\t 156855 & 2 & 1/0/T/F/TRUE/FALSE & 800000  & C:/Users/juand/OneDrive/libros/estadistica2taller1/Combinado.csv\\\\\n",
       "\t 157989 & 2 & 1/0/T/F/TRUE/FALSE & 540000  & C:/Users/juand/OneDrive/libros/estadistica2taller1/Combinado.csv\\\\\n",
       "\t 158060 & 2 & 1/0/T/F/TRUE/FALSE & 850000  & C:/Users/juand/OneDrive/libros/estadistica2taller1/Combinado.csv\\\\\n",
       "\t 158337 & 2 & 1/0/T/F/TRUE/FALSE & 250000  & C:/Users/juand/OneDrive/libros/estadistica2taller1/Combinado.csv\\\\\n",
       "\t 159135 & 2 & 1/0/T/F/TRUE/FALSE & 975000  & C:/Users/juand/OneDrive/libros/estadistica2taller1/Combinado.csv\\\\\n",
       "\t 160944 & 2 & 1/0/T/F/TRUE/FALSE & 1300000 & C:/Users/juand/OneDrive/libros/estadistica2taller1/Combinado.csv\\\\\n",
       "\t 161023 & 2 & 1/0/T/F/TRUE/FALSE & 1300000 & C:/Users/juand/OneDrive/libros/estadistica2taller1/Combinado.csv\\\\\n",
       "\t 161035 & 2 & 1/0/T/F/TRUE/FALSE & 1300000 & C:/Users/juand/OneDrive/libros/estadistica2taller1/Combinado.csv\\\\\n",
       "\t 161108 & 2 & 1/0/T/F/TRUE/FALSE & 1950000 & C:/Users/juand/OneDrive/libros/estadistica2taller1/Combinado.csv\\\\\n",
       "\t 161568 & 2 & 1/0/T/F/TRUE/FALSE & 1300000 & C:/Users/juand/OneDrive/libros/estadistica2taller1/Combinado.csv\\\\\n",
       "\t 161608 & 2 & 1/0/T/F/TRUE/FALSE & 980000  & C:/Users/juand/OneDrive/libros/estadistica2taller1/Combinado.csv\\\\\n",
       "\t 161651 & 2 & 1/0/T/F/TRUE/FALSE & 900000  & C:/Users/juand/OneDrive/libros/estadistica2taller1/Combinado.csv\\\\\n",
       "\t 161927 & 2 & 1/0/T/F/TRUE/FALSE & 900000  & C:/Users/juand/OneDrive/libros/estadistica2taller1/Combinado.csv\\\\\n",
       "\t 161970 & 2 & 1/0/T/F/TRUE/FALSE & 975000  & C:/Users/juand/OneDrive/libros/estadistica2taller1/Combinado.csv\\\\\n",
       "\t 162033 & 2 & 1/0/T/F/TRUE/FALSE & 975000  & C:/Users/juand/OneDrive/libros/estadistica2taller1/Combinado.csv\\\\\n",
       "\t 162067 & 2 & 1/0/T/F/TRUE/FALSE & 975000  & C:/Users/juand/OneDrive/libros/estadistica2taller1/Combinado.csv\\\\\n",
       "\t 162178 & 2 & 1/0/T/F/TRUE/FALSE & 987000  & C:/Users/juand/OneDrive/libros/estadistica2taller1/Combinado.csv\\\\\n",
       "\t 162253 & 2 & 1/0/T/F/TRUE/FALSE & 1300000 & C:/Users/juand/OneDrive/libros/estadistica2taller1/Combinado.csv\\\\\n",
       "\t 162332 & 2 & 1/0/T/F/TRUE/FALSE & 975000  & C:/Users/juand/OneDrive/libros/estadistica2taller1/Combinado.csv\\\\\n",
       "\t 164030 & 2 & 1/0/T/F/TRUE/FALSE & 1300000 & C:/Users/juand/OneDrive/libros/estadistica2taller1/Combinado.csv\\\\\n",
       "\t 164089 & 2 & 1/0/T/F/TRUE/FALSE & 1300000 & C:/Users/juand/OneDrive/libros/estadistica2taller1/Combinado.csv\\\\\n",
       "\t 164108 & 2 & 1/0/T/F/TRUE/FALSE & 1300000 & C:/Users/juand/OneDrive/libros/estadistica2taller1/Combinado.csv\\\\\n",
       "\t 164724 & 2 & 1/0/T/F/TRUE/FALSE & 1300000 & C:/Users/juand/OneDrive/libros/estadistica2taller1/Combinado.csv\\\\\n",
       "\t 164917 & 2 & 1/0/T/F/TRUE/FALSE & 650000  & C:/Users/juand/OneDrive/libros/estadistica2taller1/Combinado.csv\\\\\n",
       "\t 165411 & 2 & 1/0/T/F/TRUE/FALSE & 975000  & C:/Users/juand/OneDrive/libros/estadistica2taller1/Combinado.csv\\\\\n",
       "\t 165521 & 2 & 1/0/T/F/TRUE/FALSE & 1300000 & C:/Users/juand/OneDrive/libros/estadistica2taller1/Combinado.csv\\\\\n",
       "\\end{tabular}\n"
      ],
      "text/markdown": [
       "\n",
       "A tibble: 336 × 5\n",
       "\n",
       "| row &lt;int&gt; | col &lt;int&gt; | expected &lt;chr&gt; | actual &lt;chr&gt; | file &lt;chr&gt; |\n",
       "|---|---|---|---|---|\n",
       "|   199 | 2 | 1/0/T/F/TRUE/FALSE | 1300000 | C:/Users/juand/OneDrive/libros/estadistica2taller1/Combinado.csv |\n",
       "|   662 | 2 | 1/0/T/F/TRUE/FALSE | 1200000 | C:/Users/juand/OneDrive/libros/estadistica2taller1/Combinado.csv |\n",
       "|   793 | 2 | 1/0/T/F/TRUE/FALSE | 800000  | C:/Users/juand/OneDrive/libros/estadistica2taller1/Combinado.csv |\n",
       "|  1609 | 2 | 1/0/T/F/TRUE/FALSE | 80000   | C:/Users/juand/OneDrive/libros/estadistica2taller1/Combinado.csv |\n",
       "|  1617 | 2 | 1/0/T/F/TRUE/FALSE | 900000  | C:/Users/juand/OneDrive/libros/estadistica2taller1/Combinado.csv |\n",
       "|  2561 | 2 | 1/0/T/F/TRUE/FALSE | 780000  | C:/Users/juand/OneDrive/libros/estadistica2taller1/Combinado.csv |\n",
       "|  3524 | 2 | 1/0/T/F/TRUE/FALSE | 200000  | C:/Users/juand/OneDrive/libros/estadistica2taller1/Combinado.csv |\n",
       "|  4169 | 2 | 1/0/T/F/TRUE/FALSE | 1800000 | C:/Users/juand/OneDrive/libros/estadistica2taller1/Combinado.csv |\n",
       "|  4199 | 2 | 1/0/T/F/TRUE/FALSE | 960000  | C:/Users/juand/OneDrive/libros/estadistica2taller1/Combinado.csv |\n",
       "|  5175 | 2 | 1/0/T/F/TRUE/FALSE | 1462000 | C:/Users/juand/OneDrive/libros/estadistica2taller1/Combinado.csv |\n",
       "|  5489 | 2 | 1/0/T/F/TRUE/FALSE | 1300000 | C:/Users/juand/OneDrive/libros/estadistica2taller1/Combinado.csv |\n",
       "|  6401 | 2 | 1/0/T/F/TRUE/FALSE | 1000000 | C:/Users/juand/OneDrive/libros/estadistica2taller1/Combinado.csv |\n",
       "|  6462 | 2 | 1/0/T/F/TRUE/FALSE | 700000  | C:/Users/juand/OneDrive/libros/estadistica2taller1/Combinado.csv |\n",
       "|  8495 | 2 | 1/0/T/F/TRUE/FALSE | 1300000 | C:/Users/juand/OneDrive/libros/estadistica2taller1/Combinado.csv |\n",
       "|  9546 | 2 | 1/0/T/F/TRUE/FALSE | 2500000 | C:/Users/juand/OneDrive/libros/estadistica2taller1/Combinado.csv |\n",
       "| 12128 | 2 | 1/0/T/F/TRUE/FALSE | 650000  | C:/Users/juand/OneDrive/libros/estadistica2taller1/Combinado.csv |\n",
       "| 12239 | 2 | 1/0/T/F/TRUE/FALSE | 1300000 | C:/Users/juand/OneDrive/libros/estadistica2taller1/Combinado.csv |\n",
       "| 12346 | 2 | 1/0/T/F/TRUE/FALSE | 970000  | C:/Users/juand/OneDrive/libros/estadistica2taller1/Combinado.csv |\n",
       "| 13305 | 2 | 1/0/T/F/TRUE/FALSE | 975000  | C:/Users/juand/OneDrive/libros/estadistica2taller1/Combinado.csv |\n",
       "| 13690 | 2 | 1/0/T/F/TRUE/FALSE | 975000  | C:/Users/juand/OneDrive/libros/estadistica2taller1/Combinado.csv |\n",
       "| 14045 | 2 | 1/0/T/F/TRUE/FALSE | 1300000 | C:/Users/juand/OneDrive/libros/estadistica2taller1/Combinado.csv |\n",
       "| 14213 | 2 | 1/0/T/F/TRUE/FALSE | 700000  | C:/Users/juand/OneDrive/libros/estadistica2taller1/Combinado.csv |\n",
       "| 14283 | 2 | 1/0/T/F/TRUE/FALSE | 1260000 | C:/Users/juand/OneDrive/libros/estadistica2taller1/Combinado.csv |\n",
       "| 14847 | 2 | 1/0/T/F/TRUE/FALSE | 975000  | C:/Users/juand/OneDrive/libros/estadistica2taller1/Combinado.csv |\n",
       "| 14977 | 2 | 1/0/T/F/TRUE/FALSE | 1300000 | C:/Users/juand/OneDrive/libros/estadistica2taller1/Combinado.csv |\n",
       "| 15054 | 2 | 1/0/T/F/TRUE/FALSE | 975000  | C:/Users/juand/OneDrive/libros/estadistica2taller1/Combinado.csv |\n",
       "| 15106 | 2 | 1/0/T/F/TRUE/FALSE | 975000  | C:/Users/juand/OneDrive/libros/estadistica2taller1/Combinado.csv |\n",
       "| 16878 | 2 | 1/0/T/F/TRUE/FALSE | 975000  | C:/Users/juand/OneDrive/libros/estadistica2taller1/Combinado.csv |\n",
       "| 17018 | 2 | 1/0/T/F/TRUE/FALSE | 1300000 | C:/Users/juand/OneDrive/libros/estadistica2taller1/Combinado.csv |\n",
       "| 17852 | 2 | 1/0/T/F/TRUE/FALSE | 1300000 | C:/Users/juand/OneDrive/libros/estadistica2taller1/Combinado.csv |\n",
       "| ⋮ | ⋮ | ⋮ | ⋮ | ⋮ |\n",
       "| 155286 | 2 | 1/0/T/F/TRUE/FALSE | 650000  | C:/Users/juand/OneDrive/libros/estadistica2taller1/Combinado.csv |\n",
       "| 155488 | 2 | 1/0/T/F/TRUE/FALSE | 975000  | C:/Users/juand/OneDrive/libros/estadistica2taller1/Combinado.csv |\n",
       "| 155728 | 2 | 1/0/T/F/TRUE/FALSE | 500000  | C:/Users/juand/OneDrive/libros/estadistica2taller1/Combinado.csv |\n",
       "| 156807 | 2 | 1/0/T/F/TRUE/FALSE | 975000  | C:/Users/juand/OneDrive/libros/estadistica2taller1/Combinado.csv |\n",
       "| 156855 | 2 | 1/0/T/F/TRUE/FALSE | 800000  | C:/Users/juand/OneDrive/libros/estadistica2taller1/Combinado.csv |\n",
       "| 157989 | 2 | 1/0/T/F/TRUE/FALSE | 540000  | C:/Users/juand/OneDrive/libros/estadistica2taller1/Combinado.csv |\n",
       "| 158060 | 2 | 1/0/T/F/TRUE/FALSE | 850000  | C:/Users/juand/OneDrive/libros/estadistica2taller1/Combinado.csv |\n",
       "| 158337 | 2 | 1/0/T/F/TRUE/FALSE | 250000  | C:/Users/juand/OneDrive/libros/estadistica2taller1/Combinado.csv |\n",
       "| 159135 | 2 | 1/0/T/F/TRUE/FALSE | 975000  | C:/Users/juand/OneDrive/libros/estadistica2taller1/Combinado.csv |\n",
       "| 160944 | 2 | 1/0/T/F/TRUE/FALSE | 1300000 | C:/Users/juand/OneDrive/libros/estadistica2taller1/Combinado.csv |\n",
       "| 161023 | 2 | 1/0/T/F/TRUE/FALSE | 1300000 | C:/Users/juand/OneDrive/libros/estadistica2taller1/Combinado.csv |\n",
       "| 161035 | 2 | 1/0/T/F/TRUE/FALSE | 1300000 | C:/Users/juand/OneDrive/libros/estadistica2taller1/Combinado.csv |\n",
       "| 161108 | 2 | 1/0/T/F/TRUE/FALSE | 1950000 | C:/Users/juand/OneDrive/libros/estadistica2taller1/Combinado.csv |\n",
       "| 161568 | 2 | 1/0/T/F/TRUE/FALSE | 1300000 | C:/Users/juand/OneDrive/libros/estadistica2taller1/Combinado.csv |\n",
       "| 161608 | 2 | 1/0/T/F/TRUE/FALSE | 980000  | C:/Users/juand/OneDrive/libros/estadistica2taller1/Combinado.csv |\n",
       "| 161651 | 2 | 1/0/T/F/TRUE/FALSE | 900000  | C:/Users/juand/OneDrive/libros/estadistica2taller1/Combinado.csv |\n",
       "| 161927 | 2 | 1/0/T/F/TRUE/FALSE | 900000  | C:/Users/juand/OneDrive/libros/estadistica2taller1/Combinado.csv |\n",
       "| 161970 | 2 | 1/0/T/F/TRUE/FALSE | 975000  | C:/Users/juand/OneDrive/libros/estadistica2taller1/Combinado.csv |\n",
       "| 162033 | 2 | 1/0/T/F/TRUE/FALSE | 975000  | C:/Users/juand/OneDrive/libros/estadistica2taller1/Combinado.csv |\n",
       "| 162067 | 2 | 1/0/T/F/TRUE/FALSE | 975000  | C:/Users/juand/OneDrive/libros/estadistica2taller1/Combinado.csv |\n",
       "| 162178 | 2 | 1/0/T/F/TRUE/FALSE | 987000  | C:/Users/juand/OneDrive/libros/estadistica2taller1/Combinado.csv |\n",
       "| 162253 | 2 | 1/0/T/F/TRUE/FALSE | 1300000 | C:/Users/juand/OneDrive/libros/estadistica2taller1/Combinado.csv |\n",
       "| 162332 | 2 | 1/0/T/F/TRUE/FALSE | 975000  | C:/Users/juand/OneDrive/libros/estadistica2taller1/Combinado.csv |\n",
       "| 164030 | 2 | 1/0/T/F/TRUE/FALSE | 1300000 | C:/Users/juand/OneDrive/libros/estadistica2taller1/Combinado.csv |\n",
       "| 164089 | 2 | 1/0/T/F/TRUE/FALSE | 1300000 | C:/Users/juand/OneDrive/libros/estadistica2taller1/Combinado.csv |\n",
       "| 164108 | 2 | 1/0/T/F/TRUE/FALSE | 1300000 | C:/Users/juand/OneDrive/libros/estadistica2taller1/Combinado.csv |\n",
       "| 164724 | 2 | 1/0/T/F/TRUE/FALSE | 1300000 | C:/Users/juand/OneDrive/libros/estadistica2taller1/Combinado.csv |\n",
       "| 164917 | 2 | 1/0/T/F/TRUE/FALSE | 650000  | C:/Users/juand/OneDrive/libros/estadistica2taller1/Combinado.csv |\n",
       "| 165411 | 2 | 1/0/T/F/TRUE/FALSE | 975000  | C:/Users/juand/OneDrive/libros/estadistica2taller1/Combinado.csv |\n",
       "| 165521 | 2 | 1/0/T/F/TRUE/FALSE | 1300000 | C:/Users/juand/OneDrive/libros/estadistica2taller1/Combinado.csv |\n",
       "\n"
      ],
      "text/plain": [
       "    row    col expected           actual \n",
       "1     199  2   1/0/T/F/TRUE/FALSE 1300000\n",
       "2     662  2   1/0/T/F/TRUE/FALSE 1200000\n",
       "3     793  2   1/0/T/F/TRUE/FALSE 800000 \n",
       "4    1609  2   1/0/T/F/TRUE/FALSE 80000  \n",
       "5    1617  2   1/0/T/F/TRUE/FALSE 900000 \n",
       "6    2561  2   1/0/T/F/TRUE/FALSE 780000 \n",
       "7    3524  2   1/0/T/F/TRUE/FALSE 200000 \n",
       "8    4169  2   1/0/T/F/TRUE/FALSE 1800000\n",
       "9    4199  2   1/0/T/F/TRUE/FALSE 960000 \n",
       "10   5175  2   1/0/T/F/TRUE/FALSE 1462000\n",
       "11   5489  2   1/0/T/F/TRUE/FALSE 1300000\n",
       "12   6401  2   1/0/T/F/TRUE/FALSE 1000000\n",
       "13   6462  2   1/0/T/F/TRUE/FALSE 700000 \n",
       "14   8495  2   1/0/T/F/TRUE/FALSE 1300000\n",
       "15   9546  2   1/0/T/F/TRUE/FALSE 2500000\n",
       "16  12128  2   1/0/T/F/TRUE/FALSE 650000 \n",
       "17  12239  2   1/0/T/F/TRUE/FALSE 1300000\n",
       "18  12346  2   1/0/T/F/TRUE/FALSE 970000 \n",
       "19  13305  2   1/0/T/F/TRUE/FALSE 975000 \n",
       "20  13690  2   1/0/T/F/TRUE/FALSE 975000 \n",
       "21  14045  2   1/0/T/F/TRUE/FALSE 1300000\n",
       "22  14213  2   1/0/T/F/TRUE/FALSE 700000 \n",
       "23  14283  2   1/0/T/F/TRUE/FALSE 1260000\n",
       "24  14847  2   1/0/T/F/TRUE/FALSE 975000 \n",
       "25  14977  2   1/0/T/F/TRUE/FALSE 1300000\n",
       "26  15054  2   1/0/T/F/TRUE/FALSE 975000 \n",
       "27  15106  2   1/0/T/F/TRUE/FALSE 975000 \n",
       "28  16878  2   1/0/T/F/TRUE/FALSE 975000 \n",
       "29  17018  2   1/0/T/F/TRUE/FALSE 1300000\n",
       "30  17852  2   1/0/T/F/TRUE/FALSE 1300000\n",
       "⋮   ⋮      ⋮   ⋮                  ⋮      \n",
       "307 155286 2   1/0/T/F/TRUE/FALSE 650000 \n",
       "308 155488 2   1/0/T/F/TRUE/FALSE 975000 \n",
       "309 155728 2   1/0/T/F/TRUE/FALSE 500000 \n",
       "310 156807 2   1/0/T/F/TRUE/FALSE 975000 \n",
       "311 156855 2   1/0/T/F/TRUE/FALSE 800000 \n",
       "312 157989 2   1/0/T/F/TRUE/FALSE 540000 \n",
       "313 158060 2   1/0/T/F/TRUE/FALSE 850000 \n",
       "314 158337 2   1/0/T/F/TRUE/FALSE 250000 \n",
       "315 159135 2   1/0/T/F/TRUE/FALSE 975000 \n",
       "316 160944 2   1/0/T/F/TRUE/FALSE 1300000\n",
       "317 161023 2   1/0/T/F/TRUE/FALSE 1300000\n",
       "318 161035 2   1/0/T/F/TRUE/FALSE 1300000\n",
       "319 161108 2   1/0/T/F/TRUE/FALSE 1950000\n",
       "320 161568 2   1/0/T/F/TRUE/FALSE 1300000\n",
       "321 161608 2   1/0/T/F/TRUE/FALSE 980000 \n",
       "322 161651 2   1/0/T/F/TRUE/FALSE 900000 \n",
       "323 161927 2   1/0/T/F/TRUE/FALSE 900000 \n",
       "324 161970 2   1/0/T/F/TRUE/FALSE 975000 \n",
       "325 162033 2   1/0/T/F/TRUE/FALSE 975000 \n",
       "326 162067 2   1/0/T/F/TRUE/FALSE 975000 \n",
       "327 162178 2   1/0/T/F/TRUE/FALSE 987000 \n",
       "328 162253 2   1/0/T/F/TRUE/FALSE 1300000\n",
       "329 162332 2   1/0/T/F/TRUE/FALSE 975000 \n",
       "330 164030 2   1/0/T/F/TRUE/FALSE 1300000\n",
       "331 164089 2   1/0/T/F/TRUE/FALSE 1300000\n",
       "332 164108 2   1/0/T/F/TRUE/FALSE 1300000\n",
       "333 164724 2   1/0/T/F/TRUE/FALSE 1300000\n",
       "334 164917 2   1/0/T/F/TRUE/FALSE 650000 \n",
       "335 165411 2   1/0/T/F/TRUE/FALSE 975000 \n",
       "336 165521 2   1/0/T/F/TRUE/FALSE 1300000\n",
       "    file                                                            \n",
       "1   C:/Users/juand/OneDrive/libros/estadistica2taller1/Combinado.csv\n",
       "2   C:/Users/juand/OneDrive/libros/estadistica2taller1/Combinado.csv\n",
       "3   C:/Users/juand/OneDrive/libros/estadistica2taller1/Combinado.csv\n",
       "4   C:/Users/juand/OneDrive/libros/estadistica2taller1/Combinado.csv\n",
       "5   C:/Users/juand/OneDrive/libros/estadistica2taller1/Combinado.csv\n",
       "6   C:/Users/juand/OneDrive/libros/estadistica2taller1/Combinado.csv\n",
       "7   C:/Users/juand/OneDrive/libros/estadistica2taller1/Combinado.csv\n",
       "8   C:/Users/juand/OneDrive/libros/estadistica2taller1/Combinado.csv\n",
       "9   C:/Users/juand/OneDrive/libros/estadistica2taller1/Combinado.csv\n",
       "10  C:/Users/juand/OneDrive/libros/estadistica2taller1/Combinado.csv\n",
       "11  C:/Users/juand/OneDrive/libros/estadistica2taller1/Combinado.csv\n",
       "12  C:/Users/juand/OneDrive/libros/estadistica2taller1/Combinado.csv\n",
       "13  C:/Users/juand/OneDrive/libros/estadistica2taller1/Combinado.csv\n",
       "14  C:/Users/juand/OneDrive/libros/estadistica2taller1/Combinado.csv\n",
       "15  C:/Users/juand/OneDrive/libros/estadistica2taller1/Combinado.csv\n",
       "16  C:/Users/juand/OneDrive/libros/estadistica2taller1/Combinado.csv\n",
       "17  C:/Users/juand/OneDrive/libros/estadistica2taller1/Combinado.csv\n",
       "18  C:/Users/juand/OneDrive/libros/estadistica2taller1/Combinado.csv\n",
       "19  C:/Users/juand/OneDrive/libros/estadistica2taller1/Combinado.csv\n",
       "20  C:/Users/juand/OneDrive/libros/estadistica2taller1/Combinado.csv\n",
       "21  C:/Users/juand/OneDrive/libros/estadistica2taller1/Combinado.csv\n",
       "22  C:/Users/juand/OneDrive/libros/estadistica2taller1/Combinado.csv\n",
       "23  C:/Users/juand/OneDrive/libros/estadistica2taller1/Combinado.csv\n",
       "24  C:/Users/juand/OneDrive/libros/estadistica2taller1/Combinado.csv\n",
       "25  C:/Users/juand/OneDrive/libros/estadistica2taller1/Combinado.csv\n",
       "26  C:/Users/juand/OneDrive/libros/estadistica2taller1/Combinado.csv\n",
       "27  C:/Users/juand/OneDrive/libros/estadistica2taller1/Combinado.csv\n",
       "28  C:/Users/juand/OneDrive/libros/estadistica2taller1/Combinado.csv\n",
       "29  C:/Users/juand/OneDrive/libros/estadistica2taller1/Combinado.csv\n",
       "30  C:/Users/juand/OneDrive/libros/estadistica2taller1/Combinado.csv\n",
       "⋮   ⋮                                                               \n",
       "307 C:/Users/juand/OneDrive/libros/estadistica2taller1/Combinado.csv\n",
       "308 C:/Users/juand/OneDrive/libros/estadistica2taller1/Combinado.csv\n",
       "309 C:/Users/juand/OneDrive/libros/estadistica2taller1/Combinado.csv\n",
       "310 C:/Users/juand/OneDrive/libros/estadistica2taller1/Combinado.csv\n",
       "311 C:/Users/juand/OneDrive/libros/estadistica2taller1/Combinado.csv\n",
       "312 C:/Users/juand/OneDrive/libros/estadistica2taller1/Combinado.csv\n",
       "313 C:/Users/juand/OneDrive/libros/estadistica2taller1/Combinado.csv\n",
       "314 C:/Users/juand/OneDrive/libros/estadistica2taller1/Combinado.csv\n",
       "315 C:/Users/juand/OneDrive/libros/estadistica2taller1/Combinado.csv\n",
       "316 C:/Users/juand/OneDrive/libros/estadistica2taller1/Combinado.csv\n",
       "317 C:/Users/juand/OneDrive/libros/estadistica2taller1/Combinado.csv\n",
       "318 C:/Users/juand/OneDrive/libros/estadistica2taller1/Combinado.csv\n",
       "319 C:/Users/juand/OneDrive/libros/estadistica2taller1/Combinado.csv\n",
       "320 C:/Users/juand/OneDrive/libros/estadistica2taller1/Combinado.csv\n",
       "321 C:/Users/juand/OneDrive/libros/estadistica2taller1/Combinado.csv\n",
       "322 C:/Users/juand/OneDrive/libros/estadistica2taller1/Combinado.csv\n",
       "323 C:/Users/juand/OneDrive/libros/estadistica2taller1/Combinado.csv\n",
       "324 C:/Users/juand/OneDrive/libros/estadistica2taller1/Combinado.csv\n",
       "325 C:/Users/juand/OneDrive/libros/estadistica2taller1/Combinado.csv\n",
       "326 C:/Users/juand/OneDrive/libros/estadistica2taller1/Combinado.csv\n",
       "327 C:/Users/juand/OneDrive/libros/estadistica2taller1/Combinado.csv\n",
       "328 C:/Users/juand/OneDrive/libros/estadistica2taller1/Combinado.csv\n",
       "329 C:/Users/juand/OneDrive/libros/estadistica2taller1/Combinado.csv\n",
       "330 C:/Users/juand/OneDrive/libros/estadistica2taller1/Combinado.csv\n",
       "331 C:/Users/juand/OneDrive/libros/estadistica2taller1/Combinado.csv\n",
       "332 C:/Users/juand/OneDrive/libros/estadistica2taller1/Combinado.csv\n",
       "333 C:/Users/juand/OneDrive/libros/estadistica2taller1/Combinado.csv\n",
       "334 C:/Users/juand/OneDrive/libros/estadistica2taller1/Combinado.csv\n",
       "335 C:/Users/juand/OneDrive/libros/estadistica2taller1/Combinado.csv\n",
       "336 C:/Users/juand/OneDrive/libros/estadistica2taller1/Combinado.csv"
      ]
     },
     "metadata": {},
     "output_type": "display_data"
    }
   ],
   "source": [
    "# inspección rápida\n",
    "summary(x_nonmiss)\n",
    "length(x_nonmiss)\n",
    "length(unique(x_nonmiss))\n",
    "sd(x_nonmiss)\n",
    "head(x_nonmiss, 20)\n",
    "problems(df)   # para ver issues de parsing\n"
   ]
  }
 ],
 "metadata": {
  "kernelspec": {
   "display_name": "R",
   "language": "R",
   "name": "ir"
  },
  "language_info": {
   "codemirror_mode": "r",
   "file_extension": ".r",
   "mimetype": "text/x-r-source",
   "name": "R",
   "pygments_lexer": "r",
   "version": "4.5.1"
  }
 },
 "nbformat": 4,
 "nbformat_minor": 5
}
